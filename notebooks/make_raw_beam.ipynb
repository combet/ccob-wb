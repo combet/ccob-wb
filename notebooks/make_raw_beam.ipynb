{
 "cells": [
  {
   "cell_type": "code",
   "execution_count": 1,
   "metadata": {},
   "outputs": [],
   "source": [
    "import sys\n",
    "sys.path.insert(0, '../')\n",
    "import ccob_qe_analysis as qe\n",
    "import ccob_utils as u\n",
    "import os\n",
    "import glob\n",
    "%load_ext autoreload\n",
    "%autoreload 2\n",
    "import matplotlib.pyplot as plt\n",
    "%matplotlib inline\n",
    "import numpy as np"
   ]
  },
  {
   "cell_type": "code",
   "execution_count": 2,
   "metadata": {},
   "outputs": [],
   "source": [
    "config = u.load_ccob_config(\"../ccob_config_MR.yaml\")"
   ]
  },
  {
   "cell_type": "code",
   "execution_count": 3,
   "metadata": {},
   "outputs": [],
   "source": [
    "import ccob_beam as beam"
   ]
  },
  {
   "cell_type": "markdown",
   "metadata": {},
   "source": [
    "#### Choose the LED used to reconstruct the beam among [nm960, nm850, nm750, red, blue, uv]"
   ]
  },
  {
   "cell_type": "code",
   "execution_count": 4,
   "metadata": {},
   "outputs": [],
   "source": [
    "config['tmp_dir']='/home/combet/tmp_MR/12x12/'\n",
    "config['led_name']='red'\n"
   ]
  },
  {
   "cell_type": "code",
   "execution_count": 5,
   "metadata": {},
   "outputs": [],
   "source": [
    "# Path to the data. Here 6593D is the run number.\n",
    "# R22, baffle off\n",
    "ref_raft = 'R22' # raft  \n",
    "ref_slot = 'S11' # ccd in ref_raft to use for the beam reconstruction (we'll use a buch of pixels in each amp of that CCD)\n",
    "baffle = 'off'\n",
    "dirlist=glob.glob('/gpfs/slac/lsst/fs3/g/data/jobHarness/jh_stage-test/LCA-10134_Cryostat/LCA-10134_Cryostat-0001/6680D/BOT_acq/v0/46569/ccob_'+config['led_name']+'*')\n",
    "\n",
    "# R22, baffle on\n",
    "# ref_raft = 'R22' # raft  \n",
    "# ref_slot = 'S11' # ccd in ref_raft to use for the beam reconstruction (we'll use a buch of pixels in each amp of that CCD)\n",
    "# baffle = 'on'\n",
    "# dirlist1=glob.glob('/gpfs/slac/lsst/fs3/g/data/jobHarness/jh_stage-test/LCA-10134_Cryostat/LCA-10134_Cryostat-0001/6681D/BOT_acq/v0/46576/ccob_'+config['led_name']+'*')\n",
    "# dirlist2=glob.glob('/gpfs/slac/lsst/fs3/g/data/jobHarness/jh_stage-test/LCA-10134_Cryostat/LCA-10134_Cryostat-0001/6682D/BOT_acq/v0/46581/ccob_'+config['led_name']+'*')\n",
    "# dirlist=sorted(dirlist1+dirlist2)\n",
    "\n",
    "# R10, baffle off\n",
    "# ref_raft = 'R10' # raft  \n",
    "# ref_slot = 'S20' # ccd in ref_raft to use for the beam reconstruction (we'll use a buch of pixels in each amp of that CCD)\n",
    "# baffle = 'off'\n",
    "# dirlist=glob.glob('/gpfs/slac/lsst/fs3/g/data/jobHarness/jh_stage-test/LCA-10134_Cryostat/LCA-10134_Cryostat-0001/6678D/BOT_acq/v0/46557/ccob_'+config['led_name']+'*')\n",
    "\n",
    "# R10, baffle on\n",
    "# ref_raft = 'R10' # raft  \n",
    "# ref_slot = 'S11' # ccd in ref_raft to use for the beam reconstruction (we'll use a buch of pixels in each amp of that CCD)\n",
    "# baffle = 'on'\n",
    "# dirlist=glob.glob('/gpfs/slac/lsst/fs3/g/data/jobHarness/jh_stage-test/LCA-10134_Cryostat/LCA-10134_Cryostat-0001/6683D/BOT_acq/v0/46587/ccob_'+config['led_name']+'*')"
   ]
  },
  {
   "cell_type": "code",
   "execution_count": 6,
   "metadata": {},
   "outputs": [
    {
     "data": {
      "text/plain": [
       "144"
      ]
     },
     "execution_count": 6,
     "metadata": {},
     "output_type": "execute_result"
    }
   ],
   "source": [
    "len(dirlist)"
   ]
  },
  {
   "cell_type": "markdown",
   "metadata": {},
   "source": [
    "### Fill in beam object with raw data, using the central bunch of pixels in each channel\n",
    "\n",
    "- ref_raft: either 'R10' (same as previous data) or 'R22' (central raft)\n",
    "- ref_ccd: from S00 to S22 (S11 is the central CCD of the raft). Choose the CCD where the centre of the scan is located"
   ]
  },
  {
   "cell_type": "code",
   "execution_count": 7,
   "metadata": {},
   "outputs": [],
   "source": [
    "b = beam.CcobBeam(config)"
   ]
  },
  {
   "cell_type": "code",
   "execution_count": 10,
   "metadata": {},
   "outputs": [
    {
     "name": "stdout",
     "output_type": "stream",
     "text": [
      "here\n",
      "here\n",
      "here\n"
     ]
    },
    {
     "ename": "AttributeError",
     "evalue": "module 'lsst.pex.exceptions' has no attribute 'LSST_RUNTIME_EXCEPTION'",
     "output_type": "error",
     "traceback": [
      "\u001b[0;31m\u001b[0m",
      "\u001b[0;31mKeyboardInterrupt\u001b[0mTraceback (most recent call last)",
      "\u001b[0;32m~/repos/eotest/python/lsst/eotest/sensor/MaskedCCD.py\u001b[0m in \u001b[0;36mbias_image_using_overscan\u001b[0;34m(self, amp, overscan, **kwargs)\u001b[0m\n\u001b[1;32m    161\u001b[0m         \u001b[0;32mtry\u001b[0m\u001b[0;34m:\u001b[0m\u001b[0;34m\u001b[0m\u001b[0;34m\u001b[0m\u001b[0m\n\u001b[0;32m--> 162\u001b[0;31m             \u001b[0;32mreturn\u001b[0m \u001b[0mimutils\u001b[0m\u001b[0;34m.\u001b[0m\u001b[0mbias_image\u001b[0m\u001b[0;34m(\u001b[0m\u001b[0mself\u001b[0m\u001b[0;34m[\u001b[0m\u001b[0mamp\u001b[0m\u001b[0;34m]\u001b[0m\u001b[0;34m,\u001b[0m \u001b[0moverscan\u001b[0m\u001b[0;34m=\u001b[0m\u001b[0moverscan\u001b[0m\u001b[0;34m,\u001b[0m \u001b[0;34m**\u001b[0m\u001b[0mkwargs\u001b[0m\u001b[0;34m)\u001b[0m\u001b[0;34m\u001b[0m\u001b[0;34m\u001b[0m\u001b[0m\n\u001b[0m\u001b[1;32m    163\u001b[0m         \u001b[0;32mexcept\u001b[0m \u001b[0mpexExcept\u001b[0m\u001b[0;34m.\u001b[0m\u001b[0mLSST_RUNTIME_EXCEPTION\u001b[0m \u001b[0;32mas\u001b[0m \u001b[0meobj\u001b[0m\u001b[0;34m:\u001b[0m\u001b[0;34m\u001b[0m\u001b[0;34m\u001b[0m\u001b[0m\n",
      "\u001b[0;32m~/repos/eotest/python/lsst/eotest/image_utils.py\u001b[0m in \u001b[0;36mbias_image\u001b[0;34m(im, overscan, dxmin, dxmax, statistic, bias_method, **kwargs)\u001b[0m\n\u001b[1;32m    217\u001b[0m     \u001b[0mmethod\u001b[0m \u001b[0;34m=\u001b[0m \u001b[0;34m{\u001b[0m\u001b[0;34m'mean'\u001b[0m \u001b[0;34m:\u001b[0m \u001b[0mbias\u001b[0m\u001b[0;34m,\u001b[0m \u001b[0;34m'row'\u001b[0m \u001b[0;34m:\u001b[0m \u001b[0mbias_row\u001b[0m\u001b[0;34m,\u001b[0m \u001b[0;34m'func'\u001b[0m \u001b[0;34m:\u001b[0m \u001b[0mbias_func\u001b[0m\u001b[0;34m,\u001b[0m \u001b[0;34m'spline'\u001b[0m \u001b[0;34m:\u001b[0m \u001b[0mbias_spline\u001b[0m\u001b[0;34m}\u001b[0m\u001b[0;34m\u001b[0m\u001b[0;34m\u001b[0m\u001b[0m\n\u001b[0;32m--> 218\u001b[0;31m     \u001b[0mmy_bias\u001b[0m \u001b[0;34m=\u001b[0m \u001b[0mmethod\u001b[0m\u001b[0;34m[\u001b[0m\u001b[0mbias_method\u001b[0m\u001b[0;34m]\u001b[0m\u001b[0;34m(\u001b[0m\u001b[0mim\u001b[0m\u001b[0;34m,\u001b[0m \u001b[0moverscan\u001b[0m\u001b[0;34m,\u001b[0m \u001b[0mdxmin\u001b[0m\u001b[0;34m=\u001b[0m\u001b[0mdxmin\u001b[0m\u001b[0;34m,\u001b[0m \u001b[0mdxmax\u001b[0m\u001b[0;34m=\u001b[0m\u001b[0mdxmax\u001b[0m\u001b[0;34m,\u001b[0m \u001b[0;34m**\u001b[0m\u001b[0mkwargs\u001b[0m\u001b[0;34m)\u001b[0m\u001b[0;34m\u001b[0m\u001b[0;34m\u001b[0m\u001b[0m\n\u001b[0m\u001b[1;32m    219\u001b[0m     \u001b[0mbiasim\u001b[0m \u001b[0;34m=\u001b[0m \u001b[0mafwImage\u001b[0m\u001b[0;34m.\u001b[0m\u001b[0mImageF\u001b[0m\u001b[0;34m(\u001b[0m\u001b[0mim\u001b[0m\u001b[0;34m.\u001b[0m\u001b[0mgetDimensions\u001b[0m\u001b[0;34m(\u001b[0m\u001b[0;34m)\u001b[0m\u001b[0;34m)\u001b[0m\u001b[0;34m\u001b[0m\u001b[0;34m\u001b[0m\u001b[0m\n",
      "\u001b[0;32m~/repos/eotest/python/lsst/eotest/image_utils.py\u001b[0m in \u001b[0;36mbias_row\u001b[0;34m(im, overscan, dxmin, dxmax, statistic, **kwargs)\u001b[0m\n\u001b[1;32m    116\u001b[0m     \u001b[0mrows\u001b[0m \u001b[0;34m=\u001b[0m \u001b[0mnp\u001b[0m\u001b[0;34m.\u001b[0m\u001b[0marange\u001b[0m\u001b[0;34m(\u001b[0m\u001b[0mny\u001b[0m\u001b[0;34m)\u001b[0m\u001b[0;34m\u001b[0m\u001b[0;34m\u001b[0m\u001b[0m\n\u001b[0;32m--> 117\u001b[0;31m     \u001b[0mvalues\u001b[0m \u001b[0;34m=\u001b[0m \u001b[0mnp\u001b[0m\u001b[0;34m.\u001b[0m\u001b[0marray\u001b[0m\u001b[0;34m(\u001b[0m\u001b[0;34m[\u001b[0m\u001b[0mstatistic\u001b[0m\u001b[0;34m(\u001b[0m\u001b[0mimarr\u001b[0m\u001b[0;34m[\u001b[0m\u001b[0mj\u001b[0m\u001b[0;34m]\u001b[0m\u001b[0;34m[\u001b[0m\u001b[0mdxmin\u001b[0m\u001b[0;34m:\u001b[0m\u001b[0;34m-\u001b[0m\u001b[0mdxmax\u001b[0m\u001b[0;34m]\u001b[0m\u001b[0;34m)\u001b[0m \u001b[0;32mfor\u001b[0m \u001b[0mj\u001b[0m \u001b[0;32min\u001b[0m \u001b[0mrows\u001b[0m\u001b[0;34m]\u001b[0m\u001b[0;34m)\u001b[0m\u001b[0;34m\u001b[0m\u001b[0;34m\u001b[0m\u001b[0m\n\u001b[0m\u001b[1;32m    118\u001b[0m     \u001b[0;32mreturn\u001b[0m \u001b[0;32mlambda\u001b[0m \u001b[0mx\u001b[0m\u001b[0;34m:\u001b[0m \u001b[0mvalues\u001b[0m\u001b[0;34m[\u001b[0m\u001b[0mx\u001b[0m\u001b[0;34m]\u001b[0m\u001b[0;34m\u001b[0m\u001b[0;34m\u001b[0m\u001b[0m\n",
      "\u001b[0;32m~/repos/eotest/python/lsst/eotest/image_utils.py\u001b[0m in \u001b[0;36m<listcomp>\u001b[0;34m(.0)\u001b[0m\n\u001b[1;32m    116\u001b[0m     \u001b[0mrows\u001b[0m \u001b[0;34m=\u001b[0m \u001b[0mnp\u001b[0m\u001b[0;34m.\u001b[0m\u001b[0marange\u001b[0m\u001b[0;34m(\u001b[0m\u001b[0mny\u001b[0m\u001b[0;34m)\u001b[0m\u001b[0;34m\u001b[0m\u001b[0;34m\u001b[0m\u001b[0m\n\u001b[0;32m--> 117\u001b[0;31m     \u001b[0mvalues\u001b[0m \u001b[0;34m=\u001b[0m \u001b[0mnp\u001b[0m\u001b[0;34m.\u001b[0m\u001b[0marray\u001b[0m\u001b[0;34m(\u001b[0m\u001b[0;34m[\u001b[0m\u001b[0mstatistic\u001b[0m\u001b[0;34m(\u001b[0m\u001b[0mimarr\u001b[0m\u001b[0;34m[\u001b[0m\u001b[0mj\u001b[0m\u001b[0;34m]\u001b[0m\u001b[0;34m[\u001b[0m\u001b[0mdxmin\u001b[0m\u001b[0;34m:\u001b[0m\u001b[0;34m-\u001b[0m\u001b[0mdxmax\u001b[0m\u001b[0;34m]\u001b[0m\u001b[0;34m)\u001b[0m \u001b[0;32mfor\u001b[0m \u001b[0mj\u001b[0m \u001b[0;32min\u001b[0m \u001b[0mrows\u001b[0m\u001b[0;34m]\u001b[0m\u001b[0;34m)\u001b[0m\u001b[0;34m\u001b[0m\u001b[0;34m\u001b[0m\u001b[0m\n\u001b[0m\u001b[1;32m    118\u001b[0m     \u001b[0;32mreturn\u001b[0m \u001b[0;32mlambda\u001b[0m \u001b[0mx\u001b[0m\u001b[0;34m:\u001b[0m \u001b[0mvalues\u001b[0m\u001b[0;34m[\u001b[0m\u001b[0mx\u001b[0m\u001b[0;34m]\u001b[0m\u001b[0;34m\u001b[0m\u001b[0;34m\u001b[0m\u001b[0m\n",
      "\u001b[0;32m/gpfs/slac/lsst/fs3/g/software/stack/v18.1.0_gcc7/python/miniconda3-4.5.12/envs/lsst-scipipe-1172c30/lib/python3.7/site-packages/numpy/core/fromnumeric.py\u001b[0m in \u001b[0;36mmean\u001b[0;34m(a, axis, dtype, out, keepdims)\u001b[0m\n\u001b[1;32m   3117\u001b[0m     return _methods._mean(a, axis=axis, dtype=dtype,\n\u001b[0;32m-> 3118\u001b[0;31m                           out=out, **kwargs)\n\u001b[0m\u001b[1;32m   3119\u001b[0m \u001b[0;34m\u001b[0m\u001b[0m\n",
      "\u001b[0;32m/gpfs/slac/lsst/fs3/g/software/stack/v18.1.0_gcc7/python/miniconda3-4.5.12/envs/lsst-scipipe-1172c30/lib/python3.7/site-packages/numpy/core/_methods.py\u001b[0m in \u001b[0;36m_mean\u001b[0;34m(a, axis, dtype, out, keepdims)\u001b[0m\n\u001b[1;32m     84\u001b[0m         \u001b[0;32melse\u001b[0m\u001b[0;34m:\u001b[0m\u001b[0;34m\u001b[0m\u001b[0;34m\u001b[0m\u001b[0m\n\u001b[0;32m---> 85\u001b[0;31m             \u001b[0mret\u001b[0m \u001b[0;34m=\u001b[0m \u001b[0mret\u001b[0m\u001b[0;34m.\u001b[0m\u001b[0mdtype\u001b[0m\u001b[0;34m.\u001b[0m\u001b[0mtype\u001b[0m\u001b[0;34m(\u001b[0m\u001b[0mret\u001b[0m \u001b[0;34m/\u001b[0m \u001b[0mrcount\u001b[0m\u001b[0;34m)\u001b[0m\u001b[0;34m\u001b[0m\u001b[0;34m\u001b[0m\u001b[0m\n\u001b[0m\u001b[1;32m     86\u001b[0m     \u001b[0;32melse\u001b[0m\u001b[0;34m:\u001b[0m\u001b[0;34m\u001b[0m\u001b[0;34m\u001b[0m\u001b[0m\n",
      "\u001b[0;31mKeyboardInterrupt\u001b[0m: ",
      "\nDuring handling of the above exception, another exception occurred:\n",
      "\u001b[0;31mAttributeError\u001b[0mTraceback (most recent call last)",
      "\u001b[0;32m<ipython-input-10-8247dd900245>\u001b[0m in \u001b[0;36m<module>\u001b[0;34m\u001b[0m\n\u001b[1;32m      2\u001b[0m     \u001b[0mstart\u001b[0m \u001b[0;34m=\u001b[0m \u001b[0mi\u001b[0m\u001b[0;34m*\u001b[0m\u001b[0;36m12\u001b[0m\u001b[0;34m\u001b[0m\u001b[0;34m\u001b[0m\u001b[0m\n\u001b[1;32m      3\u001b[0m     \u001b[0mend\u001b[0m \u001b[0;34m=\u001b[0m \u001b[0;34m(\u001b[0m\u001b[0mi\u001b[0m\u001b[0;34m+\u001b[0m\u001b[0;36m1\u001b[0m\u001b[0;34m)\u001b[0m\u001b[0;34m*\u001b[0m\u001b[0;36m12\u001b[0m\u001b[0;34m\u001b[0m\u001b[0;34m\u001b[0m\u001b[0m\n\u001b[0;32m----> 4\u001b[0;31m     \u001b[0mb\u001b[0m\u001b[0;34m.\u001b[0m\u001b[0mread_multibunch\u001b[0m\u001b[0;34m(\u001b[0m\u001b[0mdirlist\u001b[0m\u001b[0;34m=\u001b[0m\u001b[0mdirlist\u001b[0m\u001b[0;34m[\u001b[0m\u001b[0mstart\u001b[0m\u001b[0;34m:\u001b[0m\u001b[0mend\u001b[0m\u001b[0;34m]\u001b[0m\u001b[0;34m,\u001b[0m \u001b[0moutdir\u001b[0m \u001b[0;34m=\u001b[0m \u001b[0mconfig\u001b[0m\u001b[0;34m[\u001b[0m\u001b[0;34m'tmp_dir'\u001b[0m\u001b[0;34m]\u001b[0m\u001b[0;34m,\u001b[0m \u001b[0mref_raft\u001b[0m\u001b[0;34m=\u001b[0m\u001b[0mref_raft\u001b[0m\u001b[0;34m,\u001b[0m \u001b[0mref_slot\u001b[0m\u001b[0;34m=\u001b[0m\u001b[0mref_slot\u001b[0m\u001b[0;34m)\u001b[0m\u001b[0;34m\u001b[0m\u001b[0;34m\u001b[0m\u001b[0m\n\u001b[0m\u001b[1;32m      5\u001b[0m     \u001b[0mb\u001b[0m\u001b[0;34m.\u001b[0m\u001b[0msave\u001b[0m\u001b[0;34m(\u001b[0m\u001b[0mos\u001b[0m\u001b[0;34m.\u001b[0m\u001b[0mpath\u001b[0m\u001b[0;34m.\u001b[0m\u001b[0mjoin\u001b[0m\u001b[0;34m(\u001b[0m\u001b[0mconfig\u001b[0m\u001b[0;34m[\u001b[0m\u001b[0;34m'tmp_dir'\u001b[0m\u001b[0;34m]\u001b[0m\u001b[0;34m,\u001b[0m\u001b[0;34m'beam_object_'\u001b[0m\u001b[0;34m+\u001b[0m\u001b[0mref_raft\u001b[0m\u001b[0;34m+\u001b[0m\u001b[0;34m'_'\u001b[0m\u001b[0;34m+\u001b[0m\u001b[0mref_slot\u001b[0m\u001b[0;34m+\u001b[0m\u001b[0;34m'_'\u001b[0m\u001b[0;34m+\u001b[0m\u001b[0mb\u001b[0m\u001b[0;34m.\u001b[0m\u001b[0mconfig\u001b[0m\u001b[0;34m[\u001b[0m\u001b[0;34m'led_name'\u001b[0m\u001b[0;34m]\u001b[0m\u001b[0;34m+\u001b[0m\u001b[0;34m'_'\u001b[0m\u001b[0;34m+\u001b[0m\u001b[0mbaffle\u001b[0m\u001b[0;34m+\u001b[0m\u001b[0;34m'.pkl'\u001b[0m\u001b[0;34m)\u001b[0m\u001b[0;34m)\u001b[0m\u001b[0;34m\u001b[0m\u001b[0;34m\u001b[0m\u001b[0m\n",
      "\u001b[0;32m~/ccob-wb/ccob_beam.py\u001b[0m in \u001b[0;36mread_multibunch\u001b[0;34m(self, ref_raft, ref_slot, ref_amps, ref_pix_x, ref_pix_y, npix_for_avg, biasfile, dirlist, outdir)\u001b[0m\n\u001b[1;32m     64\u001b[0m             \u001b[0mccd_dict\u001b[0m \u001b[0;34m=\u001b[0m \u001b[0msensorTest\u001b[0m\u001b[0;34m.\u001b[0m\u001b[0mMaskedCCD\u001b[0m\u001b[0;34m(\u001b[0m\u001b[0mf\u001b[0m\u001b[0;34m[\u001b[0m\u001b[0;36m0\u001b[0m\u001b[0;34m]\u001b[0m\u001b[0;34m)\u001b[0m\u001b[0;34m\u001b[0m\u001b[0;34m\u001b[0m\u001b[0m\n\u001b[1;32m     65\u001b[0m             \u001b[0;32mfor\u001b[0m \u001b[0mamp\u001b[0m \u001b[0;32min\u001b[0m \u001b[0mref_amps\u001b[0m\u001b[0;34m:\u001b[0m\u001b[0;34m\u001b[0m\u001b[0;34m\u001b[0m\u001b[0m\n\u001b[0;32m---> 66\u001b[0;31m                 \u001b[0mimage\u001b[0m \u001b[0;34m=\u001b[0m \u001b[0mccd_dict\u001b[0m\u001b[0;34m.\u001b[0m\u001b[0munbiased_and_trimmed_image\u001b[0m\u001b[0;34m(\u001b[0m\u001b[0mamp\u001b[0m\u001b[0;34m)\u001b[0m\u001b[0;34m\u001b[0m\u001b[0;34m\u001b[0m\u001b[0m\n\u001b[0m\u001b[1;32m     67\u001b[0m                 \u001b[0marr\u001b[0m \u001b[0;34m=\u001b[0m \u001b[0mimage\u001b[0m\u001b[0;34m.\u001b[0m\u001b[0mgetArrays\u001b[0m\u001b[0;34m(\u001b[0m\u001b[0;34m)\u001b[0m\u001b[0;34m\u001b[0m\u001b[0;34m\u001b[0m\u001b[0m\n\u001b[1;32m     68\u001b[0m                 val = np.mean((arr[0][int(ref_pix_x-npix_for_avg/2):int(ref_pix_x+npix_for_avg/2),\\\n",
      "\u001b[0;32m~/repos/eotest/python/lsst/eotest/sensor/MaskedCCD.py\u001b[0m in \u001b[0;36munbiased_and_trimmed_image\u001b[0;34m(self, amp, overscan, imaging, **kwargs)\u001b[0m\n\u001b[1;32m    247\u001b[0m             \u001b[0mmethod\u001b[0m\u001b[0;34m.\u001b[0m \u001b[0mThe\u001b[0m \u001b[0mdefault\u001b[0m \u001b[0;32mis\u001b[0m\u001b[0;34m:\u001b[0m \u001b[0;32mNone\u001b[0m\u001b[0;34m.\u001b[0m\u001b[0;34m\u001b[0m\u001b[0;34m\u001b[0m\u001b[0m\n\u001b[1;32m    248\u001b[0m         \"\"\"\n\u001b[0;32m--> 249\u001b[0;31m         \u001b[0munbiased_image\u001b[0m \u001b[0;34m=\u001b[0m \u001b[0mself\u001b[0m\u001b[0;34m.\u001b[0m\u001b[0mbias_subtracted_image\u001b[0m\u001b[0;34m(\u001b[0m\u001b[0mamp\u001b[0m\u001b[0;34m,\u001b[0m \u001b[0moverscan\u001b[0m\u001b[0;34m,\u001b[0m \u001b[0;34m**\u001b[0m\u001b[0mkwargs\u001b[0m\u001b[0;34m)\u001b[0m\u001b[0;34m\u001b[0m\u001b[0;34m\u001b[0m\u001b[0m\n\u001b[0m\u001b[1;32m    250\u001b[0m         \u001b[0;32mif\u001b[0m \u001b[0mimaging\u001b[0m \u001b[0;32mis\u001b[0m \u001b[0;32mNone\u001b[0m\u001b[0;34m:\u001b[0m\u001b[0;34m\u001b[0m\u001b[0;34m\u001b[0m\u001b[0m\n\u001b[1;32m    251\u001b[0m             \u001b[0mimaging\u001b[0m \u001b[0;34m=\u001b[0m \u001b[0mself\u001b[0m\u001b[0;34m.\u001b[0m\u001b[0mamp_geom\u001b[0m\u001b[0;34m.\u001b[0m\u001b[0mimaging\u001b[0m\u001b[0;34m\u001b[0m\u001b[0;34m\u001b[0m\u001b[0m\n",
      "\u001b[0;32m~/repos/eotest/python/lsst/eotest/sensor/MaskedCCD.py\u001b[0m in \u001b[0;36mbias_subtracted_image\u001b[0;34m(self, amp, overscan, **kwargs)\u001b[0m\n\u001b[1;32m    225\u001b[0m             \u001b[0mself\u001b[0m\u001b[0;34m[\u001b[0m\u001b[0mamp\u001b[0m\u001b[0;34m]\u001b[0m \u001b[0;34m-=\u001b[0m \u001b[0mbias\u001b[0m\u001b[0;34m\u001b[0m\u001b[0;34m\u001b[0m\u001b[0m\n\u001b[1;32m    226\u001b[0m         \u001b[0;32melse\u001b[0m\u001b[0;34m:\u001b[0m\u001b[0;34m\u001b[0m\u001b[0;34m\u001b[0m\u001b[0m\n\u001b[0;32m--> 227\u001b[0;31m             \u001b[0mself\u001b[0m\u001b[0;34m[\u001b[0m\u001b[0mamp\u001b[0m\u001b[0;34m]\u001b[0m \u001b[0;34m-=\u001b[0m \u001b[0mself\u001b[0m\u001b[0;34m.\u001b[0m\u001b[0mbias_image\u001b[0m\u001b[0;34m(\u001b[0m\u001b[0mamp\u001b[0m\u001b[0;34m,\u001b[0m \u001b[0moverscan\u001b[0m\u001b[0;34m,\u001b[0m \u001b[0;34m**\u001b[0m\u001b[0mkwargs\u001b[0m\u001b[0;34m)\u001b[0m\u001b[0;34m\u001b[0m\u001b[0;34m\u001b[0m\u001b[0m\n\u001b[0m\u001b[1;32m    228\u001b[0m         \u001b[0;32mreturn\u001b[0m \u001b[0mself\u001b[0m\u001b[0;34m[\u001b[0m\u001b[0mamp\u001b[0m\u001b[0;34m]\u001b[0m\u001b[0;34m\u001b[0m\u001b[0;34m\u001b[0m\u001b[0m\n\u001b[1;32m    229\u001b[0m \u001b[0;34m\u001b[0m\u001b[0m\n",
      "\u001b[0;32m~/repos/eotest/python/lsst/eotest/sensor/MaskedCCD.py\u001b[0m in \u001b[0;36mbias_image\u001b[0;34m(self, amp, overscan, **kwargs)\u001b[0m\n\u001b[1;32m    190\u001b[0m             \u001b[0;31m#\u001b[0m\u001b[0;34m\u001b[0m\u001b[0;34m\u001b[0m\u001b[0;34m\u001b[0m\u001b[0m\n\u001b[1;32m    191\u001b[0m             \u001b[0;32mreturn\u001b[0m \u001b[0mself\u001b[0m\u001b[0;34m.\u001b[0m\u001b[0mbias_frame\u001b[0m\u001b[0;34m[\u001b[0m\u001b[0mamp\u001b[0m\u001b[0;34m]\u001b[0m\u001b[0;34m.\u001b[0m\u001b[0mgetImage\u001b[0m\u001b[0;34m(\u001b[0m\u001b[0;34m)\u001b[0m\u001b[0;34m\u001b[0m\u001b[0;34m\u001b[0m\u001b[0m\n\u001b[0;32m--> 192\u001b[0;31m         \u001b[0;32mreturn\u001b[0m \u001b[0mself\u001b[0m\u001b[0;34m.\u001b[0m\u001b[0mbias_image_using_overscan\u001b[0m\u001b[0;34m(\u001b[0m\u001b[0mamp\u001b[0m\u001b[0;34m,\u001b[0m \u001b[0moverscan\u001b[0m\u001b[0;34m=\u001b[0m\u001b[0moverscan\u001b[0m\u001b[0;34m,\u001b[0m \u001b[0;34m**\u001b[0m\u001b[0mkwargs\u001b[0m\u001b[0;34m)\u001b[0m\u001b[0;34m\u001b[0m\u001b[0;34m\u001b[0m\u001b[0m\n\u001b[0m\u001b[1;32m    193\u001b[0m \u001b[0;34m\u001b[0m\u001b[0m\n\u001b[1;32m    194\u001b[0m     \u001b[0;32mdef\u001b[0m \u001b[0mbias_subtracted_image\u001b[0m\u001b[0;34m(\u001b[0m\u001b[0mself\u001b[0m\u001b[0;34m,\u001b[0m \u001b[0mamp\u001b[0m\u001b[0;34m,\u001b[0m \u001b[0moverscan\u001b[0m\u001b[0;34m=\u001b[0m\u001b[0;32mNone\u001b[0m\u001b[0;34m,\u001b[0m \u001b[0;34m**\u001b[0m\u001b[0mkwargs\u001b[0m\u001b[0;34m)\u001b[0m\u001b[0;34m:\u001b[0m\u001b[0;34m\u001b[0m\u001b[0;34m\u001b[0m\u001b[0m\n",
      "\u001b[0;32m~/repos/eotest/python/lsst/eotest/sensor/MaskedCCD.py\u001b[0m in \u001b[0;36mbias_image_using_overscan\u001b[0;34m(self, amp, overscan, **kwargs)\u001b[0m\n\u001b[1;32m    161\u001b[0m         \u001b[0;32mtry\u001b[0m\u001b[0;34m:\u001b[0m\u001b[0;34m\u001b[0m\u001b[0;34m\u001b[0m\u001b[0m\n\u001b[1;32m    162\u001b[0m             \u001b[0;32mreturn\u001b[0m \u001b[0mimutils\u001b[0m\u001b[0;34m.\u001b[0m\u001b[0mbias_image\u001b[0m\u001b[0;34m(\u001b[0m\u001b[0mself\u001b[0m\u001b[0;34m[\u001b[0m\u001b[0mamp\u001b[0m\u001b[0;34m]\u001b[0m\u001b[0;34m,\u001b[0m \u001b[0moverscan\u001b[0m\u001b[0;34m=\u001b[0m\u001b[0moverscan\u001b[0m\u001b[0;34m,\u001b[0m \u001b[0;34m**\u001b[0m\u001b[0mkwargs\u001b[0m\u001b[0;34m)\u001b[0m\u001b[0;34m\u001b[0m\u001b[0;34m\u001b[0m\u001b[0m\n\u001b[0;32m--> 163\u001b[0;31m         \u001b[0;32mexcept\u001b[0m \u001b[0mpexExcept\u001b[0m\u001b[0;34m.\u001b[0m\u001b[0mLSST_RUNTIME_EXCEPTION\u001b[0m \u001b[0;32mas\u001b[0m \u001b[0meobj\u001b[0m\u001b[0;34m:\u001b[0m\u001b[0;34m\u001b[0m\u001b[0;34m\u001b[0m\u001b[0m\n\u001b[0m\u001b[1;32m    164\u001b[0m             raise MaskedCCDBiasImageException(\"DM stack error generating bias \"\n\u001b[1;32m    165\u001b[0m                                               \u001b[0;34m+\u001b[0m \u001b[0;34m\"image from overscan region:\\n\"\u001b[0m\u001b[0;34m\u001b[0m\u001b[0;34m\u001b[0m\u001b[0m\n",
      "\u001b[0;31mAttributeError\u001b[0m: module 'lsst.pex.exceptions' has no attribute 'LSST_RUNTIME_EXCEPTION'"
     ]
    }
   ],
   "source": [
    "for i in np.arange(12): # that's just to allow saving the data at intermediate steps for the 12x12 scan\n",
    "    start = i*12\n",
    "    end = (i+1)*12\n",
    "    b.read_multibunch(dirlist=dirlist[start:end], outdir = config['tmp_dir'], ref_raft=ref_raft, ref_slot=ref_slot)\n",
    "    b.save(os.path.join(config['tmp_dir'],'beam_object_'+ref_raft+'_'+ref_slot+'_'+b.config['led_name']+'_'+baffle+'.pkl'))"
   ]
  },
  {
   "cell_type": "code",
   "execution_count": 11,
   "metadata": {},
   "outputs": [
    {
     "name": "stdout",
     "output_type": "stream",
     "text": [
      "36.3 -16.5 52829.773\n"
     ]
    }
   ],
   "source": [
    "print(b.raw_data['xarr'][135],b.raw_data['yarr'][135],b.raw_data['val'][12][135])"
   ]
  },
  {
   "cell_type": "markdown",
   "metadata": {},
   "source": [
    "### Load the beam object created above..."
   ]
  },
  {
   "cell_type": "code",
   "execution_count": 8,
   "metadata": {},
   "outputs": [],
   "source": [
    "import pickle as pkl\n",
    "config['tmp_dir']='/home/combet/tmp_MR/12x12/'\n",
    "ref_raft='R10'\n",
    "ref_slot='S20'\n",
    "baffle='on'\n",
    "#led = b.config['led_name']\n",
    "led = 'nm850'\n",
    "bb = pkl.load(open(config['tmp_dir']+'beam_object_'+ref_raft+'_'+ref_slot+'_'+led+'_'+baffle+'.pkl','rb'))"
   ]
  },
  {
   "cell_type": "markdown",
   "metadata": {},
   "source": [
    "### ... and plot the raw beam reconstruction"
   ]
  },
  {
   "cell_type": "code",
   "execution_count": 9,
   "metadata": {},
   "outputs": [
    {
     "data": {
      "image/png": "[encoded data removed]",
      "text/plain": [
       "<Figure size 432x288 with 2 Axes>"
      ]
     },
     "metadata": {
      "needs_background": "light"
     },
     "output_type": "display_data"
    }
   ],
   "source": [
    "amp=9 # 1-16, select the channel used for the reconstruction\n",
    "\n",
    "binsize = (max(bb.raw_data['yarr'])-min(bb.raw_data['yarr']))/11\n",
    "extent = [max(bb.raw_data['xarr'])+binsize/2,\n",
    "          min(bb.raw_data['xarr'])-binsize/2,\n",
    "          min(bb.raw_data['yarr'])-binsize/2, \n",
    "          max(bb.raw_data['yarr'])+binsize/2]\n",
    "\n",
    "tmp = np.asarray(bb.raw_data['val'][amp])/np.asarray(bb.raw_data['pd_value']) # correct for the control photodiode value\n",
    "tmp = tmp / max(tmp) # normalise to the max\n",
    "\n",
    "plt.imshow(np.flip(np.reshape(tmp,(12,12), order='F'),axis=1), extent=extent, origin='lower', vmin=0.75)\n",
    "plt.title(ref_raft+', '+ref_slot+', Amp #'+str(amp)+', led = '+led+', baffle='+baffle)\n",
    "plt.colorbar()\n",
    "basename = ref_raft+'_'+ref_slot+'_'+str(amp)+'_'+baffle\n",
    "plt.savefig(config['tmp_dir']+'/beam_'+basename+'_'+led+'.png')\n"
   ]
  },
  {
   "cell_type": "code",
   "execution_count": 29,
   "metadata": {},
   "outputs": [
    {
     "data": {
      "image/png": "[encoded data removed]",
      "text/plain": [
       "<Figure size 432x288 with 2 Axes>"
      ]
     },
     "metadata": {
      "needs_background": "light"
     },
     "output_type": "display_data"
    }
   ],
   "source": [
    "config['tmp_dir']='/home/combet/tmp_MR/60x60/'\n",
    "ref_raft='R22'\n",
    "ref_slot='S21'\n",
    "baffle='on'\n",
    "#led = b.config['led_name']\n",
    "led = 'nm850'\n",
    "bb = pkl.load(open(config['tmp_dir']+'beam_object_'+ref_raft+'_'+ref_slot+'_'+led+'_'+baffle+'.pkl','rb'))\n",
    "\n",
    "amp=16 # 1-16, select the channel used for the reconstruction\n",
    "\n",
    "binsize = (max(bb.raw_data['yarr'])-min(bb.raw_data['yarr']))/59\n",
    "extent = [max(bb.raw_data['xarr'])+binsize/2,\n",
    "          min(bb.raw_data['xarr'])-binsize/2,\n",
    "          min(bb.raw_data['yarr'])-binsize/2, \n",
    "          max(bb.raw_data['yarr'])+binsize/2]\n",
    "\n",
    "tmp = np.asarray(bb.raw_data['val'][amp])/np.asarray(bb.raw_data['pd_value']) # correct for the control photodiode value\n",
    "#tmp = tmp / max(tmp) # normalise to the max\n",
    "\n",
    "plt.imshow(np.flip(np.reshape(tmp,(60,60), order='F'),axis=1), extent=extent, origin='lower')\n",
    "plt.title(ref_raft+', '+ref_slot+', Amp #'+str(amp)+', led = '+led+', baffle='+baffle)\n",
    "plt.colorbar()\n",
    "basename = ref_raft+'_'+ref_slot+'_'+str(amp)+'_'+baffle\n",
    "plt.savefig(config['tmp_dir']+'/beam_'+basename+'_'+led+'.png')"
   ]
  },
  {
   "cell_type": "markdown",
   "metadata": {},
   "source": [
    "### I suspect that for the beam reconstruction for scan centered over R22, the above will fail \n",
    "\n",
    "The y-ordering of the data will most likely be wrong (I expect a clear discontinuity in the image above). I'll correct it when I get back. So below, I use `tricontourf` which does not require any ordering of the data (so it should be fine even for the R22 scan). It's not really raw data anymore as `tricontourf` does some interpolation. Blue crosses locate where the data was taken (corresponding to the pixels in the image above).\n",
    "\n",
    "NB: x-axis increases to the right here, hence the reversal w.r.t the previous plot.\n"
   ]
  },
  {
   "cell_type": "code",
   "execution_count": 70,
   "metadata": {},
   "outputs": [
    {
     "data": {
      "text/plain": [
       "<matplotlib.colorbar.Colorbar at 0x7fa9b615f080>"
      ]
     },
     "execution_count": 70,
     "metadata": {},
     "output_type": "execute_result"
    },
    {
     "data": {
      "image/png": "[encoded data removed]",
      "text/plain": [
       "<matplotlib.figure.Figure at 0x7fa9b61ada20>"
      ]
     },
     "metadata": {
      "needs_background": "light"
     },
     "output_type": "display_data"
    }
   ],
   "source": [
    "#plt.plot(bb.raw_data['xarr'],bb.raw_data['yarr'], 'b+ ')\n",
    "plt.tricontourf(bb.raw_data['xarr'],bb.raw_data['yarr'],tmp, 30, aspect='equal')\n",
    "plt.colorbar()"
   ]
  },
  {
   "cell_type": "code",
   "execution_count": 5,
   "metadata": {},
   "outputs": [],
   "source": [
    "import pickle as pkl\n",
    "config['tmp_dir']='/home/combet/tmp_MR/12x12/'\n",
    "rafts = ['R22', 'R10']\n",
    "slots = ['S10','S11','S12','S20','S21','S22']\n",
    "amps = np.arange(1,17)\n",
    "baffle='on'\n",
    "#led = b.config['led_name']\n",
    "led = 'nm960'\n",
    "\n",
    "for ref_raft in rafts:\n",
    "    for ref_slot in slots:\n",
    "        bb = pkl.load(open(config['tmp_dir']+'beam_object_'+ref_raft+'_'+ref_slot+'_'+led+'_'+baffle+'.pkl','rb'))\n",
    "        for amp in amps:\n",
    "            binsize = (max(bb.raw_data['yarr'])-min(bb.raw_data['yarr']))/11\n",
    "            extent = [max(bb.raw_data['xarr'])+binsize/2,\n",
    "                      min(bb.raw_data['xarr'])-binsize/2,\n",
    "                      min(bb.raw_data['yarr'])-binsize/2, \n",
    "                      max(bb.raw_data['yarr'])+binsize/2]\n",
    "\n",
    "            tmp = np.asarray(bb.raw_data['val'][amp])/np.asarray(bb.raw_data['pd_value']) # correct for the control photodiode value\n",
    "            tmp = tmp / max(tmp) # normalise to the max\n",
    "            \n",
    "            plt.imshow(np.flip(np.reshape(tmp,(12,12), order='F'),axis=1), extent=extent, origin='lower', vmin=0.75)\n",
    "            plt.title(ref_raft+', '+ref_slot+', Amp #'+str(amp)+', led = '+led+', baffle='+baffle)\n",
    "            plt.colorbar()\n",
    "            basename = ref_raft+'_'+ref_slot+'_'+str(amp)+'_'+baffle\n",
    "            plt.savefig(config['tmp_dir']+'/beam_'+basename+'_'+led+'.png')\n",
    "            plt.close()"
   ]
  },
  {
   "cell_type": "code",
   "execution_count": 9,
   "metadata": {},
   "outputs": [],
   "source": [
    "import pickle as pkl\n",
    "config['tmp_dir']='/home/combet/tmp_MR/12x12/'\n",
    "ref_raft = 'R22'\n",
    "leds = ['nm960', 'nm850', 'nm750', 'red', 'blue', 'uv']\n",
    "ref_slot = 'S11'\n",
    "amp = 1\n",
    "baffle='on'\n",
    "#led = b.config['led_name']\n",
    "bb_ref = pkl.load(open(config['tmp_dir']+'beam_object_'+ref_raft+'_'+ref_slot+'_red_'+baffle+'.pkl','rb'))\n",
    "tmp_ref = np.asarray(bb_ref.raw_data['val'][amp])/np.asarray(bb_ref.raw_data['pd_value']) # correct for the control photodiode value\n",
    "tmp_ref = tmp_ref / max(tmp_ref)\n",
    "\n",
    "for led in leds:\n",
    "    bb = pkl.load(open(config['tmp_dir']+'beam_object_'+ref_raft+'_'+ref_slot+'_'+led+'_'+baffle+'.pkl','rb'))\n",
    "       \n",
    "    binsize = (max(bb.raw_data['yarr'])-min(bb.raw_data['yarr']))/11\n",
    "    extent = [max(bb.raw_data['xarr'])+binsize/2,\n",
    "              min(bb.raw_data['xarr'])-binsize/2,\n",
    "              min(bb.raw_data['yarr'])-binsize/2, \n",
    "              max(bb.raw_data['yarr'])+binsize/2]\n",
    "\n",
    "    tmp = np.asarray(bb.raw_data['val'][amp])/np.asarray(bb.raw_data['pd_value']) # correct for the control photodiode value\n",
    "    tmp = tmp / max(tmp) # normalise to the max\n",
    "\n",
    "    plt.imshow(np.flip(np.reshape(tmp/tmp_ref,(12,12), order='F'),axis=1), extent=extent, origin='lower')\n",
    "    plt.title(ref_raft+', '+ref_slot+', Amp #'+str(amp)+', led = '+led+', baffle='+baffle)\n",
    "    plt.colorbar()\n",
    "    basename = ref_raft+'_'+ref_slot+'_'+str(amp)+'_'+baffle\n",
    "    plt.savefig(config['tmp_dir']+'/beam_'+basename+'_'+led+'_ratio_to_red.png')\n",
    "    plt.close()"
   ]
  },
  {
   "cell_type": "code",
   "execution_count": null,
   "metadata": {},
   "outputs": [],
   "source": []
  }
 ],
 "metadata": {
  "kernelspec": {
   "display_name": "Python 3",
   "language": "python",
   "name": "python3"
  },
  "language_info": {
   "codemirror_mode": {
    "name": "ipython",
    "version": 3
   },
   "file_extension": ".py",
   "mimetype": "text/x-python",
   "name": "python",
   "nbconvert_exporter": "python",
   "pygments_lexer": "ipython3",
   "version": "3.7.2"
  }
 },
 "nbformat": 4,
 "nbformat_minor": 2
}
