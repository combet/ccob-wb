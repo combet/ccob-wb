{
 "cells": [
  {
   "cell_type": "code",
   "execution_count": null,
   "metadata": {},
   "outputs": [],
   "source": [
    "import os\n",
    "import numpy as np\n",
    "import matplotlib.pyplot as plt\n",
    "#%matplotlib ipympl\n",
    "plt.rcParams['figure.figsize'] = [7, 6]\n",
    "\n",
    "import lsst.daf.persistence as dafPersist\n",
    "import lsst.afw.display as afwDisplay\n",
    "import lsst.afw.display.utils as afwDisplayUtils\n",
    "import lsst.afw.geom as afwGeom\n",
    "import lsst.afw.math as afwMath\n",
    "import lsst.afw.cameraGeom as cameraGeom\n",
    "import lsst.afw.cameraGeom.utils as cgUtils"
   ]
  },
  {
   "cell_type": "code",
   "execution_count": null,
   "metadata": {},
   "outputs": [],
   "source": [
    "afwDisplay.setDefaultBackend(\"matplotlib\")"
   ]
  },
  {
   "cell_type": "code",
   "execution_count": null,
   "metadata": {},
   "outputs": [],
   "source": [
    "from lsst.obs.lsst import LsstCamMapper as camMapper\n",
    "camera = camMapper._makeCamera()"
   ]
  },
  {
   "cell_type": "markdown",
   "metadata": {},
   "source": [
    "## Routines to read per-amplifier images and convert coordinates to/from CCD pixel coordinates"
   ]
  },
  {
   "cell_type": "code",
   "execution_count": null,
   "metadata": {},
   "outputs": [],
   "source": [
    "from lsst.obs.lsst.cameraTransforms import LsstCameraTransforms, channelToAmp, getAmpImage"
   ]
  },
  {
   "cell_type": "markdown",
   "metadata": {},
   "source": [
    "### Put in a raft,detector name by hand"
   ]
  },
  {
   "cell_type": "code",
   "execution_count": null,
   "metadata": {},
   "outputs": [],
   "source": [
    "raftName = 'R22'\n",
    "detectorName = 'S11'\n",
    "detectorName = \"%s_%s\" % (raftName, detectorName)\n",
    "\n",
    "lct = LsstCameraTransforms(camera)"
   ]
  },
  {
   "cell_type": "markdown",
   "metadata": {},
   "source": [
    "#### Get a DM detector and ask it about itself"
   ]
  },
  {
   "cell_type": "code",
   "execution_count": null,
   "metadata": {},
   "outputs": [],
   "source": [
    "det = lct.getDetector(detectorName)\n",
    "print(det.getName(), det.getType(), det.getPhysicalType(), det.getSerial())"
   ]
  },
  {
   "cell_type": "markdown",
   "metadata": {},
   "source": [
    "#### Convert some CCD coordinates to amp coordinates\n",
    "\n",
    "Validate this by looking at some images with recognisable pixels"
   ]
  },
  {
   "cell_type": "code",
   "execution_count": null,
   "metadata": {},
   "outputs": [],
   "source": [
    "# Choose some pixels to check by eye\n",
    "cx, cy = 3332, 2500   # C16\n",
    "\n",
    "#\n",
    "# Convert from the CCD coordinates to per-amp coordinates\n",
    "#\n",
    "channel, ampX, ampY = lct.ccdPixelToAmpPixel(cx, cy, detectorName)\n",
    "\n",
    "butler = None\n",
    "if butler is not None:\n",
    "    #\n",
    "    # Read the raw amp data, assuming that the butler isn't adding any information\n",
    "    #\n",
    "    rawa = getAmpImage(butler, dataId, channel)\n",
    "\n",
    "    #\n",
    "    # Display the amp image, showing the selected point\n",
    "    #\n",
    "    disp = afwDisplay.Display(4, reopenPlot=True)\n",
    "\n",
    "    stats = afwMath.makeStatistics(rawa.image, afwMath.MEDIAN | afwMath.STDEVCLIP)\n",
    "    med = stats.getValue(afwMath.MEDIAN)\n",
    "    std = stats.getValue(afwMath.STDEVCLIP)\n",
    "    disp.scale('linear', med - 1*std, med + 2*std)\n",
    "\n",
    "    disp.mtv(rawa, title=channelToAmp(lct.getDetector(detectorName), channel).getName())\n",
    "    disp.dot('+', ampX, ampY, ctype=afwDisplay.RED)\n",
    "    disp.zoom(16, ampX, ampY)"
   ]
  },
  {
   "cell_type": "code",
   "execution_count": null,
   "metadata": {},
   "outputs": [],
   "source": [
    "print(channel, ampX, ampY)"
   ]
  },
  {
   "cell_type": "markdown",
   "metadata": {},
   "source": [
    "### Plot the whole focal plane"
   ]
  },
  {
   "cell_type": "code",
   "execution_count": null,
   "metadata": {},
   "outputs": [],
   "source": [
    "plt.close('all')\n",
    "cgUtils.plotFocalPlane(camera)\n",
    "plt.title(camera.getName());"
   ]
  },
  {
   "cell_type": "markdown",
   "metadata": {},
   "source": [
    "#### Convert a CCD position to focal plane coordinates and plot it"
   ]
  },
  {
   "cell_type": "code",
   "execution_count": null,
   "metadata": {},
   "outputs": [],
   "source": [
    "\n",
    "for ccdXY, color in [\n",
    "    ((-0.5, -0.5), \"red\"),   # bottom left corner of CCD\n",
    "    (camera[detectorName].getBBox().getEnd() - afwGeom.ExtentD(0.501, 0.501), \"green\"),  # top right of CCD\n",
    "    ]:\n",
    "    fpXMm, fpYMm = lct.ccdPixelToFocalMm(*ccdXY, detectorName)\n",
    "\n",
    "    plt.plot(fpXMm, fpYMm, '+', color=color)\n",
    "    print(\"%s (%8.3f, %8.3f)pix -> (%8.3f, %8.3f)mm\" % (detectorName, ccdXY[0], ccdXY[1], fpXMm, fpYMm))"
   ]
  },
  {
   "cell_type": "code",
   "execution_count": null,
   "metadata": {},
   "outputs": [],
   "source": [
    "ccdXY = [0.,0.]    \n",
    "fpXMm, fpYMm = lct.ccdPixelToFocalMm(*ccdXY, detectorName)\n",
    "plt.plot(fpXMm, fpYMm, '+', color=color)\n",
    "print(\"%s (%8.3f, %8.3f)pix -> (%8.3f, %8.3f)mm\" % (detectorName, ccdXY[0], ccdXY[1], fpXMm, fpYMm))"
   ]
  },
  {
   "cell_type": "code",
   "execution_count": null,
   "metadata": {},
   "outputs": [],
   "source": [
    "camera[detectorName].getBBox().getEnd()"
   ]
  },
  {
   "cell_type": "markdown",
   "metadata": {},
   "source": [
    "#### Demonstrate the reverse mapping;  focal plane back to CCD"
   ]
  },
  {
   "cell_type": "code",
   "execution_count": null,
   "metadata": {},
   "outputs": [],
   "source": [
    "dname, ccdX, ccdY = lct.focalMmToCcdPixel(fpXMm, fpYMm)\n",
    "print(\"(%.3f, %.3f)mm -> %s (%.3f, %.3f)pix\" % (fpXMm, fpYMm, dname, ccdX, ccdY))"
   ]
  },
  {
   "cell_type": "code",
   "execution_count": null,
   "metadata": {},
   "outputs": [],
   "source": [
    "dname = 'R22_S11'\n",
    "cx, cy=0,0\n",
    "lct.ccdPixelToAmpPixel(cx,cy,dname)\n",
    "#cx, cy= 1018,0\n",
    "#lct.ccdPixelToAmpPixel(cx,cy,dname)"
   ]
  },
  {
   "cell_type": "code",
   "execution_count": null,
   "metadata": {},
   "outputs": [],
   "source": []
  },
  {
   "cell_type": "markdown",
   "metadata": {},
   "source": [
    "#### And focal plane to amplifier"
   ]
  },
  {
   "cell_type": "code",
   "execution_count": null,
   "metadata": {},
   "outputs": [],
   "source": [
    "fpXMm, fpYMm = 2.5, 10\n",
    "dname, channel, ampX, ampY = lct.focalMmToAmpPixel(fpXMm, fpYMm)\n",
    "print(\"(%.3f, %.3f)mm -> %s channel %d (%.3f, %.3f)pix\" % (fpXMm, fpYMm, dname, channel, ampX, ampY))"
   ]
  },
  {
   "cell_type": "code",
   "execution_count": null,
   "metadata": {},
   "outputs": [],
   "source": [
    "a = 2\n",
    "b = 0\n",
    "c = 1\n",
    "d = 1\n",
    "\n",
    "x_cam = 127.00*(a - 2) + 42.25*(c - 1)\n",
    "y_cam = 127.00*(b - 2) + 42.25*(d - 1)\n",
    "print(x_cam, y_cam)\n",
    "fpXMm, fpYMm = y_cam, x_cam\n",
    "dname, channel, ampX, ampY = lct.focalMmToAmpPixel(fpXMm, fpYMm)\n",
    "print(\"(%.3f, %.3f)mm -> %s channel %d (%.3f, %.3f)pix\" % (fpXMm, fpYMm, dname, channel, ampX, ampY))"
   ]
  },
  {
   "cell_type": "code",
   "execution_count": null,
   "metadata": {},
   "outputs": [],
   "source": [
    "if butler is not None:\n",
    "    #\n",
    "    # Read the raw amp data, assuming that the butler isn't adding any information\n",
    "    #\n",
    "    rawa = getAmpImage(butler, dataId, channel)\n",
    "\n",
    "    #\n",
    "    # Display the amp image, showing the selected point\n",
    "    #\n",
    "    disp = afwDisplay.Display(5, reopenPlot=True)\n",
    "\n",
    "    disp.scale('asinh', 'zscale', Q=2)\n",
    "\n",
    "    disp.mtv(rawa, title=channelToAmp(lct.getDetector(detectorName), channel).getName())\n",
    "    disp.dot('+', ampX, ampY, ctype=afwDisplay.RED)\n",
    "    disp.zoom(32, ampX, ampY)"
   ]
  },
  {
   "cell_type": "code",
   "execution_count": null,
   "metadata": {},
   "outputs": [],
   "source": []
  },
  {
   "cell_type": "code",
   "execution_count": null,
   "metadata": {},
   "outputs": [],
   "source": []
  }
 ],
 "metadata": {
  "kernelspec": {
   "display_name": "Python 3",
   "language": "python",
   "name": "python3"
  },
  "language_info": {
   "codemirror_mode": {
    "name": "ipython",
    "version": 3
   },
   "file_extension": ".py",
   "mimetype": "text/x-python",
   "name": "python",
   "nbconvert_exporter": "python",
   "pygments_lexer": "ipython3",
   "version": "3.7.2"
  }
 },
 "nbformat": 4,
 "nbformat_minor": 2
}
