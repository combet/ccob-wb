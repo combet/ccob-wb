{
 "cells": [
  {
   "cell_type": "code",
   "execution_count": 1,
   "metadata": {},
   "outputs": [],
   "source": [
    "import sys\n",
    "sys.path.insert(0, '../')\n",
    "import ccob_qe_analysis_BOT as ana\n",
    "import matplotlib.pyplot as plt\n",
    "%load_ext autoreload\n",
    "%autoreload 2\n",
    "import numpy as np\n",
    "from lsst.obs.lsst.cameraTransforms import LsstCameraTransforms\n",
    "from lsst.obs.lsst import LsstCamMapper as camMapper"
   ]
  },
  {
   "cell_type": "code",
   "execution_count": null,
   "metadata": {},
   "outputs": [
    {
     "name": "stdout",
     "output_type": "stream",
     "text": [
      "Averaging the following files:\n",
      "\n",
      "['/gpfs/slac/lsst/fs3/g/data/jobHarness/jh_stage-test/LCA-10134_Cryostat/LCA-10134_Cryostat-0001/6852D/BOT_acq/v0/48113/ccob_nm960_-159.175_-32.325_006/MC_C_20191028_005273_R12_S00.fits']\n",
      "3.1496989966555202 14.95983277591975 37.81030100334448 25.080167224080252\n",
      "40.96 40.040000000000006\n",
      "(4004, 4096)\n",
      "40.040000000000006\n",
      "40.959999999999994\n",
      "Averaging the following files:\n",
      "\n",
      "['/gpfs/slac/lsst/fs3/g/data/jobHarness/jh_stage-test/LCA-10134_Cryostat/LCA-10134_Cryostat-0001/6852D/BOT_acq/v0/48113/ccob_nm960_-159.175_-52.805_000/MC_C_20191028_005267_R12_S00.fits']\n",
      "Averaging the following files:\n",
      "\n",
      "['/gpfs/slac/lsst/fs3/g/data/jobHarness/jh_stage-test/LCA-10134_Cryostat/LCA-10134_Cryostat-0001/6853D/BOT_acq/v0/48118/ccob_nm960_-9.315_-306.595_108/MC_C_20191028_005655_R20_S10.fits']\n"
     ]
    },
    {
     "name": "stderr",
     "output_type": "stream",
     "text": [
      "../ccob_qe_data.py:84: ResourceWarning: unclosed file <_io.FileIO name='/home/combet/tmp_9rafts/tmp.fits' mode='rb' closefd=True>\n",
      "  mosaic, amp_coord = u.make_ccd_2d_array(tmp_file, gains=self.gains, biasfile=self.biasfile)\n"
     ]
    },
    {
     "name": "stdout",
     "output_type": "stream",
     "text": [
      "23.449698996655517 34.94983277591973 17.270301003344485 5.050167224080272\n",
      "40.72 40.0\n",
      "(4000, 4072)\n",
      "40.0\n",
      "40.72\n",
      "Averaging the following files:\n",
      "\n",
      "['/gpfs/slac/lsst/fs3/g/data/jobHarness/jh_stage-test/LCA-10134_Cryostat/LCA-10134_Cryostat-0001/6853D/BOT_acq/v0/48118/ccob_nm960_0.685_-296.415_102/MC_C_20191028_005649_R20_S10.fits']\n"
     ]
    },
    {
     "name": "stderr",
     "output_type": "stream",
     "text": [
      "../ccob_qe_data.py:84: ResourceWarning: unclosed file <_io.FileIO name='/home/combet/tmp_9rafts/tmp.fits' mode='rb' closefd=True>\n",
      "  mosaic, amp_coord = u.make_ccd_2d_array(tmp_file, gains=self.gains, biasfile=self.biasfile)\n"
     ]
    },
    {
     "name": "stdout",
     "output_type": "stream",
     "text": [
      "13.269698996655515 24.94983277591973 27.450301003344485 15.05016722408027\n",
      "40.72 40.0\n",
      "(4000, 4072)\n",
      "40.0\n",
      "40.72\n",
      "Averaging the following files:\n",
      "\n",
      "['/gpfs/slac/lsst/fs3/g/data/jobHarness/jh_stage-test/LCA-10134_Cryostat/LCA-10134_Cryostat-0001/6853D/BOT_acq/v0/48118/ccob_nm960_10.685_-286.235_096/MC_C_20191028_005643_R20_S10.fits']\n"
     ]
    },
    {
     "name": "stderr",
     "output_type": "stream",
     "text": [
      "../ccob_qe_data.py:84: ResourceWarning: unclosed file <_io.FileIO name='/home/combet/tmp_9rafts/tmp.fits' mode='rb' closefd=True>\n",
      "  mosaic, amp_coord = u.make_ccd_2d_array(tmp_file, gains=self.gains, biasfile=self.biasfile)\n"
     ]
    },
    {
     "name": "stdout",
     "output_type": "stream",
     "text": [
      "3.0896989966554793 14.949832775919731 37.63030100334452 25.05016722408027\n",
      "40.72 40.0\n",
      "(4000, 4072)\n",
      "40.0\n",
      "40.72\n",
      "Averaging the following files:\n",
      "\n",
      "['/gpfs/slac/lsst/fs3/g/data/jobHarness/jh_stage-test/LCA-10134_Cryostat/LCA-10134_Cryostat-0001/6853D/BOT_acq/v0/48118/ccob_nm960_10.685_-306.595_090/MC_C_20191028_005637_R20_S10.fits']\n"
     ]
    },
    {
     "name": "stderr",
     "output_type": "stream",
     "text": [
      "../ccob_qe_data.py:84: ResourceWarning: unclosed file <_io.FileIO name='/home/combet/tmp_9rafts/tmp.fits' mode='rb' closefd=True>\n",
      "  mosaic, amp_coord = u.make_ccd_2d_array(tmp_file, gains=self.gains, biasfile=self.biasfile)\n"
     ]
    },
    {
     "name": "stdout",
     "output_type": "stream",
     "text": [
      "23.449698996655517 14.949832775919731 17.270301003344485 25.05016722408027\n",
      "40.72 40.0\n",
      "(4000, 4072)\n",
      "40.0\n",
      "40.72\n",
      "Averaging the following files:\n",
      "\n",
      "['/gpfs/slac/lsst/fs3/g/data/jobHarness/jh_stage-test/LCA-10134_Cryostat/LCA-10134_Cryostat-0001/6853D/BOT_acq/v0/48118/ccob_nm960_-9.395_-243.915_144/MC_C_20191028_005691_R20_S11.fits']\n"
     ]
    },
    {
     "name": "stderr",
     "output_type": "stream",
     "text": [
      "../ccob_qe_data.py:84: ResourceWarning: unclosed file <_io.FileIO name='/home/combet/tmp_9rafts/tmp.fits' mode='rb' closefd=True>\n",
      "  mosaic, amp_coord = u.make_ccd_2d_array(tmp_file, gains=self.gains, biasfile=self.biasfile)\n"
     ]
    },
    {
     "name": "stdout",
     "output_type": "stream",
     "text": [
      "3.0896989966555157 34.94983277591973 37.630301003344485 5.050167224080269\n",
      "40.72 40.0\n",
      "(4000, 4072)\n",
      "40.0\n",
      "40.72\n",
      "Averaging the following files:\n",
      "\n",
      "['/gpfs/slac/lsst/fs3/g/data/jobHarness/jh_stage-test/LCA-10134_Cryostat/LCA-10134_Cryostat-0001/6853D/BOT_acq/v0/48118/ccob_nm960_-9.395_-264.275_138/MC_C_20191028_005685_R20_S11.fits']\n"
     ]
    },
    {
     "name": "stderr",
     "output_type": "stream",
     "text": [
      "../ccob_qe_data.py:84: ResourceWarning: unclosed file <_io.FileIO name='/home/combet/tmp_9rafts/tmp.fits' mode='rb' closefd=True>\n",
      "  mosaic, amp_coord = u.make_ccd_2d_array(tmp_file, gains=self.gains, biasfile=self.biasfile)\n"
     ]
    },
    {
     "name": "stdout",
     "output_type": "stream",
     "text": [
      "23.44969899665548 34.94983277591973 17.27030100334452 5.050167224080269\n",
      "40.72 40.0\n",
      "(4000, 4072)\n",
      "40.0\n",
      "40.72\n",
      "Averaging the following files:\n",
      "\n",
      "['/gpfs/slac/lsst/fs3/g/data/jobHarness/jh_stage-test/LCA-10134_Cryostat/LCA-10134_Cryostat-0001/6853D/BOT_acq/v0/48118/ccob_nm960_0.605_-254.095_132/MC_C_20191028_005679_R20_S11.fits']\n"
     ]
    },
    {
     "name": "stderr",
     "output_type": "stream",
     "text": [
      "../ccob_qe_data.py:84: ResourceWarning: unclosed file <_io.FileIO name='/home/combet/tmp_9rafts/tmp.fits' mode='rb' closefd=True>\n",
      "  mosaic, amp_coord = u.make_ccd_2d_array(tmp_file, gains=self.gains, biasfile=self.biasfile)\n"
     ]
    },
    {
     "name": "stdout",
     "output_type": "stream",
     "text": [
      "13.269698996655515 24.94983277591973 27.450301003344485 15.050167224080269\n",
      "40.72 40.0\n",
      "(4000, 4072)\n",
      "40.0\n",
      "40.72\n",
      "Averaging the following files:\n",
      "\n",
      "['/gpfs/slac/lsst/fs3/g/data/jobHarness/jh_stage-test/LCA-10134_Cryostat/LCA-10134_Cryostat-0001/6853D/BOT_acq/v0/48118/ccob_nm960_10.605_-243.915_126/MC_C_20191028_005673_R20_S11.fits']\n"
     ]
    },
    {
     "name": "stderr",
     "output_type": "stream",
     "text": [
      "../ccob_qe_data.py:84: ResourceWarning: unclosed file <_io.FileIO name='/home/combet/tmp_9rafts/tmp.fits' mode='rb' closefd=True>\n",
      "  mosaic, amp_coord = u.make_ccd_2d_array(tmp_file, gains=self.gains, biasfile=self.biasfile)\n"
     ]
    },
    {
     "name": "stdout",
     "output_type": "stream",
     "text": [
      "3.0896989966555157 14.949832775919731 37.630301003344485 25.05016722408027\n",
      "40.72 40.0\n",
      "(4000, 4072)\n",
      "40.0\n",
      "40.72\n",
      "Averaging the following files:\n",
      "\n",
      "['/gpfs/slac/lsst/fs3/g/data/jobHarness/jh_stage-test/LCA-10134_Cryostat/LCA-10134_Cryostat-0001/6853D/BOT_acq/v0/48118/ccob_nm960_10.605_-264.275_120/MC_C_20191028_005667_R20_S11.fits']\n"
     ]
    },
    {
     "name": "stderr",
     "output_type": "stream",
     "text": [
      "../ccob_qe_data.py:84: ResourceWarning: unclosed file <_io.FileIO name='/home/combet/tmp_9rafts/tmp.fits' mode='rb' closefd=True>\n",
      "  mosaic, amp_coord = u.make_ccd_2d_array(tmp_file, gains=self.gains, biasfile=self.biasfile)\n"
     ]
    },
    {
     "name": "stdout",
     "output_type": "stream",
     "text": [
      "23.44969899665548 14.949832775919731 17.27030100334452 25.05016722408027\n",
      "40.72 40.0\n",
      "(4000, 4072)\n",
      "40.0\n",
      "40.72\n",
      "Averaging the following files:\n",
      "\n",
      "['/gpfs/slac/lsst/fs3/g/data/jobHarness/jh_stage-test/LCA-10134_Cryostat/LCA-10134_Cryostat-0001/6853D/BOT_acq/v0/48118/ccob_nm960_-9.495_-201.635_174/MC_C_20191028_005721_R20_S12.fits']\n"
     ]
    },
    {
     "name": "stderr",
     "output_type": "stream",
     "text": [
      "../ccob_qe_data.py:84: ResourceWarning: unclosed file <_io.FileIO name='/home/combet/tmp_9rafts/tmp.fits' mode='rb' closefd=True>\n",
      "  mosaic, amp_coord = u.make_ccd_2d_array(tmp_file, gains=self.gains, biasfile=self.biasfile)\n"
     ]
    },
    {
     "name": "stdout",
     "output_type": "stream",
     "text": [
      "3.0896989966555157 34.94983277591973 37.630301003344485 5.05016722408027\n",
      "40.72 40.0\n",
      "(4000, 4072)\n",
      "40.0\n",
      "40.72\n",
      "Averaging the following files:\n",
      "\n",
      "['/gpfs/slac/lsst/fs3/g/data/jobHarness/jh_stage-test/LCA-10134_Cryostat/LCA-10134_Cryostat-0001/6853D/BOT_acq/v0/48118/ccob_nm960_-9.495_-221.995_168/MC_C_20191028_005715_R20_S12.fits']\n"
     ]
    },
    {
     "name": "stderr",
     "output_type": "stream",
     "text": [
      "../ccob_qe_data.py:84: ResourceWarning: unclosed file <_io.FileIO name='/home/combet/tmp_9rafts/tmp.fits' mode='rb' closefd=True>\n",
      "  mosaic, amp_coord = u.make_ccd_2d_array(tmp_file, gains=self.gains, biasfile=self.biasfile)\n"
     ]
    },
    {
     "name": "stdout",
     "output_type": "stream",
     "text": [
      "23.449698996655517 34.94983277591973 17.270301003344485 5.05016722408027\n",
      "40.72 40.0\n",
      "(4000, 4072)\n",
      "40.0\n",
      "40.72\n",
      "Averaging the following files:\n",
      "\n",
      "['/gpfs/slac/lsst/fs3/g/data/jobHarness/jh_stage-test/LCA-10134_Cryostat/LCA-10134_Cryostat-0001/6853D/BOT_acq/v0/48118/ccob_nm960_0.505_-211.815_162/MC_C_20191028_005709_R20_S12.fits']\n"
     ]
    },
    {
     "name": "stderr",
     "output_type": "stream",
     "text": [
      "../ccob_qe_data.py:84: ResourceWarning: unclosed file <_io.FileIO name='/home/combet/tmp_9rafts/tmp.fits' mode='rb' closefd=True>\n",
      "  mosaic, amp_coord = u.make_ccd_2d_array(tmp_file, gains=self.gains, biasfile=self.biasfile)\n"
     ]
    },
    {
     "name": "stdout",
     "output_type": "stream",
     "text": [
      "13.269698996655515 24.94983277591973 27.450301003344485 15.050167224080269\n",
      "40.72 40.0\n",
      "(4000, 4072)\n",
      "40.0\n",
      "40.72\n",
      "Averaging the following files:\n",
      "\n",
      "['/gpfs/slac/lsst/fs3/g/data/jobHarness/jh_stage-test/LCA-10134_Cryostat/LCA-10134_Cryostat-0001/6853D/BOT_acq/v0/48118/ccob_nm960_10.505_-201.635_156/MC_C_20191028_005703_R20_S12.fits']\n"
     ]
    },
    {
     "name": "stderr",
     "output_type": "stream",
     "text": [
      "../ccob_qe_data.py:84: ResourceWarning: unclosed file <_io.FileIO name='/home/combet/tmp_9rafts/tmp.fits' mode='rb' closefd=True>\n",
      "  mosaic, amp_coord = u.make_ccd_2d_array(tmp_file, gains=self.gains, biasfile=self.biasfile)\n"
     ]
    },
    {
     "name": "stdout",
     "output_type": "stream",
     "text": [
      "3.0896989966555157 14.949832775919731 37.630301003344485 25.05016722408027\n",
      "40.72 40.0\n",
      "(4000, 4072)\n",
      "40.0\n",
      "40.72\n",
      "Averaging the following files:\n",
      "\n",
      "['/gpfs/slac/lsst/fs3/g/data/jobHarness/jh_stage-test/LCA-10134_Cryostat/LCA-10134_Cryostat-0001/6853D/BOT_acq/v0/48118/ccob_nm960_10.505_-221.995_150/MC_C_20191028_005697_R20_S12.fits']\n"
     ]
    },
    {
     "name": "stderr",
     "output_type": "stream",
     "text": [
      "../ccob_qe_data.py:84: ResourceWarning: unclosed file <_io.FileIO name='/home/combet/tmp_9rafts/tmp.fits' mode='rb' closefd=True>\n",
      "  mosaic, amp_coord = u.make_ccd_2d_array(tmp_file, gains=self.gains, biasfile=self.biasfile)\n"
     ]
    },
    {
     "name": "stdout",
     "output_type": "stream",
     "text": [
      "23.449698996655517 14.949832775919731 17.270301003344485 25.05016722408027\n",
      "40.72 40.0\n",
      "(4000, 4072)\n",
      "40.0\n",
      "40.72\n",
      "Averaging the following files:\n",
      "\n",
      "['/gpfs/slac/lsst/fs3/g/data/jobHarness/jh_stage-test/LCA-10134_Cryostat/LCA-10134_Cryostat-0001/6853D/BOT_acq/v0/48118/ccob_nm960_32.965_-286.105_204/MC_C_20191028_005751_R20_S20.fits']\n"
     ]
    },
    {
     "name": "stderr",
     "output_type": "stream",
     "text": [
      "../ccob_qe_data.py:84: ResourceWarning: unclosed file <_io.FileIO name='/home/combet/tmp_9rafts/tmp.fits' mode='rb' closefd=True>\n",
      "  mosaic, amp_coord = u.make_ccd_2d_array(tmp_file, gains=self.gains, biasfile=self.biasfile)\n"
     ]
    },
    {
     "name": "stdout",
     "output_type": "stream",
     "text": [
      "3.0896989966554793 34.949832775919724 37.63030100334452 5.0501672240802735\n",
      "40.72 40.0\n",
      "(4000, 4072)\n",
      "40.0\n",
      "40.72\n",
      "Averaging the following files:\n",
      "\n",
      "['/gpfs/slac/lsst/fs3/g/data/jobHarness/jh_stage-test/LCA-10134_Cryostat/LCA-10134_Cryostat-0001/6853D/BOT_acq/v0/48118/ccob_nm960_32.965_-306.465_198/MC_C_20191028_005745_R20_S20.fits']\n"
     ]
    },
    {
     "name": "stderr",
     "output_type": "stream",
     "text": [
      "../ccob_qe_data.py:84: ResourceWarning: unclosed file <_io.FileIO name='/home/combet/tmp_9rafts/tmp.fits' mode='rb' closefd=True>\n",
      "  mosaic, amp_coord = u.make_ccd_2d_array(tmp_file, gains=self.gains, biasfile=self.biasfile)\n"
     ]
    },
    {
     "name": "stdout",
     "output_type": "stream",
     "text": [
      "23.449698996655442 34.949832775919724 17.270301003344557 5.0501672240802735\n",
      "40.72 40.0\n",
      "(4000, 4072)\n",
      "40.0\n",
      "40.72\n",
      "Averaging the following files:\n",
      "\n",
      "['/gpfs/slac/lsst/fs3/g/data/jobHarness/jh_stage-test/LCA-10134_Cryostat/LCA-10134_Cryostat-0001/6853D/BOT_acq/v0/48118/ccob_nm960_42.965_-296.285_192/MC_C_20191028_005739_R20_S20.fits']\n"
     ]
    },
    {
     "name": "stderr",
     "output_type": "stream",
     "text": [
      "../ccob_qe_data.py:84: ResourceWarning: unclosed file <_io.FileIO name='/home/combet/tmp_9rafts/tmp.fits' mode='rb' closefd=True>\n",
      "  mosaic, amp_coord = u.make_ccd_2d_array(tmp_file, gains=self.gains, biasfile=self.biasfile)\n"
     ]
    },
    {
     "name": "stdout",
     "output_type": "stream",
     "text": [
      "13.269698996655515 24.94983277591973 27.450301003344485 15.050167224080269\n",
      "40.72 40.0\n",
      "(4000, 4072)\n",
      "40.0\n",
      "40.72\n",
      "Averaging the following files:\n",
      "\n",
      "['/gpfs/slac/lsst/fs3/g/data/jobHarness/jh_stage-test/LCA-10134_Cryostat/LCA-10134_Cryostat-0001/6853D/BOT_acq/v0/48118/ccob_nm960_52.965_-286.105_186/MC_C_20191028_005733_R20_S20.fits']\n"
     ]
    },
    {
     "name": "stderr",
     "output_type": "stream",
     "text": [
      "../ccob_qe_data.py:84: ResourceWarning: unclosed file <_io.FileIO name='/home/combet/tmp_9rafts/tmp.fits' mode='rb' closefd=True>\n",
      "  mosaic, amp_coord = u.make_ccd_2d_array(tmp_file, gains=self.gains, biasfile=self.biasfile)\n"
     ]
    },
    {
     "name": "stdout",
     "output_type": "stream",
     "text": [
      "3.0896989966554793 14.949832775919731 37.63030100334452 25.05016722408027\n",
      "40.72 40.0\n",
      "(4000, 4072)\n",
      "40.0\n",
      "40.72\n",
      "Averaging the following files:\n",
      "\n",
      "['/gpfs/slac/lsst/fs3/g/data/jobHarness/jh_stage-test/LCA-10134_Cryostat/LCA-10134_Cryostat-0001/6853D/BOT_acq/v0/48118/ccob_nm960_52.965_-306.465_180/MC_C_20191028_005727_R20_S20.fits']\n"
     ]
    },
    {
     "name": "stderr",
     "output_type": "stream",
     "text": [
      "../ccob_qe_data.py:84: ResourceWarning: unclosed file <_io.FileIO name='/home/combet/tmp_9rafts/tmp.fits' mode='rb' closefd=True>\n",
      "  mosaic, amp_coord = u.make_ccd_2d_array(tmp_file, gains=self.gains, biasfile=self.biasfile)\n"
     ]
    },
    {
     "name": "stdout",
     "output_type": "stream",
     "text": [
      "23.449698996655442 14.949832775919731 17.270301003344557 25.05016722408027\n",
      "40.72 40.0\n",
      "(4000, 4072)\n",
      "40.0\n",
      "40.72\n",
      "Averaging the following files:\n",
      "\n",
      "['/gpfs/slac/lsst/fs3/g/data/jobHarness/jh_stage-test/LCA-10134_Cryostat/LCA-10134_Cryostat-0001/6853D/BOT_acq/v0/48118/ccob_nm960_32.885_-243.815_234/MC_C_20191028_005781_R20_S21.fits']\n"
     ]
    },
    {
     "name": "stderr",
     "output_type": "stream",
     "text": [
      "../ccob_qe_data.py:84: ResourceWarning: unclosed file <_io.FileIO name='/home/combet/tmp_9rafts/tmp.fits' mode='rb' closefd=True>\n",
      "  mosaic, amp_coord = u.make_ccd_2d_array(tmp_file, gains=self.gains, biasfile=self.biasfile)\n"
     ]
    },
    {
     "name": "stdout",
     "output_type": "stream",
     "text": [
      "3.0896989966555157 34.94983277591973 37.630301003344485 5.050167224080269\n",
      "40.72 40.0\n",
      "(4000, 4072)\n",
      "40.0\n",
      "40.72\n",
      "Averaging the following files:\n",
      "\n",
      "['/gpfs/slac/lsst/fs3/g/data/jobHarness/jh_stage-test/LCA-10134_Cryostat/LCA-10134_Cryostat-0001/6853D/BOT_acq/v0/48118/ccob_nm960_32.885_-264.175_228/MC_C_20191028_005775_R20_S21.fits']\n"
     ]
    },
    {
     "name": "stderr",
     "output_type": "stream",
     "text": [
      "../ccob_qe_data.py:84: ResourceWarning: unclosed file <_io.FileIO name='/home/combet/tmp_9rafts/tmp.fits' mode='rb' closefd=True>\n",
      "  mosaic, amp_coord = u.make_ccd_2d_array(tmp_file, gains=self.gains, biasfile=self.biasfile)\n"
     ]
    },
    {
     "name": "stdout",
     "output_type": "stream",
     "text": [
      "23.449698996655517 34.94983277591973 17.270301003344485 5.050167224080269\n",
      "40.72 40.0\n",
      "(4000, 4072)\n",
      "40.0\n",
      "40.72\n",
      "Averaging the following files:\n",
      "\n",
      "['/gpfs/slac/lsst/fs3/g/data/jobHarness/jh_stage-test/LCA-10134_Cryostat/LCA-10134_Cryostat-0001/6853D/BOT_acq/v0/48118/ccob_nm960_42.885_-253.995_222/MC_C_20191028_005769_R20_S21.fits']\n"
     ]
    },
    {
     "name": "stderr",
     "output_type": "stream",
     "text": [
      "../ccob_qe_data.py:84: ResourceWarning: unclosed file <_io.FileIO name='/home/combet/tmp_9rafts/tmp.fits' mode='rb' closefd=True>\n",
      "  mosaic, amp_coord = u.make_ccd_2d_array(tmp_file, gains=self.gains, biasfile=self.biasfile)\n"
     ]
    },
    {
     "name": "stdout",
     "output_type": "stream",
     "text": [
      "13.269698996655515 24.94983277591973 27.450301003344485 15.050167224080269\n",
      "40.72 40.0\n",
      "(4000, 4072)\n",
      "40.0\n",
      "40.72\n",
      "Averaging the following files:\n",
      "\n",
      "['/gpfs/slac/lsst/fs3/g/data/jobHarness/jh_stage-test/LCA-10134_Cryostat/LCA-10134_Cryostat-0001/6853D/BOT_acq/v0/48118/ccob_nm960_52.885_-243.815_216/MC_C_20191028_005763_R20_S21.fits']\n"
     ]
    },
    {
     "name": "stderr",
     "output_type": "stream",
     "text": [
      "../ccob_qe_data.py:84: ResourceWarning: unclosed file <_io.FileIO name='/home/combet/tmp_9rafts/tmp.fits' mode='rb' closefd=True>\n",
      "  mosaic, amp_coord = u.make_ccd_2d_array(tmp_file, gains=self.gains, biasfile=self.biasfile)\n"
     ]
    },
    {
     "name": "stdout",
     "output_type": "stream",
     "text": [
      "3.0896989966555157 14.949832775919731 37.630301003344485 25.05016722408027\n",
      "40.72 40.0\n",
      "(4000, 4072)\n",
      "40.0\n",
      "40.72\n",
      "Averaging the following files:\n",
      "\n",
      "['/gpfs/slac/lsst/fs3/g/data/jobHarness/jh_stage-test/LCA-10134_Cryostat/LCA-10134_Cryostat-0001/6853D/BOT_acq/v0/48118/ccob_nm960_52.885_-264.175_210/MC_C_20191028_005757_R20_S21.fits']\n"
     ]
    },
    {
     "name": "stderr",
     "output_type": "stream",
     "text": [
      "../ccob_qe_data.py:84: ResourceWarning: unclosed file <_io.FileIO name='/home/combet/tmp_9rafts/tmp.fits' mode='rb' closefd=True>\n",
      "  mosaic, amp_coord = u.make_ccd_2d_array(tmp_file, gains=self.gains, biasfile=self.biasfile)\n"
     ]
    },
    {
     "name": "stdout",
     "output_type": "stream",
     "text": [
      "23.449698996655517 14.949832775919731 17.270301003344485 25.05016722408027\n",
      "40.72 40.0\n",
      "(4000, 4072)\n",
      "40.0\n",
      "40.72\n",
      "Averaging the following files:\n",
      "\n",
      "['/gpfs/slac/lsst/fs3/g/data/jobHarness/jh_stage-test/LCA-10134_Cryostat/LCA-10134_Cryostat-0001/6853D/BOT_acq/v0/48118/ccob_nm960_32.805_-201.555_264/MC_C_20191028_005811_R20_S22.fits']\n"
     ]
    },
    {
     "name": "stderr",
     "output_type": "stream",
     "text": [
      "../ccob_qe_data.py:84: ResourceWarning: unclosed file <_io.FileIO name='/home/combet/tmp_9rafts/tmp.fits' mode='rb' closefd=True>\n",
      "  mosaic, amp_coord = u.make_ccd_2d_array(tmp_file, gains=self.gains, biasfile=self.biasfile)\n"
     ]
    },
    {
     "name": "stdout",
     "output_type": "stream",
     "text": [
      "3.0896989966555157 34.949832775919724 37.630301003344485 5.0501672240802735\n",
      "40.72 40.0\n",
      "(4000, 4072)\n",
      "40.0\n",
      "40.72\n",
      "Averaging the following files:\n",
      "\n",
      "['/gpfs/slac/lsst/fs3/g/data/jobHarness/jh_stage-test/LCA-10134_Cryostat/LCA-10134_Cryostat-0001/6853D/BOT_acq/v0/48118/ccob_nm960_32.805_-221.915_258/MC_C_20191028_005805_R20_S22.fits']\n"
     ]
    },
    {
     "name": "stderr",
     "output_type": "stream",
     "text": [
      "../ccob_qe_data.py:84: ResourceWarning: unclosed file <_io.FileIO name='/home/combet/tmp_9rafts/tmp.fits' mode='rb' closefd=True>\n",
      "  mosaic, amp_coord = u.make_ccd_2d_array(tmp_file, gains=self.gains, biasfile=self.biasfile)\n"
     ]
    },
    {
     "name": "stdout",
     "output_type": "stream",
     "text": [
      "23.449698996655517 34.949832775919724 17.270301003344485 5.0501672240802735\n",
      "40.72 40.0\n",
      "(4000, 4072)\n",
      "40.0\n",
      "40.72\n",
      "Averaging the following files:\n",
      "\n",
      "['/gpfs/slac/lsst/fs3/g/data/jobHarness/jh_stage-test/LCA-10134_Cryostat/LCA-10134_Cryostat-0001/6853D/BOT_acq/v0/48118/ccob_nm960_42.805_-211.735_252/MC_C_20191028_005799_R20_S22.fits']\n"
     ]
    },
    {
     "name": "stderr",
     "output_type": "stream",
     "text": [
      "../ccob_qe_data.py:84: ResourceWarning: unclosed file <_io.FileIO name='/home/combet/tmp_9rafts/tmp.fits' mode='rb' closefd=True>\n",
      "  mosaic, amp_coord = u.make_ccd_2d_array(tmp_file, gains=self.gains, biasfile=self.biasfile)\n"
     ]
    },
    {
     "name": "stdout",
     "output_type": "stream",
     "text": [
      "13.269698996655515 24.949832775919727 27.450301003344485 15.050167224080274\n",
      "40.72 40.0\n",
      "(4000, 4072)\n",
      "40.0\n",
      "40.72\n",
      "Averaging the following files:\n",
      "\n",
      "['/gpfs/slac/lsst/fs3/g/data/jobHarness/jh_stage-test/LCA-10134_Cryostat/LCA-10134_Cryostat-0001/6853D/BOT_acq/v0/48118/ccob_nm960_52.805_-201.555_246/MC_C_20191028_005793_R20_S22.fits']\n"
     ]
    },
    {
     "name": "stderr",
     "output_type": "stream",
     "text": [
      "../ccob_qe_data.py:84: ResourceWarning: unclosed file <_io.FileIO name='/home/combet/tmp_9rafts/tmp.fits' mode='rb' closefd=True>\n",
      "  mosaic, amp_coord = u.make_ccd_2d_array(tmp_file, gains=self.gains, biasfile=self.biasfile)\n"
     ]
    },
    {
     "name": "stdout",
     "output_type": "stream",
     "text": [
      "3.0896989966555157 14.949832775919727 37.630301003344485 25.050167224080273\n",
      "40.72 40.0\n",
      "(4000, 4072)\n",
      "40.0\n",
      "40.72\n",
      "Averaging the following files:\n",
      "\n",
      "['/gpfs/slac/lsst/fs3/g/data/jobHarness/jh_stage-test/LCA-10134_Cryostat/LCA-10134_Cryostat-0001/6853D/BOT_acq/v0/48118/ccob_nm960_52.805_-221.915_240/MC_C_20191028_005787_R20_S22.fits']\n"
     ]
    },
    {
     "name": "stderr",
     "output_type": "stream",
     "text": [
      "../ccob_qe_data.py:84: ResourceWarning: unclosed file <_io.FileIO name='/home/combet/tmp_9rafts/tmp.fits' mode='rb' closefd=True>\n",
      "  mosaic, amp_coord = u.make_ccd_2d_array(tmp_file, gains=self.gains, biasfile=self.biasfile)\n"
     ]
    },
    {
     "name": "stdout",
     "output_type": "stream",
     "text": [
      "23.449698996655517 14.949832775919727 17.270301003344485 25.050167224080273\n",
      "40.72 40.0\n",
      "(4000, 4072)\n",
      "40.0\n",
      "40.72\n",
      "Averaging the following files:\n",
      "\n",
      "['/gpfs/slac/lsst/fs3/g/data/jobHarness/jh_stage/LCA-10134_Cryostat/LCA-10134_Cryostat-0001/11974/BOT_acq/v0/93868/ccob_nm960_-32.175_-32.125_030/MC_C_20191027_000085_R22_S00.fits'\n",
      " '/gpfs/slac/lsst/fs3/g/data/jobHarness/jh_stage/LCA-10134_Cryostat/LCA-10134_Cryostat-0001/11974/BOT_acq/v0/93868/ccob_nm960_-32.175_-32.125_031/MC_C_20191027_000086_R22_S00.fits'\n",
      " '/gpfs/slac/lsst/fs3/g/data/jobHarness/jh_stage/LCA-10134_Cryostat/LCA-10134_Cryostat-0001/11974/BOT_acq/v0/93868/ccob_nm960_-32.175_-32.125_032/MC_C_20191027_000087_R22_S00.fits'\n",
      " '/gpfs/slac/lsst/fs3/g/data/jobHarness/jh_stage/LCA-10134_Cryostat/LCA-10134_Cryostat-0001/11974/BOT_acq/v0/93868/ccob_nm960_-32.175_-32.125_033/MC_C_20191027_000088_R22_S00.fits'\n",
      " '/gpfs/slac/lsst/fs3/g/data/jobHarness/jh_stage/LCA-10134_Cryostat/LCA-10134_Cryostat-0001/11974/BOT_acq/v0/93868/ccob_nm960_-32.175_-32.125_034/MC_C_20191027_000089_R22_S00.fits']\n"
     ]
    },
    {
     "name": "stderr",
     "output_type": "stream",
     "text": [
      "../ccob_qe_data.py:84: ResourceWarning: unclosed file <_io.FileIO name='/home/combet/tmp_9rafts/tmp.fits' mode='rb' closefd=True>\n",
      "  mosaic, amp_coord = u.make_ccd_2d_array(tmp_file, gains=self.gains, biasfile=self.biasfile)\n"
     ]
    },
    {
     "name": "stdout",
     "output_type": "stream",
     "text": [
      "3.149698996655516 14.959832775919727 37.810301003344485 25.080167224080274\n",
      "40.96 40.04\n",
      "(4004, 4096)\n",
      "40.04\n",
      "40.96\n",
      "Averaging the following files:\n",
      "\n",
      "['/gpfs/slac/lsst/fs3/g/data/jobHarness/jh_stage/LCA-10134_Cryostat/LCA-10134_Cryostat-0001/11974/BOT_acq/v0/93868/ccob_nm960_-32.175_-52.605_000/MC_C_20191027_000055_R22_S00.fits'\n",
      " '/gpfs/slac/lsst/fs3/g/data/jobHarness/jh_stage/LCA-10134_Cryostat/LCA-10134_Cryostat-0001/11974/BOT_acq/v0/93868/ccob_nm960_-32.175_-52.605_001/MC_C_20191027_000056_R22_S00.fits'\n",
      " '/gpfs/slac/lsst/fs3/g/data/jobHarness/jh_stage/LCA-10134_Cryostat/LCA-10134_Cryostat-0001/11974/BOT_acq/v0/93868/ccob_nm960_-32.175_-52.605_002/MC_C_20191027_000057_R22_S00.fits'\n",
      " '/gpfs/slac/lsst/fs3/g/data/jobHarness/jh_stage/LCA-10134_Cryostat/LCA-10134_Cryostat-0001/11974/BOT_acq/v0/93868/ccob_nm960_-32.175_-52.605_003/MC_C_20191027_000058_R22_S00.fits'\n",
      " '/gpfs/slac/lsst/fs3/g/data/jobHarness/jh_stage/LCA-10134_Cryostat/LCA-10134_Cryostat-0001/11974/BOT_acq/v0/93868/ccob_nm960_-32.175_-52.605_004/MC_C_20191027_000059_R22_S00.fits']\n"
     ]
    },
    {
     "name": "stderr",
     "output_type": "stream",
     "text": [
      "../ccob_qe_data.py:84: ResourceWarning: unclosed file <_io.FileIO name='/home/combet/tmp_9rafts/tmp.fits' mode='rb' closefd=True>\n",
      "  mosaic, amp_coord = u.make_ccd_2d_array(tmp_file, gains=self.gains, biasfile=self.biasfile)\n"
     ]
    },
    {
     "name": "stdout",
     "output_type": "stream",
     "text": [
      "23.629698996655517 14.959832775919727 17.330301003344484 25.080167224080274\n",
      "40.96 40.04\n",
      "(4004, 4096)\n",
      "40.04\n",
      "40.96\n",
      "Averaging the following files:\n",
      "\n",
      "['/gpfs/slac/lsst/fs3/g/data/jobHarness/jh_stage/LCA-10134_Cryostat/LCA-10134_Cryostat-0001/11974/BOT_acq/v0/93868/ccob_nm960_-42.185_-42.365_060/MC_C_20191027_000115_R22_S00.fits'\n",
      " '/gpfs/slac/lsst/fs3/g/data/jobHarness/jh_stage/LCA-10134_Cryostat/LCA-10134_Cryostat-0001/11974/BOT_acq/v0/93868/ccob_nm960_-42.185_-42.365_061/MC_C_20191027_000116_R22_S00.fits'\n",
      " '/gpfs/slac/lsst/fs3/g/data/jobHarness/jh_stage/LCA-10134_Cryostat/LCA-10134_Cryostat-0001/11974/BOT_acq/v0/93868/ccob_nm960_-42.185_-42.365_062/MC_C_20191027_000117_R22_S00.fits'\n",
      " '/gpfs/slac/lsst/fs3/g/data/jobHarness/jh_stage/LCA-10134_Cryostat/LCA-10134_Cryostat-0001/11974/BOT_acq/v0/93868/ccob_nm960_-42.185_-42.365_063/MC_C_20191027_000118_R22_S00.fits'\n",
      " '/gpfs/slac/lsst/fs3/g/data/jobHarness/jh_stage/LCA-10134_Cryostat/LCA-10134_Cryostat-0001/11974/BOT_acq/v0/93868/ccob_nm960_-42.185_-42.365_064/MC_C_20191027_000119_R22_S00.fits']\n"
     ]
    },
    {
     "name": "stderr",
     "output_type": "stream",
     "text": [
      "../ccob_qe_data.py:84: ResourceWarning: unclosed file <_io.FileIO name='/home/combet/tmp_9rafts/tmp.fits' mode='rb' closefd=True>\n",
      "  mosaic, amp_coord = u.make_ccd_2d_array(tmp_file, gains=self.gains, biasfile=self.biasfile)\n"
     ]
    },
    {
     "name": "stdout",
     "output_type": "stream",
     "text": [
      "13.389698996655516 24.96983277591973 27.570301003344486 15.070167224080269\n",
      "40.96 40.04\n",
      "(4004, 4096)\n",
      "40.04\n",
      "40.96000000000001\n",
      "Averaging the following files:\n",
      "\n",
      "['/gpfs/slac/lsst/fs3/g/data/jobHarness/jh_stage/LCA-10134_Cryostat/LCA-10134_Cryostat-0001/11974/BOT_acq/v0/93868/ccob_nm960_-52.195_-32.125_120/MC_C_20191027_000175_R22_S00.fits'\n",
      " '/gpfs/slac/lsst/fs3/g/data/jobHarness/jh_stage/LCA-10134_Cryostat/LCA-10134_Cryostat-0001/11974/BOT_acq/v0/93868/ccob_nm960_-52.195_-32.125_121/MC_C_20191027_000176_R22_S00.fits'\n",
      " '/gpfs/slac/lsst/fs3/g/data/jobHarness/jh_stage/LCA-10134_Cryostat/LCA-10134_Cryostat-0001/11974/BOT_acq/v0/93868/ccob_nm960_-52.195_-32.125_122/MC_C_20191027_000177_R22_S00.fits'\n",
      " '/gpfs/slac/lsst/fs3/g/data/jobHarness/jh_stage/LCA-10134_Cryostat/LCA-10134_Cryostat-0001/11974/BOT_acq/v0/93868/ccob_nm960_-52.195_-32.125_123/MC_C_20191027_000178_R22_S00.fits'\n",
      " '/gpfs/slac/lsst/fs3/g/data/jobHarness/jh_stage/LCA-10134_Cryostat/LCA-10134_Cryostat-0001/11974/BOT_acq/v0/93868/ccob_nm960_-52.195_-32.125_124/MC_C_20191027_000179_R22_S00.fits']\n"
     ]
    },
    {
     "name": "stderr",
     "output_type": "stream",
     "text": [
      "../ccob_qe_data.py:84: ResourceWarning: unclosed file <_io.FileIO name='/home/combet/tmp_9rafts/tmp.fits' mode='rb' closefd=True>\n",
      "  mosaic, amp_coord = u.make_ccd_2d_array(tmp_file, gains=self.gains, biasfile=self.biasfile)\n"
     ]
    },
    {
     "name": "stdout",
     "output_type": "stream",
     "text": [
      "3.149698996655516 34.97983277591973 37.810301003344485 5.060167224080269\n",
      "40.96 40.04\n",
      "(4004, 4096)\n",
      "40.04\n",
      "40.96\n",
      "Averaging the following files:\n",
      "\n",
      "['/gpfs/slac/lsst/fs3/g/data/jobHarness/jh_stage/LCA-10134_Cryostat/LCA-10134_Cryostat-0001/11974/BOT_acq/v0/93868/ccob_nm960_-52.195_-52.605_090/MC_C_20191027_000145_R22_S00.fits'\n",
      " '/gpfs/slac/lsst/fs3/g/data/jobHarness/jh_stage/LCA-10134_Cryostat/LCA-10134_Cryostat-0001/11974/BOT_acq/v0/93868/ccob_nm960_-52.195_-52.605_091/MC_C_20191027_000146_R22_S00.fits'\n",
      " '/gpfs/slac/lsst/fs3/g/data/jobHarness/jh_stage/LCA-10134_Cryostat/LCA-10134_Cryostat-0001/11974/BOT_acq/v0/93868/ccob_nm960_-52.195_-52.605_092/MC_C_20191027_000147_R22_S00.fits'\n",
      " '/gpfs/slac/lsst/fs3/g/data/jobHarness/jh_stage/LCA-10134_Cryostat/LCA-10134_Cryostat-0001/11974/BOT_acq/v0/93868/ccob_nm960_-52.195_-52.605_093/MC_C_20191027_000148_R22_S00.fits'\n",
      " '/gpfs/slac/lsst/fs3/g/data/jobHarness/jh_stage/LCA-10134_Cryostat/LCA-10134_Cryostat-0001/11974/BOT_acq/v0/93868/ccob_nm960_-52.195_-52.605_094/MC_C_20191027_000149_R22_S00.fits']\n"
     ]
    },
    {
     "name": "stderr",
     "output_type": "stream",
     "text": [
      "../ccob_qe_data.py:84: ResourceWarning: unclosed file <_io.FileIO name='/home/combet/tmp_9rafts/tmp.fits' mode='rb' closefd=True>\n",
      "  mosaic, amp_coord = u.make_ccd_2d_array(tmp_file, gains=self.gains, biasfile=self.biasfile)\n"
     ]
    },
    {
     "name": "stdout",
     "output_type": "stream",
     "text": [
      "23.629698996655517 34.97983277591973 17.330301003344484 5.060167224080269\n",
      "40.96 40.04\n",
      "(4004, 4096)\n",
      "40.04\n",
      "40.96\n",
      "Averaging the following files:\n",
      "\n",
      "['/gpfs/slac/lsst/fs3/g/data/jobHarness/jh_stage/LCA-10134_Cryostat/LCA-10134_Cryostat-0001/11974/BOT_acq/v0/93868/ccob_nm960_-32.305_-10.325_150/MC_C_20191027_000205_R22_S01.fits'\n",
      " '/gpfs/slac/lsst/fs3/g/data/jobHarness/jh_stage/LCA-10134_Cryostat/LCA-10134_Cryostat-0001/11974/BOT_acq/v0/93868/ccob_nm960_-32.305_-10.325_151/MC_C_20191027_000206_R22_S01.fits'\n",
      " '/gpfs/slac/lsst/fs3/g/data/jobHarness/jh_stage/LCA-10134_Cryostat/LCA-10134_Cryostat-0001/11974/BOT_acq/v0/93868/ccob_nm960_-32.305_-10.325_152/MC_C_20191027_000207_R22_S01.fits'\n",
      " '/gpfs/slac/lsst/fs3/g/data/jobHarness/jh_stage/LCA-10134_Cryostat/LCA-10134_Cryostat-0001/11974/BOT_acq/v0/93868/ccob_nm960_-32.305_-10.325_153/MC_C_20191027_000208_R22_S01.fits'\n",
      " '/gpfs/slac/lsst/fs3/g/data/jobHarness/jh_stage/LCA-10134_Cryostat/LCA-10134_Cryostat-0001/11974/BOT_acq/v0/93868/ccob_nm960_-32.305_-10.325_154/MC_C_20191027_000209_R22_S01.fits']\n"
     ]
    },
    {
     "name": "stderr",
     "output_type": "stream",
     "text": [
      "../ccob_qe_data.py:84: ResourceWarning: unclosed file <_io.FileIO name='/home/combet/tmp_9rafts/tmp.fits' mode='rb' closefd=True>\n",
      "  mosaic, amp_coord = u.make_ccd_2d_array(tmp_file, gains=self.gains, biasfile=self.biasfile)\n"
     ]
    },
    {
     "name": "stdout",
     "output_type": "stream",
     "text": [
      "23.629698996655517 14.95983277591973 17.330301003344484 25.08016722408027\n",
      "40.96 40.04\n",
      "(4004, 4096)\n",
      "40.04\n",
      "40.96\n",
      "Averaging the following files:\n",
      "\n",
      "['/gpfs/slac/lsst/fs3/g/data/jobHarness/jh_stage/LCA-10134_Cryostat/LCA-10134_Cryostat-0001/11974/BOT_acq/v0/93868/ccob_nm960_-32.305_10.155_180/MC_C_20191027_000235_R22_S01.fits'\n",
      " '/gpfs/slac/lsst/fs3/g/data/jobHarness/jh_stage/LCA-10134_Cryostat/LCA-10134_Cryostat-0001/11974/BOT_acq/v0/93868/ccob_nm960_-32.305_10.155_181/MC_C_20191027_000236_R22_S01.fits'\n",
      " '/gpfs/slac/lsst/fs3/g/data/jobHarness/jh_stage/LCA-10134_Cryostat/LCA-10134_Cryostat-0001/11974/BOT_acq/v0/93868/ccob_nm960_-32.305_10.155_182/MC_C_20191027_000237_R22_S01.fits'\n",
      " '/gpfs/slac/lsst/fs3/g/data/jobHarness/jh_stage/LCA-10134_Cryostat/LCA-10134_Cryostat-0001/11974/BOT_acq/v0/93868/ccob_nm960_-32.305_10.155_183/MC_C_20191027_000238_R22_S01.fits'\n",
      " '/gpfs/slac/lsst/fs3/g/data/jobHarness/jh_stage/LCA-10134_Cryostat/LCA-10134_Cryostat-0001/11974/BOT_acq/v0/93868/ccob_nm960_-32.305_10.155_184/MC_C_20191027_000239_R22_S01.fits']\n"
     ]
    },
    {
     "name": "stderr",
     "output_type": "stream",
     "text": [
      "../ccob_qe_data.py:84: ResourceWarning: unclosed file <_io.FileIO name='/home/combet/tmp_9rafts/tmp.fits' mode='rb' closefd=True>\n",
      "  mosaic, amp_coord = u.make_ccd_2d_array(tmp_file, gains=self.gains, biasfile=self.biasfile)\n"
     ]
    },
    {
     "name": "stdout",
     "output_type": "stream",
     "text": [
      "3.149698996655516 14.95983277591973 37.810301003344485 25.08016722408027\n",
      "40.96 40.04\n",
      "(4004, 4096)\n",
      "40.04\n",
      "40.96\n",
      "Averaging the following files:\n",
      "\n",
      "['/gpfs/slac/lsst/fs3/g/data/jobHarness/jh_stage/LCA-10134_Cryostat/LCA-10134_Cryostat-0001/11974/BOT_acq/v0/93868/ccob_nm960_-42.315_-0.085_210/MC_C_20191027_000265_R22_S01.fits'\n",
      " '/gpfs/slac/lsst/fs3/g/data/jobHarness/jh_stage/LCA-10134_Cryostat/LCA-10134_Cryostat-0001/11974/BOT_acq/v0/93868/ccob_nm960_-42.315_-0.085_211/MC_C_20191027_000266_R22_S01.fits'\n",
      " '/gpfs/slac/lsst/fs3/g/data/jobHarness/jh_stage/LCA-10134_Cryostat/LCA-10134_Cryostat-0001/11974/BOT_acq/v0/93868/ccob_nm960_-42.315_-0.085_212/MC_C_20191027_000267_R22_S01.fits'\n",
      " '/gpfs/slac/lsst/fs3/g/data/jobHarness/jh_stage/LCA-10134_Cryostat/LCA-10134_Cryostat-0001/11974/BOT_acq/v0/93868/ccob_nm960_-42.315_-0.085_213/MC_C_20191027_000268_R22_S01.fits'\n",
      " '/gpfs/slac/lsst/fs3/g/data/jobHarness/jh_stage/LCA-10134_Cryostat/LCA-10134_Cryostat-0001/11974/BOT_acq/v0/93868/ccob_nm960_-42.315_-0.085_214/MC_C_20191027_000269_R22_S01.fits']\n"
     ]
    },
    {
     "name": "stderr",
     "output_type": "stream",
     "text": [
      "../ccob_qe_data.py:84: ResourceWarning: unclosed file <_io.FileIO name='/home/combet/tmp_9rafts/tmp.fits' mode='rb' closefd=True>\n",
      "  mosaic, amp_coord = u.make_ccd_2d_array(tmp_file, gains=self.gains, biasfile=self.biasfile)\n"
     ]
    },
    {
     "name": "stdout",
     "output_type": "stream",
     "text": [
      "13.389698996655516 24.96983277591973 27.570301003344486 15.070167224080269\n",
      "40.96 40.04\n",
      "(4004, 4096)\n",
      "40.04\n",
      "40.96000000000001\n",
      "Averaging the following files:\n",
      "\n",
      "['/gpfs/slac/lsst/fs3/g/data/jobHarness/jh_stage/LCA-10134_Cryostat/LCA-10134_Cryostat-0001/11974/BOT_acq/v0/93868/ccob_nm960_-52.325_-10.325_240/MC_C_20191027_000295_R22_S01.fits'\n",
      " '/gpfs/slac/lsst/fs3/g/data/jobHarness/jh_stage/LCA-10134_Cryostat/LCA-10134_Cryostat-0001/11974/BOT_acq/v0/93868/ccob_nm960_-52.325_-10.325_241/MC_C_20191027_000296_R22_S01.fits'\n",
      " '/gpfs/slac/lsst/fs3/g/data/jobHarness/jh_stage/LCA-10134_Cryostat/LCA-10134_Cryostat-0001/11974/BOT_acq/v0/93868/ccob_nm960_-52.325_-10.325_242/MC_C_20191027_000297_R22_S01.fits'\n",
      " '/gpfs/slac/lsst/fs3/g/data/jobHarness/jh_stage/LCA-10134_Cryostat/LCA-10134_Cryostat-0001/11974/BOT_acq/v0/93868/ccob_nm960_-52.325_-10.325_243/MC_C_20191027_000298_R22_S01.fits'\n",
      " '/gpfs/slac/lsst/fs3/g/data/jobHarness/jh_stage/LCA-10134_Cryostat/LCA-10134_Cryostat-0001/11974/BOT_acq/v0/93868/ccob_nm960_-52.325_-10.325_244/MC_C_20191027_000299_R22_S01.fits']\n"
     ]
    },
    {
     "name": "stderr",
     "output_type": "stream",
     "text": [
      "../ccob_qe_data.py:84: ResourceWarning: unclosed file <_io.FileIO name='/home/combet/tmp_9rafts/tmp.fits' mode='rb' closefd=True>\n",
      "  mosaic, amp_coord = u.make_ccd_2d_array(tmp_file, gains=self.gains, biasfile=self.biasfile)\n"
     ]
    },
    {
     "name": "stdout",
     "output_type": "stream",
     "text": [
      "23.629698996655517 34.97983277591973 17.330301003344484 5.060167224080269\n",
      "40.96 40.04\n",
      "(4004, 4096)\n",
      "40.04\n",
      "40.96\n",
      "Averaging the following files:\n",
      "\n",
      "['/gpfs/slac/lsst/fs3/g/data/jobHarness/jh_stage/LCA-10134_Cryostat/LCA-10134_Cryostat-0001/11974/BOT_acq/v0/93868/ccob_nm960_-52.325_10.155_270/MC_C_20191027_000325_R22_S01.fits'\n",
      " '/gpfs/slac/lsst/fs3/g/data/jobHarness/jh_stage/LCA-10134_Cryostat/LCA-10134_Cryostat-0001/11974/BOT_acq/v0/93868/ccob_nm960_-52.325_10.155_271/MC_C_20191027_000326_R22_S01.fits'\n",
      " '/gpfs/slac/lsst/fs3/g/data/jobHarness/jh_stage/LCA-10134_Cryostat/LCA-10134_Cryostat-0001/11974/BOT_acq/v0/93868/ccob_nm960_-52.325_10.155_272/MC_C_20191027_000327_R22_S01.fits'\n",
      " '/gpfs/slac/lsst/fs3/g/data/jobHarness/jh_stage/LCA-10134_Cryostat/LCA-10134_Cryostat-0001/11974/BOT_acq/v0/93868/ccob_nm960_-52.325_10.155_273/MC_C_20191027_000328_R22_S01.fits'\n",
      " '/gpfs/slac/lsst/fs3/g/data/jobHarness/jh_stage/LCA-10134_Cryostat/LCA-10134_Cryostat-0001/11974/BOT_acq/v0/93868/ccob_nm960_-52.325_10.155_274/MC_C_20191027_000329_R22_S01.fits']\n"
     ]
    },
    {
     "name": "stderr",
     "output_type": "stream",
     "text": [
      "../ccob_qe_data.py:84: ResourceWarning: unclosed file <_io.FileIO name='/home/combet/tmp_9rafts/tmp.fits' mode='rb' closefd=True>\n",
      "  mosaic, amp_coord = u.make_ccd_2d_array(tmp_file, gains=self.gains, biasfile=self.biasfile)\n"
     ]
    },
    {
     "name": "stdout",
     "output_type": "stream",
     "text": [
      "3.149698996655516 34.97983277591973 37.810301003344485 5.060167224080269\n",
      "40.96 40.04\n",
      "(4004, 4096)\n",
      "40.04\n",
      "40.96\n",
      "Averaging the following files:\n",
      "\n",
      "['/gpfs/slac/lsst/fs3/g/data/jobHarness/jh_stage/LCA-10134_Cryostat/LCA-10134_Cryostat-0001/11974/BOT_acq/v0/93868/ccob_nm960_-32.355_31.945_300/MC_C_20191027_000355_R22_S02.fits'\n",
      " '/gpfs/slac/lsst/fs3/g/data/jobHarness/jh_stage/LCA-10134_Cryostat/LCA-10134_Cryostat-0001/11974/BOT_acq/v0/93868/ccob_nm960_-32.355_31.945_301/MC_C_20191027_000356_R22_S02.fits'\n",
      " '/gpfs/slac/lsst/fs3/g/data/jobHarness/jh_stage/LCA-10134_Cryostat/LCA-10134_Cryostat-0001/11974/BOT_acq/v0/93868/ccob_nm960_-32.355_31.945_302/MC_C_20191027_000357_R22_S02.fits'\n",
      " '/gpfs/slac/lsst/fs3/g/data/jobHarness/jh_stage/LCA-10134_Cryostat/LCA-10134_Cryostat-0001/11974/BOT_acq/v0/93868/ccob_nm960_-32.355_31.945_303/MC_C_20191027_000358_R22_S02.fits'\n",
      " '/gpfs/slac/lsst/fs3/g/data/jobHarness/jh_stage/LCA-10134_Cryostat/LCA-10134_Cryostat-0001/11974/BOT_acq/v0/93868/ccob_nm960_-32.355_31.945_304/MC_C_20191027_000359_R22_S02.fits']\n"
     ]
    },
    {
     "name": "stderr",
     "output_type": "stream",
     "text": [
      "../ccob_qe_data.py:84: ResourceWarning: unclosed file <_io.FileIO name='/home/combet/tmp_9rafts/tmp.fits' mode='rb' closefd=True>\n",
      "  mosaic, amp_coord = u.make_ccd_2d_array(tmp_file, gains=self.gains, biasfile=self.biasfile)\n"
     ]
    },
    {
     "name": "stdout",
     "output_type": "stream",
     "text": [
      "23.629698996655517 14.959832775919727 17.330301003344484 25.080167224080274\n",
      "40.96 40.04\n",
      "(4004, 4096)\n",
      "40.04\n",
      "40.96\n",
      "Averaging the following files:\n",
      "\n",
      "['/gpfs/slac/lsst/fs3/g/data/jobHarness/jh_stage/LCA-10134_Cryostat/LCA-10134_Cryostat-0001/11974/BOT_acq/v0/93868/ccob_nm960_-32.355_52.425_330/MC_C_20191027_000385_R22_S02.fits'\n",
      " '/gpfs/slac/lsst/fs3/g/data/jobHarness/jh_stage/LCA-10134_Cryostat/LCA-10134_Cryostat-0001/11974/BOT_acq/v0/93868/ccob_nm960_-32.355_52.425_331/MC_C_20191027_000386_R22_S02.fits'\n",
      " '/gpfs/slac/lsst/fs3/g/data/jobHarness/jh_stage/LCA-10134_Cryostat/LCA-10134_Cryostat-0001/11974/BOT_acq/v0/93868/ccob_nm960_-32.355_52.425_332/MC_C_20191027_000387_R22_S02.fits'\n",
      " '/gpfs/slac/lsst/fs3/g/data/jobHarness/jh_stage/LCA-10134_Cryostat/LCA-10134_Cryostat-0001/11974/BOT_acq/v0/93868/ccob_nm960_-32.355_52.425_333/MC_C_20191027_000388_R22_S02.fits'\n",
      " '/gpfs/slac/lsst/fs3/g/data/jobHarness/jh_stage/LCA-10134_Cryostat/LCA-10134_Cryostat-0001/11974/BOT_acq/v0/93868/ccob_nm960_-32.355_52.425_334/MC_C_20191027_000389_R22_S02.fits']\n"
     ]
    },
    {
     "name": "stderr",
     "output_type": "stream",
     "text": [
      "../ccob_qe_data.py:84: ResourceWarning: unclosed file <_io.FileIO name='/home/combet/tmp_9rafts/tmp.fits' mode='rb' closefd=True>\n",
      "  mosaic, amp_coord = u.make_ccd_2d_array(tmp_file, gains=self.gains, biasfile=self.biasfile)\n"
     ]
    },
    {
     "name": "stdout",
     "output_type": "stream",
     "text": [
      "3.149698996655516 14.959832775919727 37.810301003344485 25.080167224080274\n",
      "40.96 40.04\n",
      "(4004, 4096)\n",
      "40.04\n",
      "40.96\n",
      "Averaging the following files:\n",
      "\n",
      "['/gpfs/slac/lsst/fs3/g/data/jobHarness/jh_stage/LCA-10134_Cryostat/LCA-10134_Cryostat-0001/11974/BOT_acq/v0/93868/ccob_nm960_-42.365_42.185_360/MC_C_20191027_000415_R22_S02.fits'\n",
      " '/gpfs/slac/lsst/fs3/g/data/jobHarness/jh_stage/LCA-10134_Cryostat/LCA-10134_Cryostat-0001/11974/BOT_acq/v0/93868/ccob_nm960_-42.365_42.185_361/MC_C_20191027_000416_R22_S02.fits'\n",
      " '/gpfs/slac/lsst/fs3/g/data/jobHarness/jh_stage/LCA-10134_Cryostat/LCA-10134_Cryostat-0001/11974/BOT_acq/v0/93868/ccob_nm960_-42.365_42.185_362/MC_C_20191027_000417_R22_S02.fits'\n",
      " '/gpfs/slac/lsst/fs3/g/data/jobHarness/jh_stage/LCA-10134_Cryostat/LCA-10134_Cryostat-0001/11974/BOT_acq/v0/93868/ccob_nm960_-42.365_42.185_363/MC_C_20191027_000418_R22_S02.fits'\n",
      " '/gpfs/slac/lsst/fs3/g/data/jobHarness/jh_stage/LCA-10134_Cryostat/LCA-10134_Cryostat-0001/11974/BOT_acq/v0/93868/ccob_nm960_-42.365_42.185_364/MC_C_20191027_000419_R22_S02.fits']\n"
     ]
    },
    {
     "name": "stderr",
     "output_type": "stream",
     "text": [
      "../ccob_qe_data.py:84: ResourceWarning: unclosed file <_io.FileIO name='/home/combet/tmp_9rafts/tmp.fits' mode='rb' closefd=True>\n",
      "  mosaic, amp_coord = u.make_ccd_2d_array(tmp_file, gains=self.gains, biasfile=self.biasfile)\n"
     ]
    },
    {
     "name": "stdout",
     "output_type": "stream",
     "text": [
      "13.389698996655516 24.96983277591973 27.570301003344486 15.070167224080269\n",
      "40.96 40.04\n",
      "(4004, 4096)\n",
      "40.04\n",
      "40.96000000000001\n",
      "Averaging the following files:\n",
      "\n",
      "['/gpfs/slac/lsst/fs3/g/data/jobHarness/jh_stage/LCA-10134_Cryostat/LCA-10134_Cryostat-0001/11974/BOT_acq/v0/93868/ccob_nm960_-52.375_31.945_390/MC_C_20191027_000445_R22_S02.fits'\n",
      " '/gpfs/slac/lsst/fs3/g/data/jobHarness/jh_stage/LCA-10134_Cryostat/LCA-10134_Cryostat-0001/11974/BOT_acq/v0/93868/ccob_nm960_-52.375_31.945_391/MC_C_20191027_000446_R22_S02.fits'\n",
      " '/gpfs/slac/lsst/fs3/g/data/jobHarness/jh_stage/LCA-10134_Cryostat/LCA-10134_Cryostat-0001/11974/BOT_acq/v0/93868/ccob_nm960_-52.375_31.945_392/MC_C_20191027_000447_R22_S02.fits'\n",
      " '/gpfs/slac/lsst/fs3/g/data/jobHarness/jh_stage/LCA-10134_Cryostat/LCA-10134_Cryostat-0001/11974/BOT_acq/v0/93868/ccob_nm960_-52.375_31.945_393/MC_C_20191027_000448_R22_S02.fits'\n",
      " '/gpfs/slac/lsst/fs3/g/data/jobHarness/jh_stage/LCA-10134_Cryostat/LCA-10134_Cryostat-0001/11974/BOT_acq/v0/93868/ccob_nm960_-52.375_31.945_394/MC_C_20191027_000449_R22_S02.fits']\n"
     ]
    },
    {
     "name": "stderr",
     "output_type": "stream",
     "text": [
      "../ccob_qe_data.py:84: ResourceWarning: unclosed file <_io.FileIO name='/home/combet/tmp_9rafts/tmp.fits' mode='rb' closefd=True>\n",
      "  mosaic, amp_coord = u.make_ccd_2d_array(tmp_file, gains=self.gains, biasfile=self.biasfile)\n"
     ]
    },
    {
     "name": "stdout",
     "output_type": "stream",
     "text": [
      "23.629698996655517 34.97983277591973 17.330301003344484 5.060167224080269\n",
      "40.96 40.04\n",
      "(4004, 4096)\n",
      "40.04\n",
      "40.96\n",
      "Averaging the following files:\n",
      "\n",
      "['/gpfs/slac/lsst/fs3/g/data/jobHarness/jh_stage/LCA-10134_Cryostat/LCA-10134_Cryostat-0001/11974/BOT_acq/v0/93868/ccob_nm960_-52.375_52.425_420/MC_C_20191027_000475_R22_S02.fits'\n",
      " '/gpfs/slac/lsst/fs3/g/data/jobHarness/jh_stage/LCA-10134_Cryostat/LCA-10134_Cryostat-0001/11974/BOT_acq/v0/93868/ccob_nm960_-52.375_52.425_421/MC_C_20191027_000476_R22_S02.fits'\n",
      " '/gpfs/slac/lsst/fs3/g/data/jobHarness/jh_stage/LCA-10134_Cryostat/LCA-10134_Cryostat-0001/11974/BOT_acq/v0/93868/ccob_nm960_-52.375_52.425_422/MC_C_20191027_000477_R22_S02.fits'\n",
      " '/gpfs/slac/lsst/fs3/g/data/jobHarness/jh_stage/LCA-10134_Cryostat/LCA-10134_Cryostat-0001/11974/BOT_acq/v0/93868/ccob_nm960_-52.375_52.425_423/MC_C_20191027_000478_R22_S02.fits'\n",
      " '/gpfs/slac/lsst/fs3/g/data/jobHarness/jh_stage/LCA-10134_Cryostat/LCA-10134_Cryostat-0001/11974/BOT_acq/v0/93868/ccob_nm960_-52.375_52.425_424/MC_C_20191027_000479_R22_S02.fits']\n"
     ]
    },
    {
     "name": "stderr",
     "output_type": "stream",
     "text": [
      "../ccob_qe_data.py:84: ResourceWarning: unclosed file <_io.FileIO name='/home/combet/tmp_9rafts/tmp.fits' mode='rb' closefd=True>\n",
      "  mosaic, amp_coord = u.make_ccd_2d_array(tmp_file, gains=self.gains, biasfile=self.biasfile)\n"
     ]
    },
    {
     "name": "stdout",
     "output_type": "stream",
     "text": [
      "3.149698996655516 34.97983277591973 37.810301003344485 5.060167224080269\n",
      "40.96 40.04\n",
      "(4004, 4096)\n",
      "40.04\n",
      "40.96\n",
      "Averaging the following files:\n",
      "\n",
      "['/gpfs/slac/lsst/fs3/g/data/jobHarness/jh_stage/LCA-10134_Cryostat/LCA-10134_Cryostat-0001/11974/BOT_acq/v0/93868/ccob_nm960_-9.925_-32.075_570/MC_C_20191027_000625_R22_S10.fits'\n",
      " '/gpfs/slac/lsst/fs3/g/data/jobHarness/jh_stage/LCA-10134_Cryostat/LCA-10134_Cryostat-0001/11974/BOT_acq/v0/93868/ccob_nm960_-9.925_-32.075_571/MC_C_20191027_000626_R22_S10.fits'\n",
      " '/gpfs/slac/lsst/fs3/g/data/jobHarness/jh_stage/LCA-10134_Cryostat/LCA-10134_Cryostat-0001/11974/BOT_acq/v0/93868/ccob_nm960_-9.925_-32.075_572/MC_C_20191027_000627_R22_S10.fits'\n",
      " '/gpfs/slac/lsst/fs3/g/data/jobHarness/jh_stage/LCA-10134_Cryostat/LCA-10134_Cryostat-0001/11974/BOT_acq/v0/93868/ccob_nm960_-9.925_-32.075_573/MC_C_20191027_000628_R22_S10.fits'\n",
      " '/gpfs/slac/lsst/fs3/g/data/jobHarness/jh_stage/LCA-10134_Cryostat/LCA-10134_Cryostat-0001/11974/BOT_acq/v0/93868/ccob_nm960_-9.925_-32.075_574/MC_C_20191027_000629_R22_S10.fits']\n"
     ]
    },
    {
     "name": "stderr",
     "output_type": "stream",
     "text": [
      "../ccob_qe_data.py:84: ResourceWarning: unclosed file <_io.FileIO name='/home/combet/tmp_9rafts/tmp.fits' mode='rb' closefd=True>\n",
      "  mosaic, amp_coord = u.make_ccd_2d_array(tmp_file, gains=self.gains, biasfile=self.biasfile)\n"
     ]
    },
    {
     "name": "stdout",
     "output_type": "stream",
     "text": [
      "3.1496989966555202 34.97983277591973 37.81030100334448 5.060167224080271\n",
      "40.96 40.040000000000006\n",
      "(4004, 4096)\n",
      "40.040000000000006\n",
      "40.959999999999994\n",
      "Averaging the following files:\n",
      "\n",
      "['/gpfs/slac/lsst/fs3/g/data/jobHarness/jh_stage/LCA-10134_Cryostat/LCA-10134_Cryostat-0001/11974/BOT_acq/v0/93868/ccob_nm960_-9.925_-52.555_540/MC_C_20191027_000595_R22_S10.fits'\n",
      " '/gpfs/slac/lsst/fs3/g/data/jobHarness/jh_stage/LCA-10134_Cryostat/LCA-10134_Cryostat-0001/11974/BOT_acq/v0/93868/ccob_nm960_-9.925_-52.555_541/MC_C_20191027_000596_R22_S10.fits'\n",
      " '/gpfs/slac/lsst/fs3/g/data/jobHarness/jh_stage/LCA-10134_Cryostat/LCA-10134_Cryostat-0001/11974/BOT_acq/v0/93868/ccob_nm960_-9.925_-52.555_542/MC_C_20191027_000597_R22_S10.fits'\n",
      " '/gpfs/slac/lsst/fs3/g/data/jobHarness/jh_stage/LCA-10134_Cryostat/LCA-10134_Cryostat-0001/11974/BOT_acq/v0/93868/ccob_nm960_-9.925_-52.555_543/MC_C_20191027_000598_R22_S10.fits'\n",
      " '/gpfs/slac/lsst/fs3/g/data/jobHarness/jh_stage/LCA-10134_Cryostat/LCA-10134_Cryostat-0001/11974/BOT_acq/v0/93868/ccob_nm960_-9.925_-52.555_544/MC_C_20191027_000599_R22_S10.fits']\n"
     ]
    },
    {
     "name": "stderr",
     "output_type": "stream",
     "text": [
      "../ccob_qe_data.py:84: ResourceWarning: unclosed file <_io.FileIO name='/home/combet/tmp_9rafts/tmp.fits' mode='rb' closefd=True>\n",
      "  mosaic, amp_coord = u.make_ccd_2d_array(tmp_file, gains=self.gains, biasfile=self.biasfile)\n"
     ]
    },
    {
     "name": "stdout",
     "output_type": "stream",
     "text": [
      "23.629698996655517 34.97983277591973 17.330301003344484 5.060167224080271\n",
      "40.96 40.040000000000006\n",
      "(4004, 4096)\n",
      "40.040000000000006\n",
      "40.96\n",
      "Averaging the following files:\n",
      "\n",
      "['/gpfs/slac/lsst/fs3/g/data/jobHarness/jh_stage/LCA-10134_Cryostat/LCA-10134_Cryostat-0001/11974/BOT_acq/v0/93868/ccob_nm960_0.085_-42.315_510/MC_C_20191027_000565_R22_S10.fits'\n",
      " '/gpfs/slac/lsst/fs3/g/data/jobHarness/jh_stage/LCA-10134_Cryostat/LCA-10134_Cryostat-0001/11974/BOT_acq/v0/93868/ccob_nm960_0.085_-42.315_511/MC_C_20191027_000566_R22_S10.fits'\n",
      " '/gpfs/slac/lsst/fs3/g/data/jobHarness/jh_stage/LCA-10134_Cryostat/LCA-10134_Cryostat-0001/11974/BOT_acq/v0/93868/ccob_nm960_0.085_-42.315_512/MC_C_20191027_000567_R22_S10.fits'\n",
      " '/gpfs/slac/lsst/fs3/g/data/jobHarness/jh_stage/LCA-10134_Cryostat/LCA-10134_Cryostat-0001/11974/BOT_acq/v0/93868/ccob_nm960_0.085_-42.315_513/MC_C_20191027_000568_R22_S10.fits'\n",
      " '/gpfs/slac/lsst/fs3/g/data/jobHarness/jh_stage/LCA-10134_Cryostat/LCA-10134_Cryostat-0001/11974/BOT_acq/v0/93868/ccob_nm960_0.085_-42.315_514/MC_C_20191027_000569_R22_S10.fits']\n"
     ]
    },
    {
     "name": "stderr",
     "output_type": "stream",
     "text": [
      "../ccob_qe_data.py:84: ResourceWarning: unclosed file <_io.FileIO name='/home/combet/tmp_9rafts/tmp.fits' mode='rb' closefd=True>\n",
      "  mosaic, amp_coord = u.make_ccd_2d_array(tmp_file, gains=self.gains, biasfile=self.biasfile)\n"
     ]
    },
    {
     "name": "stdout",
     "output_type": "stream",
     "text": [
      "13.389698996655516 24.96983277591973 27.570301003344486 15.070167224080272\n",
      "40.96 40.040000000000006\n",
      "(4004, 4096)\n",
      "40.040000000000006\n",
      "40.96000000000001\n",
      "Averaging the following files:\n",
      "\n",
      "['/gpfs/slac/lsst/fs3/g/data/jobHarness/jh_stage/LCA-10134_Cryostat/LCA-10134_Cryostat-0001/11974/BOT_acq/v0/93868/ccob_nm960_10.095_-32.075_480/MC_C_20191027_000535_R22_S10.fits'\n",
      " '/gpfs/slac/lsst/fs3/g/data/jobHarness/jh_stage/LCA-10134_Cryostat/LCA-10134_Cryostat-0001/11974/BOT_acq/v0/93868/ccob_nm960_10.095_-32.075_481/MC_C_20191027_000536_R22_S10.fits'\n",
      " '/gpfs/slac/lsst/fs3/g/data/jobHarness/jh_stage/LCA-10134_Cryostat/LCA-10134_Cryostat-0001/11974/BOT_acq/v0/93868/ccob_nm960_10.095_-32.075_482/MC_C_20191027_000537_R22_S10.fits'\n",
      " '/gpfs/slac/lsst/fs3/g/data/jobHarness/jh_stage/LCA-10134_Cryostat/LCA-10134_Cryostat-0001/11974/BOT_acq/v0/93868/ccob_nm960_10.095_-32.075_483/MC_C_20191027_000538_R22_S10.fits'\n",
      " '/gpfs/slac/lsst/fs3/g/data/jobHarness/jh_stage/LCA-10134_Cryostat/LCA-10134_Cryostat-0001/11974/BOT_acq/v0/93868/ccob_nm960_10.095_-32.075_484/MC_C_20191027_000539_R22_S10.fits']\n"
     ]
    },
    {
     "name": "stderr",
     "output_type": "stream",
     "text": [
      "../ccob_qe_data.py:84: ResourceWarning: unclosed file <_io.FileIO name='/home/combet/tmp_9rafts/tmp.fits' mode='rb' closefd=True>\n",
      "  mosaic, amp_coord = u.make_ccd_2d_array(tmp_file, gains=self.gains, biasfile=self.biasfile)\n"
     ]
    },
    {
     "name": "stdout",
     "output_type": "stream",
     "text": [
      "3.1496989966555202 14.959832775919727 37.81030100334448 25.080167224080274\n",
      "40.96 40.04\n",
      "(4004, 4096)\n",
      "40.04\n",
      "40.959999999999994\n",
      "Averaging the following files:\n",
      "\n",
      "['/gpfs/slac/lsst/fs3/g/data/jobHarness/jh_stage/LCA-10134_Cryostat/LCA-10134_Cryostat-0001/11974/BOT_acq/v0/93868/ccob_nm960_10.095_-52.555_450/MC_C_20191027_000505_R22_S10.fits'\n",
      " '/gpfs/slac/lsst/fs3/g/data/jobHarness/jh_stage/LCA-10134_Cryostat/LCA-10134_Cryostat-0001/11974/BOT_acq/v0/93868/ccob_nm960_10.095_-52.555_451/MC_C_20191027_000506_R22_S10.fits'\n",
      " '/gpfs/slac/lsst/fs3/g/data/jobHarness/jh_stage/LCA-10134_Cryostat/LCA-10134_Cryostat-0001/11974/BOT_acq/v0/93868/ccob_nm960_10.095_-52.555_452/MC_C_20191027_000507_R22_S10.fits'\n",
      " '/gpfs/slac/lsst/fs3/g/data/jobHarness/jh_stage/LCA-10134_Cryostat/LCA-10134_Cryostat-0001/11974/BOT_acq/v0/93868/ccob_nm960_10.095_-52.555_453/MC_C_20191027_000508_R22_S10.fits'\n",
      " '/gpfs/slac/lsst/fs3/g/data/jobHarness/jh_stage/LCA-10134_Cryostat/LCA-10134_Cryostat-0001/11974/BOT_acq/v0/93868/ccob_nm960_10.095_-52.555_454/MC_C_20191027_000509_R22_S10.fits']\n"
     ]
    },
    {
     "name": "stderr",
     "output_type": "stream",
     "text": [
      "../ccob_qe_data.py:84: ResourceWarning: unclosed file <_io.FileIO name='/home/combet/tmp_9rafts/tmp.fits' mode='rb' closefd=True>\n",
      "  mosaic, amp_coord = u.make_ccd_2d_array(tmp_file, gains=self.gains, biasfile=self.biasfile)\n"
     ]
    },
    {
     "name": "stdout",
     "output_type": "stream",
     "text": [
      "23.629698996655517 14.959832775919727 17.330301003344484 25.080167224080274\n",
      "40.96 40.04\n",
      "(4004, 4096)\n",
      "40.04\n",
      "40.96\n",
      "Averaging the following files:\n",
      "\n",
      "['/gpfs/slac/lsst/fs3/g/data/jobHarness/jh_stage/LCA-10134_Cryostat/LCA-10134_Cryostat-0001/11974/BOT_acq/v0/93868/ccob_nm960_-10.005_-10.235_690/MC_C_20191027_000745_R22_S11.fits'\n",
      " '/gpfs/slac/lsst/fs3/g/data/jobHarness/jh_stage/LCA-10134_Cryostat/LCA-10134_Cryostat-0001/11974/BOT_acq/v0/93868/ccob_nm960_-10.005_-10.235_691/MC_C_20191027_000746_R22_S11.fits'\n",
      " '/gpfs/slac/lsst/fs3/g/data/jobHarness/jh_stage/LCA-10134_Cryostat/LCA-10134_Cryostat-0001/11974/BOT_acq/v0/93868/ccob_nm960_-10.005_-10.235_692/MC_C_20191027_000747_R22_S11.fits'\n",
      " '/gpfs/slac/lsst/fs3/g/data/jobHarness/jh_stage/LCA-10134_Cryostat/LCA-10134_Cryostat-0001/11974/BOT_acq/v0/93868/ccob_nm960_-10.005_-10.235_693/MC_C_20191027_000748_R22_S11.fits'\n",
      " '/gpfs/slac/lsst/fs3/g/data/jobHarness/jh_stage/LCA-10134_Cryostat/LCA-10134_Cryostat-0001/11974/BOT_acq/v0/93868/ccob_nm960_-10.005_-10.235_694/MC_C_20191027_000749_R22_S11.fits']\n"
     ]
    },
    {
     "name": "stderr",
     "output_type": "stream",
     "text": [
      "../ccob_qe_data.py:84: ResourceWarning: unclosed file <_io.FileIO name='/home/combet/tmp_9rafts/tmp.fits' mode='rb' closefd=True>\n",
      "  mosaic, amp_coord = u.make_ccd_2d_array(tmp_file, gains=self.gains, biasfile=self.biasfile)\n"
     ]
    },
    {
     "name": "stdout",
     "output_type": "stream",
     "text": [
      "23.629698996655517 34.97983277591973 17.330301003344484 5.060167224080268\n",
      "40.96 40.04\n",
      "(4004, 4096)\n",
      "40.04\n",
      "40.96\n",
      "Averaging the following files:\n",
      "\n",
      "['/gpfs/slac/lsst/fs3/g/data/jobHarness/jh_stage/LCA-10134_Cryostat/LCA-10134_Cryostat-0001/11974/BOT_acq/v0/93868/ccob_nm960_-10.005_10.245_720/MC_C_20191027_000775_R22_S11.fits'\n",
      " '/gpfs/slac/lsst/fs3/g/data/jobHarness/jh_stage/LCA-10134_Cryostat/LCA-10134_Cryostat-0001/11974/BOT_acq/v0/93868/ccob_nm960_-10.005_10.245_721/MC_C_20191027_000776_R22_S11.fits'\n",
      " '/gpfs/slac/lsst/fs3/g/data/jobHarness/jh_stage/LCA-10134_Cryostat/LCA-10134_Cryostat-0001/11974/BOT_acq/v0/93868/ccob_nm960_-10.005_10.245_722/MC_C_20191027_000777_R22_S11.fits'\n",
      " '/gpfs/slac/lsst/fs3/g/data/jobHarness/jh_stage/LCA-10134_Cryostat/LCA-10134_Cryostat-0001/11974/BOT_acq/v0/93868/ccob_nm960_-10.005_10.245_723/MC_C_20191027_000778_R22_S11.fits'\n",
      " '/gpfs/slac/lsst/fs3/g/data/jobHarness/jh_stage/LCA-10134_Cryostat/LCA-10134_Cryostat-0001/11974/BOT_acq/v0/93868/ccob_nm960_-10.005_10.245_724/MC_C_20191027_000779_R22_S11.fits']\n"
     ]
    },
    {
     "name": "stderr",
     "output_type": "stream",
     "text": [
      "../ccob_qe_data.py:84: ResourceWarning: unclosed file <_io.FileIO name='/home/combet/tmp_9rafts/tmp.fits' mode='rb' closefd=True>\n",
      "  mosaic, amp_coord = u.make_ccd_2d_array(tmp_file, gains=self.gains, biasfile=self.biasfile)\n"
     ]
    },
    {
     "name": "stdout",
     "output_type": "stream",
     "text": [
      "3.149698996655516 34.97983277591973 37.810301003344485 5.060167224080268\n",
      "40.96 40.04\n",
      "(4004, 4096)\n",
      "40.04\n",
      "40.96\n",
      "Averaging the following files:\n",
      "\n",
      "['/gpfs/slac/lsst/fs3/g/data/jobHarness/jh_stage/LCA-10134_Cryostat/LCA-10134_Cryostat-0001/11974/BOT_acq/v0/93868/ccob_nm960_0.005_0.005_660/MC_C_20191027_000715_R22_S11.fits'\n",
      " '/gpfs/slac/lsst/fs3/g/data/jobHarness/jh_stage/LCA-10134_Cryostat/LCA-10134_Cryostat-0001/11974/BOT_acq/v0/93868/ccob_nm960_0.005_0.005_661/MC_C_20191027_000716_R22_S11.fits'\n",
      " '/gpfs/slac/lsst/fs3/g/data/jobHarness/jh_stage/LCA-10134_Cryostat/LCA-10134_Cryostat-0001/11974/BOT_acq/v0/93868/ccob_nm960_0.005_0.005_662/MC_C_20191027_000717_R22_S11.fits'\n",
      " '/gpfs/slac/lsst/fs3/g/data/jobHarness/jh_stage/LCA-10134_Cryostat/LCA-10134_Cryostat-0001/11974/BOT_acq/v0/93868/ccob_nm960_0.005_0.005_663/MC_C_20191027_000718_R22_S11.fits'\n",
      " '/gpfs/slac/lsst/fs3/g/data/jobHarness/jh_stage/LCA-10134_Cryostat/LCA-10134_Cryostat-0001/11974/BOT_acq/v0/93868/ccob_nm960_0.005_0.005_664/MC_C_20191027_000719_R22_S11.fits']\n"
     ]
    },
    {
     "name": "stderr",
     "output_type": "stream",
     "text": [
      "../ccob_qe_data.py:84: ResourceWarning: unclosed file <_io.FileIO name='/home/combet/tmp_9rafts/tmp.fits' mode='rb' closefd=True>\n",
      "  mosaic, amp_coord = u.make_ccd_2d_array(tmp_file, gains=self.gains, biasfile=self.biasfile)\n"
     ]
    },
    {
     "name": "stdout",
     "output_type": "stream",
     "text": [
      "13.389698996655516 24.96983277591973 27.570301003344486 15.070167224080269\n",
      "40.96 40.04\n",
      "(4004, 4096)\n",
      "40.04\n",
      "40.96000000000001\n",
      "Averaging the following files:\n",
      "\n",
      "['/gpfs/slac/lsst/fs3/g/data/jobHarness/jh_stage/LCA-10134_Cryostat/LCA-10134_Cryostat-0001/11974/BOT_acq/v0/93868/ccob_nm960_10.015_-10.235_600/MC_C_20191027_000655_R22_S11.fits'\n",
      " '/gpfs/slac/lsst/fs3/g/data/jobHarness/jh_stage/LCA-10134_Cryostat/LCA-10134_Cryostat-0001/11974/BOT_acq/v0/93868/ccob_nm960_10.015_-10.235_601/MC_C_20191027_000656_R22_S11.fits'\n",
      " '/gpfs/slac/lsst/fs3/g/data/jobHarness/jh_stage/LCA-10134_Cryostat/LCA-10134_Cryostat-0001/11974/BOT_acq/v0/93868/ccob_nm960_10.015_-10.235_602/MC_C_20191027_000657_R22_S11.fits'\n",
      " '/gpfs/slac/lsst/fs3/g/data/jobHarness/jh_stage/LCA-10134_Cryostat/LCA-10134_Cryostat-0001/11974/BOT_acq/v0/93868/ccob_nm960_10.015_-10.235_603/MC_C_20191027_000658_R22_S11.fits'\n",
      " '/gpfs/slac/lsst/fs3/g/data/jobHarness/jh_stage/LCA-10134_Cryostat/LCA-10134_Cryostat-0001/11974/BOT_acq/v0/93868/ccob_nm960_10.015_-10.235_604/MC_C_20191027_000659_R22_S11.fits']\n"
     ]
    },
    {
     "name": "stderr",
     "output_type": "stream",
     "text": [
      "../ccob_qe_data.py:84: ResourceWarning: unclosed file <_io.FileIO name='/home/combet/tmp_9rafts/tmp.fits' mode='rb' closefd=True>\n",
      "  mosaic, amp_coord = u.make_ccd_2d_array(tmp_file, gains=self.gains, biasfile=self.biasfile)\n"
     ]
    },
    {
     "name": "stdout",
     "output_type": "stream",
     "text": [
      "23.629698996655517 14.95983277591973 17.330301003344484 25.08016722408027\n",
      "40.96 40.04\n",
      "(4004, 4096)\n",
      "40.04\n",
      "40.96\n",
      "Averaging the following files:\n",
      "\n",
      "['/gpfs/slac/lsst/fs3/g/data/jobHarness/jh_stage/LCA-10134_Cryostat/LCA-10134_Cryostat-0001/11974/BOT_acq/v0/93868/ccob_nm960_10.015_10.245_630/MC_C_20191027_000685_R22_S11.fits'\n",
      " '/gpfs/slac/lsst/fs3/g/data/jobHarness/jh_stage/LCA-10134_Cryostat/LCA-10134_Cryostat-0001/11974/BOT_acq/v0/93868/ccob_nm960_10.015_10.245_631/MC_C_20191027_000686_R22_S11.fits'\n",
      " '/gpfs/slac/lsst/fs3/g/data/jobHarness/jh_stage/LCA-10134_Cryostat/LCA-10134_Cryostat-0001/11974/BOT_acq/v0/93868/ccob_nm960_10.015_10.245_632/MC_C_20191027_000687_R22_S11.fits'\n",
      " '/gpfs/slac/lsst/fs3/g/data/jobHarness/jh_stage/LCA-10134_Cryostat/LCA-10134_Cryostat-0001/11974/BOT_acq/v0/93868/ccob_nm960_10.015_10.245_633/MC_C_20191027_000688_R22_S11.fits'\n",
      " '/gpfs/slac/lsst/fs3/g/data/jobHarness/jh_stage/LCA-10134_Cryostat/LCA-10134_Cryostat-0001/11974/BOT_acq/v0/93868/ccob_nm960_10.015_10.245_634/MC_C_20191027_000689_R22_S11.fits']\n"
     ]
    },
    {
     "name": "stderr",
     "output_type": "stream",
     "text": [
      "../ccob_qe_data.py:84: ResourceWarning: unclosed file <_io.FileIO name='/home/combet/tmp_9rafts/tmp.fits' mode='rb' closefd=True>\n",
      "  mosaic, amp_coord = u.make_ccd_2d_array(tmp_file, gains=self.gains, biasfile=self.biasfile)\n"
     ]
    },
    {
     "name": "stdout",
     "output_type": "stream",
     "text": [
      "3.149698996655516 14.95983277591973 37.810301003344485 25.08016722408027\n",
      "40.96 40.04\n",
      "(4004, 4096)\n",
      "40.04\n",
      "40.96\n",
      "Averaging the following files:\n",
      "\n",
      "['/gpfs/slac/lsst/fs3/g/data/jobHarness/jh_stage/LCA-10134_Cryostat/LCA-10134_Cryostat-0001/11974/BOT_acq/v0/93868/ccob_nm960_-0.095_42.285_810/MC_C_20191027_000865_R22_S12.fits'\n",
      " '/gpfs/slac/lsst/fs3/g/data/jobHarness/jh_stage/LCA-10134_Cryostat/LCA-10134_Cryostat-0001/11974/BOT_acq/v0/93868/ccob_nm960_-0.095_42.285_811/MC_C_20191027_000866_R22_S12.fits'\n",
      " '/gpfs/slac/lsst/fs3/g/data/jobHarness/jh_stage/LCA-10134_Cryostat/LCA-10134_Cryostat-0001/11974/BOT_acq/v0/93868/ccob_nm960_-0.095_42.285_812/MC_C_20191027_000867_R22_S12.fits'\n",
      " '/gpfs/slac/lsst/fs3/g/data/jobHarness/jh_stage/LCA-10134_Cryostat/LCA-10134_Cryostat-0001/11974/BOT_acq/v0/93868/ccob_nm960_-0.095_42.285_813/MC_C_20191027_000868_R22_S12.fits'\n",
      " '/gpfs/slac/lsst/fs3/g/data/jobHarness/jh_stage/LCA-10134_Cryostat/LCA-10134_Cryostat-0001/11974/BOT_acq/v0/93868/ccob_nm960_-0.095_42.285_814/MC_C_20191027_000869_R22_S12.fits']\n"
     ]
    },
    {
     "name": "stderr",
     "output_type": "stream",
     "text": [
      "../ccob_qe_data.py:84: ResourceWarning: unclosed file <_io.FileIO name='/home/combet/tmp_9rafts/tmp.fits' mode='rb' closefd=True>\n",
      "  mosaic, amp_coord = u.make_ccd_2d_array(tmp_file, gains=self.gains, biasfile=self.biasfile)\n"
     ]
    },
    {
     "name": "stdout",
     "output_type": "stream",
     "text": [
      "13.389698996655516 24.96983277591973 27.570301003344486 15.070167224080272\n",
      "40.96 40.040000000000006\n",
      "(4004, 4096)\n",
      "40.040000000000006\n",
      "40.96000000000001\n",
      "Averaging the following files:\n",
      "\n",
      "['/gpfs/slac/lsst/fs3/g/data/jobHarness/jh_stage/LCA-10134_Cryostat/LCA-10134_Cryostat-0001/11974/BOT_acq/v0/93868/ccob_nm960_-10.105_32.045_840/MC_C_20191027_000895_R22_S12.fits'\n",
      " '/gpfs/slac/lsst/fs3/g/data/jobHarness/jh_stage/LCA-10134_Cryostat/LCA-10134_Cryostat-0001/11974/BOT_acq/v0/93868/ccob_nm960_-10.105_32.045_841/MC_C_20191027_000896_R22_S12.fits'\n",
      " '/gpfs/slac/lsst/fs3/g/data/jobHarness/jh_stage/LCA-10134_Cryostat/LCA-10134_Cryostat-0001/11974/BOT_acq/v0/93868/ccob_nm960_-10.105_32.045_842/MC_C_20191027_000897_R22_S12.fits'\n",
      " '/gpfs/slac/lsst/fs3/g/data/jobHarness/jh_stage/LCA-10134_Cryostat/LCA-10134_Cryostat-0001/11974/BOT_acq/v0/93868/ccob_nm960_-10.105_32.045_843/MC_C_20191027_000898_R22_S12.fits'\n",
      " '/gpfs/slac/lsst/fs3/g/data/jobHarness/jh_stage/LCA-10134_Cryostat/LCA-10134_Cryostat-0001/11974/BOT_acq/v0/93868/ccob_nm960_-10.105_32.045_844/MC_C_20191027_000899_R22_S12.fits']\n"
     ]
    },
    {
     "name": "stderr",
     "output_type": "stream",
     "text": [
      "../ccob_qe_data.py:84: ResourceWarning: unclosed file <_io.FileIO name='/home/combet/tmp_9rafts/tmp.fits' mode='rb' closefd=True>\n",
      "  mosaic, amp_coord = u.make_ccd_2d_array(tmp_file, gains=self.gains, biasfile=self.biasfile)\n"
     ]
    },
    {
     "name": "stdout",
     "output_type": "stream",
     "text": [
      "23.629698996655517 34.97983277591973 17.330301003344484 5.0601672240802715\n",
      "40.96 40.040000000000006\n",
      "(4004, 4096)\n",
      "40.040000000000006\n",
      "40.96\n",
      "Averaging the following files:\n",
      "\n",
      "['/gpfs/slac/lsst/fs3/g/data/jobHarness/jh_stage/LCA-10134_Cryostat/LCA-10134_Cryostat-0001/11974/BOT_acq/v0/93868/ccob_nm960_-10.105_52.525_870/MC_C_20191027_000925_R22_S12.fits'\n",
      " '/gpfs/slac/lsst/fs3/g/data/jobHarness/jh_stage/LCA-10134_Cryostat/LCA-10134_Cryostat-0001/11974/BOT_acq/v0/93868/ccob_nm960_-10.105_52.525_871/MC_C_20191027_000926_R22_S12.fits'\n",
      " '/gpfs/slac/lsst/fs3/g/data/jobHarness/jh_stage/LCA-10134_Cryostat/LCA-10134_Cryostat-0001/11974/BOT_acq/v0/93868/ccob_nm960_-10.105_52.525_872/MC_C_20191027_000927_R22_S12.fits'\n",
      " '/gpfs/slac/lsst/fs3/g/data/jobHarness/jh_stage/LCA-10134_Cryostat/LCA-10134_Cryostat-0001/11974/BOT_acq/v0/93868/ccob_nm960_-10.105_52.525_873/MC_C_20191027_000928_R22_S12.fits'\n",
      " '/gpfs/slac/lsst/fs3/g/data/jobHarness/jh_stage/LCA-10134_Cryostat/LCA-10134_Cryostat-0001/11974/BOT_acq/v0/93868/ccob_nm960_-10.105_52.525_874/MC_C_20191027_000929_R22_S12.fits']\n"
     ]
    },
    {
     "name": "stderr",
     "output_type": "stream",
     "text": [
      "../ccob_qe_data.py:84: ResourceWarning: unclosed file <_io.FileIO name='/home/combet/tmp_9rafts/tmp.fits' mode='rb' closefd=True>\n",
      "  mosaic, amp_coord = u.make_ccd_2d_array(tmp_file, gains=self.gains, biasfile=self.biasfile)\n"
     ]
    },
    {
     "name": "stdout",
     "output_type": "stream",
     "text": [
      "3.149698996655516 34.97983277591973 37.810301003344485 5.0601672240802715\n",
      "40.96 40.040000000000006\n",
      "(4004, 4096)\n",
      "40.040000000000006\n",
      "40.96\n",
      "Averaging the following files:\n",
      "\n",
      "['/gpfs/slac/lsst/fs3/g/data/jobHarness/jh_stage/LCA-10134_Cryostat/LCA-10134_Cryostat-0001/11974/BOT_acq/v0/93868/ccob_nm960_9.915_32.045_750/MC_C_20191027_000805_R22_S12.fits'\n",
      " '/gpfs/slac/lsst/fs3/g/data/jobHarness/jh_stage/LCA-10134_Cryostat/LCA-10134_Cryostat-0001/11974/BOT_acq/v0/93868/ccob_nm960_9.915_32.045_751/MC_C_20191027_000806_R22_S12.fits'\n",
      " '/gpfs/slac/lsst/fs3/g/data/jobHarness/jh_stage/LCA-10134_Cryostat/LCA-10134_Cryostat-0001/11974/BOT_acq/v0/93868/ccob_nm960_9.915_32.045_752/MC_C_20191027_000807_R22_S12.fits'\n",
      " '/gpfs/slac/lsst/fs3/g/data/jobHarness/jh_stage/LCA-10134_Cryostat/LCA-10134_Cryostat-0001/11974/BOT_acq/v0/93868/ccob_nm960_9.915_32.045_753/MC_C_20191027_000808_R22_S12.fits'\n",
      " '/gpfs/slac/lsst/fs3/g/data/jobHarness/jh_stage/LCA-10134_Cryostat/LCA-10134_Cryostat-0001/11974/BOT_acq/v0/93868/ccob_nm960_9.915_32.045_754/MC_C_20191027_000809_R22_S12.fits']\n"
     ]
    },
    {
     "name": "stderr",
     "output_type": "stream",
     "text": [
      "../ccob_qe_data.py:84: ResourceWarning: unclosed file <_io.FileIO name='/home/combet/tmp_9rafts/tmp.fits' mode='rb' closefd=True>\n",
      "  mosaic, amp_coord = u.make_ccd_2d_array(tmp_file, gains=self.gains, biasfile=self.biasfile)\n"
     ]
    },
    {
     "name": "stdout",
     "output_type": "stream",
     "text": [
      "23.629698996655517 14.95983277591973 17.330301003344484 25.08016722408027\n",
      "40.96 40.04\n",
      "(4004, 4096)\n",
      "40.04\n",
      "40.96\n",
      "Averaging the following files:\n",
      "\n",
      "['/gpfs/slac/lsst/fs3/g/data/jobHarness/jh_stage/LCA-10134_Cryostat/LCA-10134_Cryostat-0001/11974/BOT_acq/v0/93868/ccob_nm960_9.915_52.525_780/MC_C_20191027_000835_R22_S12.fits'\n",
      " '/gpfs/slac/lsst/fs3/g/data/jobHarness/jh_stage/LCA-10134_Cryostat/LCA-10134_Cryostat-0001/11974/BOT_acq/v0/93868/ccob_nm960_9.915_52.525_781/MC_C_20191027_000836_R22_S12.fits'\n",
      " '/gpfs/slac/lsst/fs3/g/data/jobHarness/jh_stage/LCA-10134_Cryostat/LCA-10134_Cryostat-0001/11974/BOT_acq/v0/93868/ccob_nm960_9.915_52.525_782/MC_C_20191027_000837_R22_S12.fits'\n",
      " '/gpfs/slac/lsst/fs3/g/data/jobHarness/jh_stage/LCA-10134_Cryostat/LCA-10134_Cryostat-0001/11974/BOT_acq/v0/93868/ccob_nm960_9.915_52.525_783/MC_C_20191027_000838_R22_S12.fits'\n",
      " '/gpfs/slac/lsst/fs3/g/data/jobHarness/jh_stage/LCA-10134_Cryostat/LCA-10134_Cryostat-0001/11974/BOT_acq/v0/93868/ccob_nm960_9.915_52.525_784/MC_C_20191027_000839_R22_S12.fits']\n"
     ]
    },
    {
     "name": "stderr",
     "output_type": "stream",
     "text": [
      "../ccob_qe_data.py:84: ResourceWarning: unclosed file <_io.FileIO name='/home/combet/tmp_9rafts/tmp.fits' mode='rb' closefd=True>\n",
      "  mosaic, amp_coord = u.make_ccd_2d_array(tmp_file, gains=self.gains, biasfile=self.biasfile)\n"
     ]
    },
    {
     "name": "stdout",
     "output_type": "stream",
     "text": [
      "3.149698996655516 14.95983277591973 37.810301003344485 25.08016722408027\n",
      "40.96 40.04\n",
      "(4004, 4096)\n",
      "40.04\n",
      "40.96\n",
      "Averaging the following files:\n",
      "\n",
      "['/gpfs/slac/lsst/fs3/g/data/jobHarness/jh_stage/LCA-10134_Cryostat/LCA-10134_Cryostat-0001/11974/BOT_acq/v0/93868/ccob_nm960_32.355_-31.945_1020/MC_C_20191027_001075_R22_S20.fits'\n",
      " '/gpfs/slac/lsst/fs3/g/data/jobHarness/jh_stage/LCA-10134_Cryostat/LCA-10134_Cryostat-0001/11974/BOT_acq/v0/93868/ccob_nm960_32.355_-31.945_1021/MC_C_20191027_001076_R22_S20.fits'\n",
      " '/gpfs/slac/lsst/fs3/g/data/jobHarness/jh_stage/LCA-10134_Cryostat/LCA-10134_Cryostat-0001/11974/BOT_acq/v0/93868/ccob_nm960_32.355_-31.945_1022/MC_C_20191027_001077_R22_S20.fits'\n",
      " '/gpfs/slac/lsst/fs3/g/data/jobHarness/jh_stage/LCA-10134_Cryostat/LCA-10134_Cryostat-0001/11974/BOT_acq/v0/93868/ccob_nm960_32.355_-31.945_1023/MC_C_20191027_001078_R22_S20.fits'\n",
      " '/gpfs/slac/lsst/fs3/g/data/jobHarness/jh_stage/LCA-10134_Cryostat/LCA-10134_Cryostat-0001/11974/BOT_acq/v0/93868/ccob_nm960_32.355_-31.945_1024/MC_C_20191027_001079_R22_S20.fits']\n"
     ]
    },
    {
     "name": "stderr",
     "output_type": "stream",
     "text": [
      "../ccob_qe_data.py:84: ResourceWarning: unclosed file <_io.FileIO name='/home/combet/tmp_9rafts/tmp.fits' mode='rb' closefd=True>\n",
      "  mosaic, amp_coord = u.make_ccd_2d_array(tmp_file, gains=self.gains, biasfile=self.biasfile)\n"
     ]
    },
    {
     "name": "stdout",
     "output_type": "stream",
     "text": [
      "3.149698996655516 34.97983277591974 37.810301003344485 5.060167224080264\n",
      "40.96 40.040000000000006\n",
      "(4004, 4096)\n",
      "40.040000000000006\n",
      "40.96\n",
      "Averaging the following files:\n",
      "\n",
      "['/gpfs/slac/lsst/fs3/g/data/jobHarness/jh_stage/LCA-10134_Cryostat/LCA-10134_Cryostat-0001/11974/BOT_acq/v0/93868/ccob_nm960_32.355_-52.425_990/MC_C_20191027_001045_R22_S20.fits'\n",
      " '/gpfs/slac/lsst/fs3/g/data/jobHarness/jh_stage/LCA-10134_Cryostat/LCA-10134_Cryostat-0001/11974/BOT_acq/v0/93868/ccob_nm960_32.355_-52.425_991/MC_C_20191027_001046_R22_S20.fits'\n",
      " '/gpfs/slac/lsst/fs3/g/data/jobHarness/jh_stage/LCA-10134_Cryostat/LCA-10134_Cryostat-0001/11974/BOT_acq/v0/93868/ccob_nm960_32.355_-52.425_992/MC_C_20191027_001047_R22_S20.fits'\n",
      " '/gpfs/slac/lsst/fs3/g/data/jobHarness/jh_stage/LCA-10134_Cryostat/LCA-10134_Cryostat-0001/11974/BOT_acq/v0/93868/ccob_nm960_32.355_-52.425_993/MC_C_20191027_001048_R22_S20.fits'\n",
      " '/gpfs/slac/lsst/fs3/g/data/jobHarness/jh_stage/LCA-10134_Cryostat/LCA-10134_Cryostat-0001/11974/BOT_acq/v0/93868/ccob_nm960_32.355_-52.425_994/MC_C_20191027_001049_R22_S20.fits']\n"
     ]
    },
    {
     "name": "stderr",
     "output_type": "stream",
     "text": [
      "../ccob_qe_data.py:84: ResourceWarning: unclosed file <_io.FileIO name='/home/combet/tmp_9rafts/tmp.fits' mode='rb' closefd=True>\n",
      "  mosaic, amp_coord = u.make_ccd_2d_array(tmp_file, gains=self.gains, biasfile=self.biasfile)\n"
     ]
    },
    {
     "name": "stdout",
     "output_type": "stream",
     "text": [
      "23.629698996655517 34.97983277591974 17.330301003344484 5.060167224080264\n",
      "40.96 40.040000000000006\n",
      "(4004, 4096)\n",
      "40.040000000000006\n",
      "40.96\n",
      "Averaging the following files:\n",
      "\n",
      "['/gpfs/slac/lsst/fs3/g/data/jobHarness/jh_stage/LCA-10134_Cryostat/LCA-10134_Cryostat-0001/11974/BOT_acq/v0/93868/ccob_nm960_42.365_-42.185_960/MC_C_20191027_001015_R22_S20.fits'\n",
      " '/gpfs/slac/lsst/fs3/g/data/jobHarness/jh_stage/LCA-10134_Cryostat/LCA-10134_Cryostat-0001/11974/BOT_acq/v0/93868/ccob_nm960_42.365_-42.185_961/MC_C_20191027_001016_R22_S20.fits'\n",
      " '/gpfs/slac/lsst/fs3/g/data/jobHarness/jh_stage/LCA-10134_Cryostat/LCA-10134_Cryostat-0001/11974/BOT_acq/v0/93868/ccob_nm960_42.365_-42.185_962/MC_C_20191027_001017_R22_S20.fits'\n",
      " '/gpfs/slac/lsst/fs3/g/data/jobHarness/jh_stage/LCA-10134_Cryostat/LCA-10134_Cryostat-0001/11974/BOT_acq/v0/93868/ccob_nm960_42.365_-42.185_963/MC_C_20191027_001018_R22_S20.fits'\n",
      " '/gpfs/slac/lsst/fs3/g/data/jobHarness/jh_stage/LCA-10134_Cryostat/LCA-10134_Cryostat-0001/11974/BOT_acq/v0/93868/ccob_nm960_42.365_-42.185_964/MC_C_20191027_001019_R22_S20.fits']\n"
     ]
    },
    {
     "name": "stderr",
     "output_type": "stream",
     "text": [
      "../ccob_qe_data.py:84: ResourceWarning: unclosed file <_io.FileIO name='/home/combet/tmp_9rafts/tmp.fits' mode='rb' closefd=True>\n",
      "  mosaic, amp_coord = u.make_ccd_2d_array(tmp_file, gains=self.gains, biasfile=self.biasfile)\n"
     ]
    },
    {
     "name": "stdout",
     "output_type": "stream",
     "text": [
      "13.389698996655516 24.96983277591973 27.570301003344486 15.070167224080269\n",
      "40.96 40.04\n",
      "(4004, 4096)\n",
      "40.04\n",
      "40.96000000000001\n",
      "Averaging the following files:\n",
      "\n",
      "['/gpfs/slac/lsst/fs3/g/data/jobHarness/jh_stage/LCA-10134_Cryostat/LCA-10134_Cryostat-0001/11974/BOT_acq/v0/93868/ccob_nm960_52.375_-31.945_930/MC_C_20191027_000985_R22_S20.fits'\n",
      " '/gpfs/slac/lsst/fs3/g/data/jobHarness/jh_stage/LCA-10134_Cryostat/LCA-10134_Cryostat-0001/11974/BOT_acq/v0/93868/ccob_nm960_52.375_-31.945_931/MC_C_20191027_000986_R22_S20.fits'\n",
      " '/gpfs/slac/lsst/fs3/g/data/jobHarness/jh_stage/LCA-10134_Cryostat/LCA-10134_Cryostat-0001/11974/BOT_acq/v0/93868/ccob_nm960_52.375_-31.945_932/MC_C_20191027_000987_R22_S20.fits'\n",
      " '/gpfs/slac/lsst/fs3/g/data/jobHarness/jh_stage/LCA-10134_Cryostat/LCA-10134_Cryostat-0001/11974/BOT_acq/v0/93868/ccob_nm960_52.375_-31.945_933/MC_C_20191027_000988_R22_S20.fits'\n",
      " '/gpfs/slac/lsst/fs3/g/data/jobHarness/jh_stage/LCA-10134_Cryostat/LCA-10134_Cryostat-0001/11974/BOT_acq/v0/93868/ccob_nm960_52.375_-31.945_934/MC_C_20191027_000989_R22_S20.fits']\n"
     ]
    },
    {
     "name": "stderr",
     "output_type": "stream",
     "text": [
      "../ccob_qe_data.py:84: ResourceWarning: unclosed file <_io.FileIO name='/home/combet/tmp_9rafts/tmp.fits' mode='rb' closefd=True>\n",
      "  mosaic, amp_coord = u.make_ccd_2d_array(tmp_file, gains=self.gains, biasfile=self.biasfile)\n"
     ]
    },
    {
     "name": "stdout",
     "output_type": "stream",
     "text": [
      "3.149698996655516 14.95983277591973 37.810301003344485 25.08016722408027\n",
      "40.96 40.04\n",
      "(4004, 4096)\n",
      "40.04\n",
      "40.96\n",
      "Averaging the following files:\n",
      "\n",
      "['/gpfs/slac/lsst/fs3/g/data/jobHarness/jh_stage/LCA-10134_Cryostat/LCA-10134_Cryostat-0001/11974/BOT_acq/v0/93868/ccob_nm960_52.375_-52.425_900/MC_C_20191027_000955_R22_S20.fits'\n",
      " '/gpfs/slac/lsst/fs3/g/data/jobHarness/jh_stage/LCA-10134_Cryostat/LCA-10134_Cryostat-0001/11974/BOT_acq/v0/93868/ccob_nm960_52.375_-52.425_901/MC_C_20191027_000956_R22_S20.fits'\n",
      " '/gpfs/slac/lsst/fs3/g/data/jobHarness/jh_stage/LCA-10134_Cryostat/LCA-10134_Cryostat-0001/11974/BOT_acq/v0/93868/ccob_nm960_52.375_-52.425_902/MC_C_20191027_000957_R22_S20.fits'\n",
      " '/gpfs/slac/lsst/fs3/g/data/jobHarness/jh_stage/LCA-10134_Cryostat/LCA-10134_Cryostat-0001/11974/BOT_acq/v0/93868/ccob_nm960_52.375_-52.425_903/MC_C_20191027_000958_R22_S20.fits'\n",
      " '/gpfs/slac/lsst/fs3/g/data/jobHarness/jh_stage/LCA-10134_Cryostat/LCA-10134_Cryostat-0001/11974/BOT_acq/v0/93868/ccob_nm960_52.375_-52.425_904/MC_C_20191027_000959_R22_S20.fits']\n"
     ]
    },
    {
     "name": "stderr",
     "output_type": "stream",
     "text": [
      "../ccob_qe_data.py:84: ResourceWarning: unclosed file <_io.FileIO name='/home/combet/tmp_9rafts/tmp.fits' mode='rb' closefd=True>\n",
      "  mosaic, amp_coord = u.make_ccd_2d_array(tmp_file, gains=self.gains, biasfile=self.biasfile)\n"
     ]
    },
    {
     "name": "stdout",
     "output_type": "stream",
     "text": [
      "23.629698996655517 14.95983277591973 17.330301003344484 25.08016722408027\n",
      "40.96 40.04\n",
      "(4004, 4096)\n",
      "40.04\n",
      "40.96\n",
      "Averaging the following files:\n",
      "\n",
      "['/gpfs/slac/lsst/fs3/g/data/jobHarness/jh_stage/LCA-10134_Cryostat/LCA-10134_Cryostat-0001/11974/BOT_acq/v0/93868/ccob_nm960_32.275_-10.135_1140/MC_C_20191027_001195_R22_S21.fits'\n",
      " '/gpfs/slac/lsst/fs3/g/data/jobHarness/jh_stage/LCA-10134_Cryostat/LCA-10134_Cryostat-0001/11974/BOT_acq/v0/93868/ccob_nm960_32.275_-10.135_1141/MC_C_20191027_001196_R22_S21.fits'\n",
      " '/gpfs/slac/lsst/fs3/g/data/jobHarness/jh_stage/LCA-10134_Cryostat/LCA-10134_Cryostat-0001/11974/BOT_acq/v0/93868/ccob_nm960_32.275_-10.135_1142/MC_C_20191027_001197_R22_S21.fits'\n",
      " '/gpfs/slac/lsst/fs3/g/data/jobHarness/jh_stage/LCA-10134_Cryostat/LCA-10134_Cryostat-0001/11974/BOT_acq/v0/93868/ccob_nm960_32.275_-10.135_1143/MC_C_20191027_001198_R22_S21.fits'\n",
      " '/gpfs/slac/lsst/fs3/g/data/jobHarness/jh_stage/LCA-10134_Cryostat/LCA-10134_Cryostat-0001/11974/BOT_acq/v0/93868/ccob_nm960_32.275_-10.135_1144/MC_C_20191027_001199_R22_S21.fits']\n"
     ]
    },
    {
     "name": "stderr",
     "output_type": "stream",
     "text": [
      "../ccob_qe_data.py:84: ResourceWarning: unclosed file <_io.FileIO name='/home/combet/tmp_9rafts/tmp.fits' mode='rb' closefd=True>\n",
      "  mosaic, amp_coord = u.make_ccd_2d_array(tmp_file, gains=self.gains, biasfile=self.biasfile)\n"
     ]
    },
    {
     "name": "stdout",
     "output_type": "stream",
     "text": [
      "23.629698996655517 34.97983277591973 17.330301003344484 5.060167224080269\n",
      "40.96 40.04\n",
      "(4004, 4096)\n",
      "40.04\n",
      "40.96\n",
      "Averaging the following files:\n",
      "\n",
      "['/gpfs/slac/lsst/fs3/g/data/jobHarness/jh_stage/LCA-10134_Cryostat/LCA-10134_Cryostat-0001/11974/BOT_acq/v0/93868/ccob_nm960_32.275_10.345_1170/MC_C_20191027_001225_R22_S21.fits'\n",
      " '/gpfs/slac/lsst/fs3/g/data/jobHarness/jh_stage/LCA-10134_Cryostat/LCA-10134_Cryostat-0001/11974/BOT_acq/v0/93868/ccob_nm960_32.275_10.345_1171/MC_C_20191027_001226_R22_S21.fits'\n",
      " '/gpfs/slac/lsst/fs3/g/data/jobHarness/jh_stage/LCA-10134_Cryostat/LCA-10134_Cryostat-0001/11974/BOT_acq/v0/93868/ccob_nm960_32.275_10.345_1172/MC_C_20191027_001227_R22_S21.fits'\n",
      " '/gpfs/slac/lsst/fs3/g/data/jobHarness/jh_stage/LCA-10134_Cryostat/LCA-10134_Cryostat-0001/11974/BOT_acq/v0/93868/ccob_nm960_32.275_10.345_1173/MC_C_20191027_001228_R22_S21.fits'\n",
      " '/gpfs/slac/lsst/fs3/g/data/jobHarness/jh_stage/LCA-10134_Cryostat/LCA-10134_Cryostat-0001/11974/BOT_acq/v0/93868/ccob_nm960_32.275_10.345_1174/MC_C_20191027_001229_R22_S21.fits']\n"
     ]
    },
    {
     "name": "stderr",
     "output_type": "stream",
     "text": [
      "../ccob_qe_data.py:84: ResourceWarning: unclosed file <_io.FileIO name='/home/combet/tmp_9rafts/tmp.fits' mode='rb' closefd=True>\n",
      "  mosaic, amp_coord = u.make_ccd_2d_array(tmp_file, gains=self.gains, biasfile=self.biasfile)\n"
     ]
    },
    {
     "name": "stdout",
     "output_type": "stream",
     "text": [
      "3.149698996655516 34.97983277591973 37.810301003344485 5.060167224080269\n",
      "40.96 40.04\n",
      "(4004, 4096)\n",
      "40.04\n",
      "40.96\n",
      "Averaging the following files:\n",
      "\n",
      "['/gpfs/slac/lsst/fs3/g/data/jobHarness/jh_stage/LCA-10134_Cryostat/LCA-10134_Cryostat-0001/11974/BOT_acq/v0/93868/ccob_nm960_42.285_0.105_1110/MC_C_20191027_001165_R22_S21.fits'\n",
      " '/gpfs/slac/lsst/fs3/g/data/jobHarness/jh_stage/LCA-10134_Cryostat/LCA-10134_Cryostat-0001/11974/BOT_acq/v0/93868/ccob_nm960_42.285_0.105_1111/MC_C_20191027_001166_R22_S21.fits'\n",
      " '/gpfs/slac/lsst/fs3/g/data/jobHarness/jh_stage/LCA-10134_Cryostat/LCA-10134_Cryostat-0001/11974/BOT_acq/v0/93868/ccob_nm960_42.285_0.105_1112/MC_C_20191027_001167_R22_S21.fits'\n",
      " '/gpfs/slac/lsst/fs3/g/data/jobHarness/jh_stage/LCA-10134_Cryostat/LCA-10134_Cryostat-0001/11974/BOT_acq/v0/93868/ccob_nm960_42.285_0.105_1113/MC_C_20191027_001168_R22_S21.fits'\n",
      " '/gpfs/slac/lsst/fs3/g/data/jobHarness/jh_stage/LCA-10134_Cryostat/LCA-10134_Cryostat-0001/11974/BOT_acq/v0/93868/ccob_nm960_42.285_0.105_1114/MC_C_20191027_001169_R22_S21.fits']\n"
     ]
    },
    {
     "name": "stderr",
     "output_type": "stream",
     "text": [
      "../ccob_qe_data.py:84: ResourceWarning: unclosed file <_io.FileIO name='/home/combet/tmp_9rafts/tmp.fits' mode='rb' closefd=True>\n",
      "  mosaic, amp_coord = u.make_ccd_2d_array(tmp_file, gains=self.gains, biasfile=self.biasfile)\n"
     ]
    },
    {
     "name": "stdout",
     "output_type": "stream",
     "text": [
      "13.389698996655516 24.96983277591973 27.570301003344486 15.070167224080269\n",
      "40.96 40.04\n",
      "(4004, 4096)\n",
      "40.04\n",
      "40.96000000000001\n",
      "Averaging the following files:\n",
      "\n",
      "['/gpfs/slac/lsst/fs3/g/data/jobHarness/jh_stage/LCA-10134_Cryostat/LCA-10134_Cryostat-0001/11974/BOT_acq/v0/93868/ccob_nm960_52.295_-10.135_1050/MC_C_20191027_001105_R22_S21.fits'\n",
      " '/gpfs/slac/lsst/fs3/g/data/jobHarness/jh_stage/LCA-10134_Cryostat/LCA-10134_Cryostat-0001/11974/BOT_acq/v0/93868/ccob_nm960_52.295_-10.135_1051/MC_C_20191027_001106_R22_S21.fits'\n",
      " '/gpfs/slac/lsst/fs3/g/data/jobHarness/jh_stage/LCA-10134_Cryostat/LCA-10134_Cryostat-0001/11974/BOT_acq/v0/93868/ccob_nm960_52.295_-10.135_1052/MC_C_20191027_001107_R22_S21.fits'\n",
      " '/gpfs/slac/lsst/fs3/g/data/jobHarness/jh_stage/LCA-10134_Cryostat/LCA-10134_Cryostat-0001/11974/BOT_acq/v0/93868/ccob_nm960_52.295_-10.135_1053/MC_C_20191027_001108_R22_S21.fits'\n",
      " '/gpfs/slac/lsst/fs3/g/data/jobHarness/jh_stage/LCA-10134_Cryostat/LCA-10134_Cryostat-0001/11974/BOT_acq/v0/93868/ccob_nm960_52.295_-10.135_1054/MC_C_20191027_001109_R22_S21.fits']\n"
     ]
    },
    {
     "name": "stderr",
     "output_type": "stream",
     "text": [
      "../ccob_qe_data.py:84: ResourceWarning: unclosed file <_io.FileIO name='/home/combet/tmp_9rafts/tmp.fits' mode='rb' closefd=True>\n",
      "  mosaic, amp_coord = u.make_ccd_2d_array(tmp_file, gains=self.gains, biasfile=self.biasfile)\n"
     ]
    },
    {
     "name": "stdout",
     "output_type": "stream",
     "text": [
      "23.629698996655517 14.95983277591973 17.330301003344484 25.08016722408027\n",
      "40.96 40.04\n",
      "(4004, 4096)\n",
      "40.04\n",
      "40.96\n",
      "Averaging the following files:\n",
      "\n",
      "['/gpfs/slac/lsst/fs3/g/data/jobHarness/jh_stage/LCA-10134_Cryostat/LCA-10134_Cryostat-0001/11974/BOT_acq/v0/93868/ccob_nm960_52.295_10.345_1080/MC_C_20191027_001135_R22_S21.fits'\n",
      " '/gpfs/slac/lsst/fs3/g/data/jobHarness/jh_stage/LCA-10134_Cryostat/LCA-10134_Cryostat-0001/11974/BOT_acq/v0/93868/ccob_nm960_52.295_10.345_1081/MC_C_20191027_001136_R22_S21.fits'\n",
      " '/gpfs/slac/lsst/fs3/g/data/jobHarness/jh_stage/LCA-10134_Cryostat/LCA-10134_Cryostat-0001/11974/BOT_acq/v0/93868/ccob_nm960_52.295_10.345_1082/MC_C_20191027_001137_R22_S21.fits'\n",
      " '/gpfs/slac/lsst/fs3/g/data/jobHarness/jh_stage/LCA-10134_Cryostat/LCA-10134_Cryostat-0001/11974/BOT_acq/v0/93868/ccob_nm960_52.295_10.345_1083/MC_C_20191027_001138_R22_S21.fits'\n",
      " '/gpfs/slac/lsst/fs3/g/data/jobHarness/jh_stage/LCA-10134_Cryostat/LCA-10134_Cryostat-0001/11974/BOT_acq/v0/93868/ccob_nm960_52.295_10.345_1084/MC_C_20191027_001139_R22_S21.fits']\n"
     ]
    },
    {
     "name": "stderr",
     "output_type": "stream",
     "text": [
      "../ccob_qe_data.py:84: ResourceWarning: unclosed file <_io.FileIO name='/home/combet/tmp_9rafts/tmp.fits' mode='rb' closefd=True>\n",
      "  mosaic, amp_coord = u.make_ccd_2d_array(tmp_file, gains=self.gains, biasfile=self.biasfile)\n"
     ]
    },
    {
     "name": "stdout",
     "output_type": "stream",
     "text": [
      "3.149698996655516 14.95983277591973 37.810301003344485 25.08016722408027\n",
      "40.96 40.04\n",
      "(4004, 4096)\n",
      "40.04\n",
      "40.96\n",
      "Averaging the following files:\n",
      "\n",
      "['/gpfs/slac/lsst/fs3/g/data/jobHarness/jh_stage/LCA-10134_Cryostat/LCA-10134_Cryostat-0001/11974/BOT_acq/v0/93868/ccob_nm960_32.195_32.125_1290/MC_C_20191027_001345_R22_S22.fits'\n",
      " '/gpfs/slac/lsst/fs3/g/data/jobHarness/jh_stage/LCA-10134_Cryostat/LCA-10134_Cryostat-0001/11974/BOT_acq/v0/93868/ccob_nm960_32.195_32.125_1291/MC_C_20191027_001346_R22_S22.fits'\n",
      " '/gpfs/slac/lsst/fs3/g/data/jobHarness/jh_stage/LCA-10134_Cryostat/LCA-10134_Cryostat-0001/11974/BOT_acq/v0/93868/ccob_nm960_32.195_32.125_1292/MC_C_20191027_001347_R22_S22.fits'\n",
      " '/gpfs/slac/lsst/fs3/g/data/jobHarness/jh_stage/LCA-10134_Cryostat/LCA-10134_Cryostat-0001/11974/BOT_acq/v0/93868/ccob_nm960_32.195_32.125_1293/MC_C_20191027_001348_R22_S22.fits'\n",
      " '/gpfs/slac/lsst/fs3/g/data/jobHarness/jh_stage/LCA-10134_Cryostat/LCA-10134_Cryostat-0001/11974/BOT_acq/v0/93868/ccob_nm960_32.195_32.125_1294/MC_C_20191027_001349_R22_S22.fits']\n"
     ]
    },
    {
     "name": "stderr",
     "output_type": "stream",
     "text": [
      "../ccob_qe_data.py:84: ResourceWarning: unclosed file <_io.FileIO name='/home/combet/tmp_9rafts/tmp.fits' mode='rb' closefd=True>\n",
      "  mosaic, amp_coord = u.make_ccd_2d_array(tmp_file, gains=self.gains, biasfile=self.biasfile)\n"
     ]
    },
    {
     "name": "stdout",
     "output_type": "stream",
     "text": [
      "23.629698996655517 34.97983277591973 17.330301003344484 5.060167224080269\n",
      "40.96 40.04\n",
      "(4004, 4096)\n",
      "40.04\n",
      "40.96\n",
      "Averaging the following files:\n",
      "\n",
      "['/gpfs/slac/lsst/fs3/g/data/jobHarness/jh_stage/LCA-10134_Cryostat/LCA-10134_Cryostat-0001/11974/BOT_acq/v0/93868/ccob_nm960_32.195_52.605_1320/MC_C_20191027_001375_R22_S22.fits'\n",
      " '/gpfs/slac/lsst/fs3/g/data/jobHarness/jh_stage/LCA-10134_Cryostat/LCA-10134_Cryostat-0001/11974/BOT_acq/v0/93868/ccob_nm960_32.195_52.605_1321/MC_C_20191027_001376_R22_S22.fits'\n",
      " '/gpfs/slac/lsst/fs3/g/data/jobHarness/jh_stage/LCA-10134_Cryostat/LCA-10134_Cryostat-0001/11974/BOT_acq/v0/93868/ccob_nm960_32.195_52.605_1322/MC_C_20191027_001377_R22_S22.fits'\n",
      " '/gpfs/slac/lsst/fs3/g/data/jobHarness/jh_stage/LCA-10134_Cryostat/LCA-10134_Cryostat-0001/11974/BOT_acq/v0/93868/ccob_nm960_32.195_52.605_1323/MC_C_20191027_001378_R22_S22.fits'\n",
      " '/gpfs/slac/lsst/fs3/g/data/jobHarness/jh_stage/LCA-10134_Cryostat/LCA-10134_Cryostat-0001/11974/BOT_acq/v0/93868/ccob_nm960_32.195_52.605_1324/MC_C_20191027_001379_R22_S22.fits']\n"
     ]
    },
    {
     "name": "stderr",
     "output_type": "stream",
     "text": [
      "../ccob_qe_data.py:84: ResourceWarning: unclosed file <_io.FileIO name='/home/combet/tmp_9rafts/tmp.fits' mode='rb' closefd=True>\n",
      "  mosaic, amp_coord = u.make_ccd_2d_array(tmp_file, gains=self.gains, biasfile=self.biasfile)\n"
     ]
    },
    {
     "name": "stdout",
     "output_type": "stream",
     "text": [
      "3.149698996655516 34.97983277591973 37.810301003344485 5.060167224080269\n",
      "40.96 40.04\n",
      "(4004, 4096)\n",
      "40.04\n",
      "40.96\n",
      "Averaging the following files:\n",
      "\n",
      "['/gpfs/slac/lsst/fs3/g/data/jobHarness/jh_stage/LCA-10134_Cryostat/LCA-10134_Cryostat-0001/11974/BOT_acq/v0/93868/ccob_nm960_42.205_42.365_1260/MC_C_20191027_001315_R22_S22.fits'\n",
      " '/gpfs/slac/lsst/fs3/g/data/jobHarness/jh_stage/LCA-10134_Cryostat/LCA-10134_Cryostat-0001/11974/BOT_acq/v0/93868/ccob_nm960_42.205_42.365_1261/MC_C_20191027_001316_R22_S22.fits'\n",
      " '/gpfs/slac/lsst/fs3/g/data/jobHarness/jh_stage/LCA-10134_Cryostat/LCA-10134_Cryostat-0001/11974/BOT_acq/v0/93868/ccob_nm960_42.205_42.365_1262/MC_C_20191027_001317_R22_S22.fits'\n",
      " '/gpfs/slac/lsst/fs3/g/data/jobHarness/jh_stage/LCA-10134_Cryostat/LCA-10134_Cryostat-0001/11974/BOT_acq/v0/93868/ccob_nm960_42.205_42.365_1263/MC_C_20191027_001318_R22_S22.fits'\n",
      " '/gpfs/slac/lsst/fs3/g/data/jobHarness/jh_stage/LCA-10134_Cryostat/LCA-10134_Cryostat-0001/11974/BOT_acq/v0/93868/ccob_nm960_42.205_42.365_1264/MC_C_20191027_001319_R22_S22.fits']\n"
     ]
    },
    {
     "name": "stderr",
     "output_type": "stream",
     "text": [
      "../ccob_qe_data.py:84: ResourceWarning: unclosed file <_io.FileIO name='/home/combet/tmp_9rafts/tmp.fits' mode='rb' closefd=True>\n",
      "  mosaic, amp_coord = u.make_ccd_2d_array(tmp_file, gains=self.gains, biasfile=self.biasfile)\n"
     ]
    },
    {
     "name": "stdout",
     "output_type": "stream",
     "text": [
      "13.389698996655516 24.96983277591973 27.570301003344486 15.070167224080269\n",
      "40.96 40.04\n",
      "(4004, 4096)\n",
      "40.04\n",
      "40.96000000000001\n",
      "Averaging the following files:\n",
      "\n",
      "['/gpfs/slac/lsst/fs3/g/data/jobHarness/jh_stage/LCA-10134_Cryostat/LCA-10134_Cryostat-0001/11974/BOT_acq/v0/93868/ccob_nm960_52.215_32.125_1200/MC_C_20191027_001255_R22_S22.fits'\n",
      " '/gpfs/slac/lsst/fs3/g/data/jobHarness/jh_stage/LCA-10134_Cryostat/LCA-10134_Cryostat-0001/11974/BOT_acq/v0/93868/ccob_nm960_52.215_32.125_1201/MC_C_20191027_001256_R22_S22.fits'\n",
      " '/gpfs/slac/lsst/fs3/g/data/jobHarness/jh_stage/LCA-10134_Cryostat/LCA-10134_Cryostat-0001/11974/BOT_acq/v0/93868/ccob_nm960_52.215_32.125_1202/MC_C_20191027_001257_R22_S22.fits'\n",
      " '/gpfs/slac/lsst/fs3/g/data/jobHarness/jh_stage/LCA-10134_Cryostat/LCA-10134_Cryostat-0001/11974/BOT_acq/v0/93868/ccob_nm960_52.215_32.125_1203/MC_C_20191027_001258_R22_S22.fits'\n",
      " '/gpfs/slac/lsst/fs3/g/data/jobHarness/jh_stage/LCA-10134_Cryostat/LCA-10134_Cryostat-0001/11974/BOT_acq/v0/93868/ccob_nm960_52.215_32.125_1204/MC_C_20191027_001259_R22_S22.fits']\n"
     ]
    },
    {
     "name": "stderr",
     "output_type": "stream",
     "text": [
      "../ccob_qe_data.py:84: ResourceWarning: unclosed file <_io.FileIO name='/home/combet/tmp_9rafts/tmp.fits' mode='rb' closefd=True>\n",
      "  mosaic, amp_coord = u.make_ccd_2d_array(tmp_file, gains=self.gains, biasfile=self.biasfile)\n"
     ]
    },
    {
     "name": "stdout",
     "output_type": "stream",
     "text": [
      "23.629698996655517 14.95983277591973 17.330301003344484 25.08016722408027\n",
      "40.96 40.04\n",
      "(4004, 4096)\n",
      "40.04\n",
      "40.96\n",
      "Averaging the following files:\n",
      "\n",
      "['/gpfs/slac/lsst/fs3/g/data/jobHarness/jh_stage/LCA-10134_Cryostat/LCA-10134_Cryostat-0001/11974/BOT_acq/v0/93868/ccob_nm960_52.215_52.605_1230/MC_C_20191027_001285_R22_S22.fits'\n",
      " '/gpfs/slac/lsst/fs3/g/data/jobHarness/jh_stage/LCA-10134_Cryostat/LCA-10134_Cryostat-0001/11974/BOT_acq/v0/93868/ccob_nm960_52.215_52.605_1231/MC_C_20191027_001286_R22_S22.fits'\n",
      " '/gpfs/slac/lsst/fs3/g/data/jobHarness/jh_stage/LCA-10134_Cryostat/LCA-10134_Cryostat-0001/11974/BOT_acq/v0/93868/ccob_nm960_52.215_52.605_1232/MC_C_20191027_001287_R22_S22.fits'\n",
      " '/gpfs/slac/lsst/fs3/g/data/jobHarness/jh_stage/LCA-10134_Cryostat/LCA-10134_Cryostat-0001/11974/BOT_acq/v0/93868/ccob_nm960_52.215_52.605_1233/MC_C_20191027_001288_R22_S22.fits'\n",
      " '/gpfs/slac/lsst/fs3/g/data/jobHarness/jh_stage/LCA-10134_Cryostat/LCA-10134_Cryostat-0001/11974/BOT_acq/v0/93868/ccob_nm960_52.215_52.605_1234/MC_C_20191027_001289_R22_S22.fits']\n"
     ]
    },
    {
     "name": "stderr",
     "output_type": "stream",
     "text": [
      "../ccob_qe_data.py:84: ResourceWarning: unclosed file <_io.FileIO name='/home/combet/tmp_9rafts/tmp.fits' mode='rb' closefd=True>\n",
      "  mosaic, amp_coord = u.make_ccd_2d_array(tmp_file, gains=self.gains, biasfile=self.biasfile)\n"
     ]
    },
    {
     "name": "stdout",
     "output_type": "stream",
     "text": [
      "3.149698996655516 14.95983277591973 37.810301003344485 25.08016722408027\n",
      "40.96 40.04\n",
      "(4004, 4096)\n",
      "40.04\n",
      "40.96\n",
      "Averaging the following files:\n",
      "\n",
      "['/gpfs/slac/lsst/fs3/g/data/jobHarness/jh_stage-test/LCA-10134_Cryostat/LCA-10134_Cryostat-0001/6843D/BOT_acq/v0/48047/ccob_nm960_75.405_-286.025_120/MC_C_20191027_001535_R30_S00.fits'\n",
      " '/gpfs/slac/lsst/fs3/g/data/jobHarness/jh_stage-test/LCA-10134_Cryostat/LCA-10134_Cryostat-0001/6843D/BOT_acq/v0/48047/ccob_nm960_75.405_-286.025_121/MC_C_20191027_001536_R30_S00.fits'\n",
      " '/gpfs/slac/lsst/fs3/g/data/jobHarness/jh_stage-test/LCA-10134_Cryostat/LCA-10134_Cryostat-0001/6843D/BOT_acq/v0/48047/ccob_nm960_75.405_-286.025_122/MC_C_20191027_001537_R30_S00.fits'\n",
      " '/gpfs/slac/lsst/fs3/g/data/jobHarness/jh_stage-test/LCA-10134_Cryostat/LCA-10134_Cryostat-0001/6843D/BOT_acq/v0/48047/ccob_nm960_75.405_-286.025_123/MC_C_20191027_001538_R30_S00.fits'\n",
      " '/gpfs/slac/lsst/fs3/g/data/jobHarness/jh_stage-test/LCA-10134_Cryostat/LCA-10134_Cryostat-0001/6843D/BOT_acq/v0/48047/ccob_nm960_75.405_-286.025_124/MC_C_20191027_001539_R30_S00.fits']\n"
     ]
    },
    {
     "name": "stderr",
     "output_type": "stream",
     "text": [
      "../ccob_qe_data.py:84: ResourceWarning: unclosed file <_io.FileIO name='/home/combet/tmp_9rafts/tmp.fits' mode='rb' closefd=True>\n",
      "  mosaic, amp_coord = u.make_ccd_2d_array(tmp_file, gains=self.gains, biasfile=self.biasfile)\n"
     ]
    },
    {
     "name": "stdout",
     "output_type": "stream",
     "text": [
      "3.1496989966554794 34.97983277591973 37.81030100334452 5.060167224080269\n",
      "40.96 40.04\n",
      "(4004, 4096)\n",
      "40.04\n",
      "40.96\n",
      "Averaging the following files:\n",
      "\n",
      "['/gpfs/slac/lsst/fs3/g/data/jobHarness/jh_stage-test/LCA-10134_Cryostat/LCA-10134_Cryostat-0001/6843D/BOT_acq/v0/48047/ccob_nm960_75.405_-306.505_090/MC_C_20191027_001505_R30_S00.fits'\n",
      " '/gpfs/slac/lsst/fs3/g/data/jobHarness/jh_stage-test/LCA-10134_Cryostat/LCA-10134_Cryostat-0001/6843D/BOT_acq/v0/48047/ccob_nm960_75.405_-306.505_091/MC_C_20191027_001506_R30_S00.fits'\n",
      " '/gpfs/slac/lsst/fs3/g/data/jobHarness/jh_stage-test/LCA-10134_Cryostat/LCA-10134_Cryostat-0001/6843D/BOT_acq/v0/48047/ccob_nm960_75.405_-306.505_092/MC_C_20191027_001507_R30_S00.fits'\n",
      " '/gpfs/slac/lsst/fs3/g/data/jobHarness/jh_stage-test/LCA-10134_Cryostat/LCA-10134_Cryostat-0001/6843D/BOT_acq/v0/48047/ccob_nm960_75.405_-306.505_093/MC_C_20191027_001508_R30_S00.fits'\n",
      " '/gpfs/slac/lsst/fs3/g/data/jobHarness/jh_stage-test/LCA-10134_Cryostat/LCA-10134_Cryostat-0001/6843D/BOT_acq/v0/48047/ccob_nm960_75.405_-306.505_094/MC_C_20191027_001509_R30_S00.fits']\n"
     ]
    },
    {
     "name": "stderr",
     "output_type": "stream",
     "text": [
      "../ccob_qe_data.py:84: ResourceWarning: unclosed file <_io.FileIO name='/home/combet/tmp_9rafts/tmp.fits' mode='rb' closefd=True>\n",
      "  mosaic, amp_coord = u.make_ccd_2d_array(tmp_file, gains=self.gains, biasfile=self.biasfile)\n"
     ]
    },
    {
     "name": "stdout",
     "output_type": "stream",
     "text": [
      "23.629698996655517 34.97983277591973 17.330301003344484 5.060167224080269\n",
      "40.96 40.04\n",
      "(4004, 4096)\n",
      "40.04\n",
      "40.96\n",
      "Averaging the following files:\n",
      "\n",
      "['/gpfs/slac/lsst/fs3/g/data/jobHarness/jh_stage-test/LCA-10134_Cryostat/LCA-10134_Cryostat-0001/6843D/BOT_acq/v0/48047/ccob_nm960_85.415_-296.265_060/MC_C_20191027_001475_R30_S00.fits'\n",
      " '/gpfs/slac/lsst/fs3/g/data/jobHarness/jh_stage-test/LCA-10134_Cryostat/LCA-10134_Cryostat-0001/6843D/BOT_acq/v0/48047/ccob_nm960_85.415_-296.265_061/MC_C_20191027_001476_R30_S00.fits'\n",
      " '/gpfs/slac/lsst/fs3/g/data/jobHarness/jh_stage-test/LCA-10134_Cryostat/LCA-10134_Cryostat-0001/6843D/BOT_acq/v0/48047/ccob_nm960_85.415_-296.265_062/MC_C_20191027_001477_R30_S00.fits'\n",
      " '/gpfs/slac/lsst/fs3/g/data/jobHarness/jh_stage-test/LCA-10134_Cryostat/LCA-10134_Cryostat-0001/6843D/BOT_acq/v0/48047/ccob_nm960_85.415_-296.265_063/MC_C_20191027_001478_R30_S00.fits'\n",
      " '/gpfs/slac/lsst/fs3/g/data/jobHarness/jh_stage-test/LCA-10134_Cryostat/LCA-10134_Cryostat-0001/6843D/BOT_acq/v0/48047/ccob_nm960_85.415_-296.265_064/MC_C_20191027_001479_R30_S00.fits']\n"
     ]
    },
    {
     "name": "stderr",
     "output_type": "stream",
     "text": [
      "../ccob_qe_data.py:84: ResourceWarning: unclosed file <_io.FileIO name='/home/combet/tmp_9rafts/tmp.fits' mode='rb' closefd=True>\n",
      "  mosaic, amp_coord = u.make_ccd_2d_array(tmp_file, gains=self.gains, biasfile=self.biasfile)\n"
     ]
    },
    {
     "name": "stdout",
     "output_type": "stream",
     "text": [
      "13.389698996655516 24.96983277591973 27.570301003344486 15.070167224080269\n",
      "40.96 40.04\n",
      "(4004, 4096)\n",
      "40.04\n",
      "40.96000000000001\n",
      "Averaging the following files:\n",
      "\n",
      "['/gpfs/slac/lsst/fs3/g/data/jobHarness/jh_stage-test/LCA-10134_Cryostat/LCA-10134_Cryostat-0001/6843D/BOT_acq/v0/48047/ccob_nm960_95.425_-286.025_030/MC_C_20191027_001445_R30_S00.fits'\n",
      " '/gpfs/slac/lsst/fs3/g/data/jobHarness/jh_stage-test/LCA-10134_Cryostat/LCA-10134_Cryostat-0001/6843D/BOT_acq/v0/48047/ccob_nm960_95.425_-286.025_031/MC_C_20191027_001446_R30_S00.fits'\n",
      " '/gpfs/slac/lsst/fs3/g/data/jobHarness/jh_stage-test/LCA-10134_Cryostat/LCA-10134_Cryostat-0001/6843D/BOT_acq/v0/48047/ccob_nm960_95.425_-286.025_032/MC_C_20191027_001447_R30_S00.fits'\n",
      " '/gpfs/slac/lsst/fs3/g/data/jobHarness/jh_stage-test/LCA-10134_Cryostat/LCA-10134_Cryostat-0001/6843D/BOT_acq/v0/48047/ccob_nm960_95.425_-286.025_033/MC_C_20191027_001448_R30_S00.fits'\n",
      " '/gpfs/slac/lsst/fs3/g/data/jobHarness/jh_stage-test/LCA-10134_Cryostat/LCA-10134_Cryostat-0001/6843D/BOT_acq/v0/48047/ccob_nm960_95.425_-286.025_034/MC_C_20191027_001449_R30_S00.fits']\n"
     ]
    },
    {
     "name": "stderr",
     "output_type": "stream",
     "text": [
      "../ccob_qe_data.py:84: ResourceWarning: unclosed file <_io.FileIO name='/home/combet/tmp_9rafts/tmp.fits' mode='rb' closefd=True>\n",
      "  mosaic, amp_coord = u.make_ccd_2d_array(tmp_file, gains=self.gains, biasfile=self.biasfile)\n"
     ]
    },
    {
     "name": "stdout",
     "output_type": "stream",
     "text": [
      "3.1496989966554794 14.95983277591973 37.81030100334452 25.08016722408027\n",
      "40.96 40.04\n",
      "(4004, 4096)\n",
      "40.04\n",
      "40.96\n",
      "Averaging the following files:\n",
      "\n",
      "['/gpfs/slac/lsst/fs3/g/data/jobHarness/jh_stage-test/LCA-10134_Cryostat/LCA-10134_Cryostat-0001/6843D/BOT_acq/v0/48047/ccob_nm960_95.425_-306.505_000/MC_C_20191027_001415_R30_S00.fits'\n",
      " '/gpfs/slac/lsst/fs3/g/data/jobHarness/jh_stage-test/LCA-10134_Cryostat/LCA-10134_Cryostat-0001/6843D/BOT_acq/v0/48047/ccob_nm960_95.425_-306.505_001/MC_C_20191027_001416_R30_S00.fits'\n",
      " '/gpfs/slac/lsst/fs3/g/data/jobHarness/jh_stage-test/LCA-10134_Cryostat/LCA-10134_Cryostat-0001/6843D/BOT_acq/v0/48047/ccob_nm960_95.425_-306.505_002/MC_C_20191027_001417_R30_S00.fits'\n",
      " '/gpfs/slac/lsst/fs3/g/data/jobHarness/jh_stage-test/LCA-10134_Cryostat/LCA-10134_Cryostat-0001/6843D/BOT_acq/v0/48047/ccob_nm960_95.425_-306.505_003/MC_C_20191027_001418_R30_S00.fits'\n",
      " '/gpfs/slac/lsst/fs3/g/data/jobHarness/jh_stage-test/LCA-10134_Cryostat/LCA-10134_Cryostat-0001/6843D/BOT_acq/v0/48047/ccob_nm960_95.425_-306.505_004/MC_C_20191027_001419_R30_S00.fits']\n"
     ]
    },
    {
     "name": "stderr",
     "output_type": "stream",
     "text": [
      "../ccob_qe_data.py:84: ResourceWarning: unclosed file <_io.FileIO name='/home/combet/tmp_9rafts/tmp.fits' mode='rb' closefd=True>\n",
      "  mosaic, amp_coord = u.make_ccd_2d_array(tmp_file, gains=self.gains, biasfile=self.biasfile)\n"
     ]
    },
    {
     "name": "stdout",
     "output_type": "stream",
     "text": [
      "23.629698996655517 14.95983277591973 17.330301003344484 25.08016722408027\n",
      "40.96 40.04\n",
      "(4004, 4096)\n",
      "40.04\n",
      "40.96\n",
      "Averaging the following files:\n",
      "\n",
      "['/gpfs/slac/lsst/fs3/g/data/jobHarness/jh_stage-test/LCA-10134_Cryostat/LCA-10134_Cryostat-0001/6843D/BOT_acq/v0/48047/ccob_nm960_75.275_-243.745_270/MC_C_20191027_001685_R30_S01.fits'\n",
      " '/gpfs/slac/lsst/fs3/g/data/jobHarness/jh_stage-test/LCA-10134_Cryostat/LCA-10134_Cryostat-0001/6843D/BOT_acq/v0/48047/ccob_nm960_75.275_-243.745_271/MC_C_20191027_001686_R30_S01.fits'\n",
      " '/gpfs/slac/lsst/fs3/g/data/jobHarness/jh_stage-test/LCA-10134_Cryostat/LCA-10134_Cryostat-0001/6843D/BOT_acq/v0/48047/ccob_nm960_75.275_-243.745_272/MC_C_20191027_001687_R30_S01.fits'\n",
      " '/gpfs/slac/lsst/fs3/g/data/jobHarness/jh_stage-test/LCA-10134_Cryostat/LCA-10134_Cryostat-0001/6843D/BOT_acq/v0/48047/ccob_nm960_75.275_-243.745_273/MC_C_20191027_001688_R30_S01.fits'\n",
      " '/gpfs/slac/lsst/fs3/g/data/jobHarness/jh_stage-test/LCA-10134_Cryostat/LCA-10134_Cryostat-0001/6843D/BOT_acq/v0/48047/ccob_nm960_75.275_-243.745_274/MC_C_20191027_001689_R30_S01.fits']\n"
     ]
    },
    {
     "name": "stderr",
     "output_type": "stream",
     "text": [
      "../ccob_qe_data.py:84: ResourceWarning: unclosed file <_io.FileIO name='/home/combet/tmp_9rafts/tmp.fits' mode='rb' closefd=True>\n",
      "  mosaic, amp_coord = u.make_ccd_2d_array(tmp_file, gains=self.gains, biasfile=self.biasfile)\n"
     ]
    },
    {
     "name": "stdout",
     "output_type": "stream",
     "text": [
      "3.1496989966554794 34.979832775919725 37.81030100334452 5.060167224080279\n",
      "40.96 40.040000000000006\n",
      "(4004, 4096)\n",
      "40.040000000000006\n",
      "40.96\n",
      "Averaging the following files:\n",
      "\n",
      "['/gpfs/slac/lsst/fs3/g/data/jobHarness/jh_stage-test/LCA-10134_Cryostat/LCA-10134_Cryostat-0001/6843D/BOT_acq/v0/48047/ccob_nm960_75.275_-264.225_240/MC_C_20191027_001655_R30_S01.fits'\n",
      " '/gpfs/slac/lsst/fs3/g/data/jobHarness/jh_stage-test/LCA-10134_Cryostat/LCA-10134_Cryostat-0001/6843D/BOT_acq/v0/48047/ccob_nm960_75.275_-264.225_241/MC_C_20191027_001656_R30_S01.fits'\n",
      " '/gpfs/slac/lsst/fs3/g/data/jobHarness/jh_stage-test/LCA-10134_Cryostat/LCA-10134_Cryostat-0001/6843D/BOT_acq/v0/48047/ccob_nm960_75.275_-264.225_242/MC_C_20191027_001657_R30_S01.fits'\n",
      " '/gpfs/slac/lsst/fs3/g/data/jobHarness/jh_stage-test/LCA-10134_Cryostat/LCA-10134_Cryostat-0001/6843D/BOT_acq/v0/48047/ccob_nm960_75.275_-264.225_243/MC_C_20191027_001658_R30_S01.fits'\n",
      " '/gpfs/slac/lsst/fs3/g/data/jobHarness/jh_stage-test/LCA-10134_Cryostat/LCA-10134_Cryostat-0001/6843D/BOT_acq/v0/48047/ccob_nm960_75.275_-264.225_244/MC_C_20191027_001659_R30_S01.fits']\n"
     ]
    },
    {
     "name": "stderr",
     "output_type": "stream",
     "text": [
      "../ccob_qe_data.py:84: ResourceWarning: unclosed file <_io.FileIO name='/home/combet/tmp_9rafts/tmp.fits' mode='rb' closefd=True>\n",
      "  mosaic, amp_coord = u.make_ccd_2d_array(tmp_file, gains=self.gains, biasfile=self.biasfile)\n"
     ]
    },
    {
     "name": "stdout",
     "output_type": "stream",
     "text": [
      "23.629698996655517 34.979832775919725 17.330301003344484 5.060167224080279\n",
      "40.96 40.040000000000006\n",
      "(4004, 4096)\n",
      "40.040000000000006\n",
      "40.96\n",
      "Averaging the following files:\n",
      "\n",
      "['/gpfs/slac/lsst/fs3/g/data/jobHarness/jh_stage-test/LCA-10134_Cryostat/LCA-10134_Cryostat-0001/6843D/BOT_acq/v0/48047/ccob_nm960_85.285_-253.985_210/MC_C_20191027_001625_R30_S01.fits'\n",
      " '/gpfs/slac/lsst/fs3/g/data/jobHarness/jh_stage-test/LCA-10134_Cryostat/LCA-10134_Cryostat-0001/6843D/BOT_acq/v0/48047/ccob_nm960_85.285_-253.985_211/MC_C_20191027_001626_R30_S01.fits'\n",
      " '/gpfs/slac/lsst/fs3/g/data/jobHarness/jh_stage-test/LCA-10134_Cryostat/LCA-10134_Cryostat-0001/6843D/BOT_acq/v0/48047/ccob_nm960_85.285_-253.985_212/MC_C_20191027_001627_R30_S01.fits'\n",
      " '/gpfs/slac/lsst/fs3/g/data/jobHarness/jh_stage-test/LCA-10134_Cryostat/LCA-10134_Cryostat-0001/6843D/BOT_acq/v0/48047/ccob_nm960_85.285_-253.985_213/MC_C_20191027_001628_R30_S01.fits'\n",
      " '/gpfs/slac/lsst/fs3/g/data/jobHarness/jh_stage-test/LCA-10134_Cryostat/LCA-10134_Cryostat-0001/6843D/BOT_acq/v0/48047/ccob_nm960_85.285_-253.985_214/MC_C_20191027_001629_R30_S01.fits']\n"
     ]
    },
    {
     "name": "stderr",
     "output_type": "stream",
     "text": [
      "../ccob_qe_data.py:84: ResourceWarning: unclosed file <_io.FileIO name='/home/combet/tmp_9rafts/tmp.fits' mode='rb' closefd=True>\n",
      "  mosaic, amp_coord = u.make_ccd_2d_array(tmp_file, gains=self.gains, biasfile=self.biasfile)\n"
     ]
    },
    {
     "name": "stdout",
     "output_type": "stream",
     "text": [
      "13.38969899665548 24.96983277591973 27.57030100334452 15.070167224080269\n",
      "40.96 40.04\n",
      "(4004, 4096)\n",
      "40.04\n",
      "40.96\n",
      "Averaging the following files:\n",
      "\n",
      "['/gpfs/slac/lsst/fs3/g/data/jobHarness/jh_stage-test/LCA-10134_Cryostat/LCA-10134_Cryostat-0001/6843D/BOT_acq/v0/48047/ccob_nm960_95.295_-243.745_180/MC_C_20191027_001595_R30_S01.fits'\n",
      " '/gpfs/slac/lsst/fs3/g/data/jobHarness/jh_stage-test/LCA-10134_Cryostat/LCA-10134_Cryostat-0001/6843D/BOT_acq/v0/48047/ccob_nm960_95.295_-243.745_181/MC_C_20191027_001596_R30_S01.fits'\n",
      " '/gpfs/slac/lsst/fs3/g/data/jobHarness/jh_stage-test/LCA-10134_Cryostat/LCA-10134_Cryostat-0001/6843D/BOT_acq/v0/48047/ccob_nm960_95.295_-243.745_182/MC_C_20191027_001597_R30_S01.fits'\n",
      " '/gpfs/slac/lsst/fs3/g/data/jobHarness/jh_stage-test/LCA-10134_Cryostat/LCA-10134_Cryostat-0001/6843D/BOT_acq/v0/48047/ccob_nm960_95.295_-243.745_183/MC_C_20191027_001598_R30_S01.fits'\n",
      " '/gpfs/slac/lsst/fs3/g/data/jobHarness/jh_stage-test/LCA-10134_Cryostat/LCA-10134_Cryostat-0001/6843D/BOT_acq/v0/48047/ccob_nm960_95.295_-243.745_184/MC_C_20191027_001599_R30_S01.fits']\n"
     ]
    },
    {
     "name": "stderr",
     "output_type": "stream",
     "text": [
      "../ccob_qe_data.py:84: ResourceWarning: unclosed file <_io.FileIO name='/home/combet/tmp_9rafts/tmp.fits' mode='rb' closefd=True>\n",
      "  mosaic, amp_coord = u.make_ccd_2d_array(tmp_file, gains=self.gains, biasfile=self.biasfile)\n"
     ]
    },
    {
     "name": "stdout",
     "output_type": "stream",
     "text": [
      "3.1496989966554794 14.95983277591973 37.81030100334452 25.08016722408027\n",
      "40.96 40.04\n",
      "(4004, 4096)\n",
      "40.04\n",
      "40.96\n",
      "Averaging the following files:\n",
      "\n",
      "['/gpfs/slac/lsst/fs3/g/data/jobHarness/jh_stage-test/LCA-10134_Cryostat/LCA-10134_Cryostat-0001/6843D/BOT_acq/v0/48047/ccob_nm960_95.295_-264.225_150/MC_C_20191027_001565_R30_S01.fits'\n",
      " '/gpfs/slac/lsst/fs3/g/data/jobHarness/jh_stage-test/LCA-10134_Cryostat/LCA-10134_Cryostat-0001/6843D/BOT_acq/v0/48047/ccob_nm960_95.295_-264.225_151/MC_C_20191027_001566_R30_S01.fits'\n",
      " '/gpfs/slac/lsst/fs3/g/data/jobHarness/jh_stage-test/LCA-10134_Cryostat/LCA-10134_Cryostat-0001/6843D/BOT_acq/v0/48047/ccob_nm960_95.295_-264.225_152/MC_C_20191027_001567_R30_S01.fits'\n",
      " '/gpfs/slac/lsst/fs3/g/data/jobHarness/jh_stage-test/LCA-10134_Cryostat/LCA-10134_Cryostat-0001/6843D/BOT_acq/v0/48047/ccob_nm960_95.295_-264.225_153/MC_C_20191027_001568_R30_S01.fits'\n",
      " '/gpfs/slac/lsst/fs3/g/data/jobHarness/jh_stage-test/LCA-10134_Cryostat/LCA-10134_Cryostat-0001/6843D/BOT_acq/v0/48047/ccob_nm960_95.295_-264.225_154/MC_C_20191027_001569_R30_S01.fits']\n"
     ]
    },
    {
     "name": "stderr",
     "output_type": "stream",
     "text": [
      "../ccob_qe_data.py:84: ResourceWarning: unclosed file <_io.FileIO name='/home/combet/tmp_9rafts/tmp.fits' mode='rb' closefd=True>\n",
      "  mosaic, amp_coord = u.make_ccd_2d_array(tmp_file, gains=self.gains, biasfile=self.biasfile)\n"
     ]
    },
    {
     "name": "stdout",
     "output_type": "stream",
     "text": [
      "23.629698996655517 14.95983277591973 17.330301003344484 25.08016722408027\n",
      "40.96 40.04\n",
      "(4004, 4096)\n",
      "40.04\n",
      "40.96\n",
      "Averaging the following files:\n",
      "\n",
      "['/gpfs/slac/lsst/fs3/g/data/jobHarness/jh_stage-test/LCA-10134_Cryostat/LCA-10134_Cryostat-0001/6843D/BOT_acq/v0/48047/ccob_nm960_75.225_-201.475_420/MC_C_20191027_001835_R30_S02.fits'\n",
      " '/gpfs/slac/lsst/fs3/g/data/jobHarness/jh_stage-test/LCA-10134_Cryostat/LCA-10134_Cryostat-0001/6843D/BOT_acq/v0/48047/ccob_nm960_75.225_-201.475_421/MC_C_20191027_001836_R30_S02.fits'\n",
      " '/gpfs/slac/lsst/fs3/g/data/jobHarness/jh_stage-test/LCA-10134_Cryostat/LCA-10134_Cryostat-0001/6843D/BOT_acq/v0/48047/ccob_nm960_75.225_-201.475_422/MC_C_20191027_001837_R30_S02.fits'\n",
      " '/gpfs/slac/lsst/fs3/g/data/jobHarness/jh_stage-test/LCA-10134_Cryostat/LCA-10134_Cryostat-0001/6843D/BOT_acq/v0/48047/ccob_nm960_75.225_-201.475_423/MC_C_20191027_001838_R30_S02.fits'\n",
      " '/gpfs/slac/lsst/fs3/g/data/jobHarness/jh_stage-test/LCA-10134_Cryostat/LCA-10134_Cryostat-0001/6843D/BOT_acq/v0/48047/ccob_nm960_75.225_-201.475_424/MC_C_20191027_001839_R30_S02.fits']\n"
     ]
    },
    {
     "name": "stderr",
     "output_type": "stream",
     "text": [
      "../ccob_qe_data.py:84: ResourceWarning: unclosed file <_io.FileIO name='/home/combet/tmp_9rafts/tmp.fits' mode='rb' closefd=True>\n",
      "  mosaic, amp_coord = u.make_ccd_2d_array(tmp_file, gains=self.gains, biasfile=self.biasfile)\n"
     ]
    },
    {
     "name": "stdout",
     "output_type": "stream",
     "text": [
      "3.149698996655516 34.97983277591974 37.810301003344485 5.06016722408026\n",
      "40.96 40.04\n",
      "(4004, 4096)\n",
      "40.04\n",
      "40.96\n",
      "Averaging the following files:\n",
      "\n",
      "['/gpfs/slac/lsst/fs3/g/data/jobHarness/jh_stage-test/LCA-10134_Cryostat/LCA-10134_Cryostat-0001/6843D/BOT_acq/v0/48047/ccob_nm960_75.225_-221.955_390/MC_C_20191027_001805_R30_S02.fits'\n",
      " '/gpfs/slac/lsst/fs3/g/data/jobHarness/jh_stage-test/LCA-10134_Cryostat/LCA-10134_Cryostat-0001/6843D/BOT_acq/v0/48047/ccob_nm960_75.225_-221.955_391/MC_C_20191027_001806_R30_S02.fits'\n",
      " '/gpfs/slac/lsst/fs3/g/data/jobHarness/jh_stage-test/LCA-10134_Cryostat/LCA-10134_Cryostat-0001/6843D/BOT_acq/v0/48047/ccob_nm960_75.225_-221.955_392/MC_C_20191027_001807_R30_S02.fits'\n",
      " '/gpfs/slac/lsst/fs3/g/data/jobHarness/jh_stage-test/LCA-10134_Cryostat/LCA-10134_Cryostat-0001/6843D/BOT_acq/v0/48047/ccob_nm960_75.225_-221.955_393/MC_C_20191027_001808_R30_S02.fits'\n",
      " '/gpfs/slac/lsst/fs3/g/data/jobHarness/jh_stage-test/LCA-10134_Cryostat/LCA-10134_Cryostat-0001/6843D/BOT_acq/v0/48047/ccob_nm960_75.225_-221.955_394/MC_C_20191027_001809_R30_S02.fits']\n"
     ]
    },
    {
     "name": "stderr",
     "output_type": "stream",
     "text": [
      "../ccob_qe_data.py:84: ResourceWarning: unclosed file <_io.FileIO name='/home/combet/tmp_9rafts/tmp.fits' mode='rb' closefd=True>\n",
      "  mosaic, amp_coord = u.make_ccd_2d_array(tmp_file, gains=self.gains, biasfile=self.biasfile)\n"
     ]
    },
    {
     "name": "stdout",
     "output_type": "stream",
     "text": [
      "23.629698996655517 34.97983277591974 17.330301003344484 5.06016722408026\n",
      "40.96 40.04\n",
      "(4004, 4096)\n",
      "40.04\n",
      "40.96\n",
      "Averaging the following files:\n",
      "\n",
      "['/gpfs/slac/lsst/fs3/g/data/jobHarness/jh_stage-test/LCA-10134_Cryostat/LCA-10134_Cryostat-0001/6843D/BOT_acq/v0/48047/ccob_nm960_85.235_-211.715_360/MC_C_20191027_001775_R30_S02.fits'\n",
      " '/gpfs/slac/lsst/fs3/g/data/jobHarness/jh_stage-test/LCA-10134_Cryostat/LCA-10134_Cryostat-0001/6843D/BOT_acq/v0/48047/ccob_nm960_85.235_-211.715_361/MC_C_20191027_001776_R30_S02.fits'\n",
      " '/gpfs/slac/lsst/fs3/g/data/jobHarness/jh_stage-test/LCA-10134_Cryostat/LCA-10134_Cryostat-0001/6843D/BOT_acq/v0/48047/ccob_nm960_85.235_-211.715_362/MC_C_20191027_001777_R30_S02.fits'\n",
      " '/gpfs/slac/lsst/fs3/g/data/jobHarness/jh_stage-test/LCA-10134_Cryostat/LCA-10134_Cryostat-0001/6843D/BOT_acq/v0/48047/ccob_nm960_85.235_-211.715_363/MC_C_20191027_001778_R30_S02.fits'\n",
      " '/gpfs/slac/lsst/fs3/g/data/jobHarness/jh_stage-test/LCA-10134_Cryostat/LCA-10134_Cryostat-0001/6843D/BOT_acq/v0/48047/ccob_nm960_85.235_-211.715_364/MC_C_20191027_001779_R30_S02.fits']\n"
     ]
    },
    {
     "name": "stderr",
     "output_type": "stream",
     "text": [
      "../ccob_qe_data.py:84: ResourceWarning: unclosed file <_io.FileIO name='/home/combet/tmp_9rafts/tmp.fits' mode='rb' closefd=True>\n",
      "  mosaic, amp_coord = u.make_ccd_2d_array(tmp_file, gains=self.gains, biasfile=self.biasfile)\n"
     ]
    },
    {
     "name": "stdout",
     "output_type": "stream",
     "text": [
      "13.389698996655516 24.96983277591973 27.570301003344486 15.070167224080269\n",
      "40.96 40.04\n",
      "(4004, 4096)\n",
      "40.04\n",
      "40.96000000000001\n",
      "Averaging the following files:\n",
      "\n",
      "['/gpfs/slac/lsst/fs3/g/data/jobHarness/jh_stage-test/LCA-10134_Cryostat/LCA-10134_Cryostat-0001/6843D/BOT_acq/v0/48047/ccob_nm960_95.245_-201.475_330/MC_C_20191027_001745_R30_S02.fits'\n",
      " '/gpfs/slac/lsst/fs3/g/data/jobHarness/jh_stage-test/LCA-10134_Cryostat/LCA-10134_Cryostat-0001/6843D/BOT_acq/v0/48047/ccob_nm960_95.245_-201.475_331/MC_C_20191027_001746_R30_S02.fits'\n",
      " '/gpfs/slac/lsst/fs3/g/data/jobHarness/jh_stage-test/LCA-10134_Cryostat/LCA-10134_Cryostat-0001/6843D/BOT_acq/v0/48047/ccob_nm960_95.245_-201.475_332/MC_C_20191027_001747_R30_S02.fits'\n",
      " '/gpfs/slac/lsst/fs3/g/data/jobHarness/jh_stage-test/LCA-10134_Cryostat/LCA-10134_Cryostat-0001/6843D/BOT_acq/v0/48047/ccob_nm960_95.245_-201.475_333/MC_C_20191027_001748_R30_S02.fits'\n",
      " '/gpfs/slac/lsst/fs3/g/data/jobHarness/jh_stage-test/LCA-10134_Cryostat/LCA-10134_Cryostat-0001/6843D/BOT_acq/v0/48047/ccob_nm960_95.245_-201.475_334/MC_C_20191027_001749_R30_S02.fits']\n"
     ]
    },
    {
     "name": "stderr",
     "output_type": "stream",
     "text": [
      "../ccob_qe_data.py:84: ResourceWarning: unclosed file <_io.FileIO name='/home/combet/tmp_9rafts/tmp.fits' mode='rb' closefd=True>\n",
      "  mosaic, amp_coord = u.make_ccd_2d_array(tmp_file, gains=self.gains, biasfile=self.biasfile)\n"
     ]
    },
    {
     "name": "stdout",
     "output_type": "stream",
     "text": [
      "3.149698996655516 14.95983277591973 37.810301003344485 25.08016722408027\n",
      "40.96 40.04\n",
      "(4004, 4096)\n",
      "40.04\n",
      "40.96\n",
      "Averaging the following files:\n",
      "\n",
      "['/gpfs/slac/lsst/fs3/g/data/jobHarness/jh_stage-test/LCA-10134_Cryostat/LCA-10134_Cryostat-0001/6843D/BOT_acq/v0/48047/ccob_nm960_95.245_-221.955_300/MC_C_20191027_001715_R30_S02.fits'\n",
      " '/gpfs/slac/lsst/fs3/g/data/jobHarness/jh_stage-test/LCA-10134_Cryostat/LCA-10134_Cryostat-0001/6843D/BOT_acq/v0/48047/ccob_nm960_95.245_-221.955_301/MC_C_20191027_001716_R30_S02.fits'\n",
      " '/gpfs/slac/lsst/fs3/g/data/jobHarness/jh_stage-test/LCA-10134_Cryostat/LCA-10134_Cryostat-0001/6843D/BOT_acq/v0/48047/ccob_nm960_95.245_-221.955_302/MC_C_20191027_001717_R30_S02.fits'\n",
      " '/gpfs/slac/lsst/fs3/g/data/jobHarness/jh_stage-test/LCA-10134_Cryostat/LCA-10134_Cryostat-0001/6843D/BOT_acq/v0/48047/ccob_nm960_95.245_-221.955_303/MC_C_20191027_001718_R30_S02.fits'\n",
      " '/gpfs/slac/lsst/fs3/g/data/jobHarness/jh_stage-test/LCA-10134_Cryostat/LCA-10134_Cryostat-0001/6843D/BOT_acq/v0/48047/ccob_nm960_95.245_-221.955_304/MC_C_20191027_001719_R30_S02.fits']\n"
     ]
    },
    {
     "name": "stderr",
     "output_type": "stream",
     "text": [
      "../ccob_qe_data.py:84: ResourceWarning: unclosed file <_io.FileIO name='/home/combet/tmp_9rafts/tmp.fits' mode='rb' closefd=True>\n",
      "  mosaic, amp_coord = u.make_ccd_2d_array(tmp_file, gains=self.gains, biasfile=self.biasfile)\n"
     ]
    },
    {
     "name": "stdout",
     "output_type": "stream",
     "text": [
      "23.629698996655517 14.95983277591973 17.330301003344484 25.08016722408027\n",
      "40.96 40.04\n",
      "(4004, 4096)\n",
      "40.04\n",
      "40.96\n",
      "Averaging the following files:\n",
      "\n",
      "['/gpfs/slac/lsst/fs3/g/data/jobHarness/jh_stage-test/LCA-10134_Cryostat/LCA-10134_Cryostat-0001/6843D/BOT_acq/v0/48047/ccob_nm960_117.675_-285.975_570/MC_C_20191027_001985_R30_S10.fits'\n",
      " '/gpfs/slac/lsst/fs3/g/data/jobHarness/jh_stage-test/LCA-10134_Cryostat/LCA-10134_Cryostat-0001/6843D/BOT_acq/v0/48047/ccob_nm960_117.675_-285.975_571/MC_C_20191027_001986_R30_S10.fits'\n",
      " '/gpfs/slac/lsst/fs3/g/data/jobHarness/jh_stage-test/LCA-10134_Cryostat/LCA-10134_Cryostat-0001/6843D/BOT_acq/v0/48047/ccob_nm960_117.675_-285.975_572/MC_C_20191027_001987_R30_S10.fits'\n",
      " '/gpfs/slac/lsst/fs3/g/data/jobHarness/jh_stage-test/LCA-10134_Cryostat/LCA-10134_Cryostat-0001/6843D/BOT_acq/v0/48047/ccob_nm960_117.675_-285.975_573/MC_C_20191027_001988_R30_S10.fits'\n",
      " '/gpfs/slac/lsst/fs3/g/data/jobHarness/jh_stage-test/LCA-10134_Cryostat/LCA-10134_Cryostat-0001/6843D/BOT_acq/v0/48047/ccob_nm960_117.675_-285.975_574/MC_C_20191027_001989_R30_S10.fits']\n"
     ]
    },
    {
     "name": "stderr",
     "output_type": "stream",
     "text": [
      "../ccob_qe_data.py:84: ResourceWarning: unclosed file <_io.FileIO name='/home/combet/tmp_9rafts/tmp.fits' mode='rb' closefd=True>\n",
      "  mosaic, amp_coord = u.make_ccd_2d_array(tmp_file, gains=self.gains, biasfile=self.biasfile)\n"
     ]
    },
    {
     "name": "stdout",
     "output_type": "stream",
     "text": [
      "3.149698996655516 34.97983277591973 37.810301003344485 5.060167224080269\n",
      "40.96 40.04\n",
      "(4004, 4096)\n",
      "40.04\n",
      "40.96\n",
      "Averaging the following files:\n",
      "\n",
      "['/gpfs/slac/lsst/fs3/g/data/jobHarness/jh_stage-test/LCA-10134_Cryostat/LCA-10134_Cryostat-0001/6843D/BOT_acq/v0/48047/ccob_nm960_117.675_-306.455_540/MC_C_20191027_001955_R30_S10.fits'\n",
      " '/gpfs/slac/lsst/fs3/g/data/jobHarness/jh_stage-test/LCA-10134_Cryostat/LCA-10134_Cryostat-0001/6843D/BOT_acq/v0/48047/ccob_nm960_117.675_-306.455_541/MC_C_20191027_001956_R30_S10.fits'\n",
      " '/gpfs/slac/lsst/fs3/g/data/jobHarness/jh_stage-test/LCA-10134_Cryostat/LCA-10134_Cryostat-0001/6843D/BOT_acq/v0/48047/ccob_nm960_117.675_-306.455_542/MC_C_20191027_001957_R30_S10.fits'\n",
      " '/gpfs/slac/lsst/fs3/g/data/jobHarness/jh_stage-test/LCA-10134_Cryostat/LCA-10134_Cryostat-0001/6843D/BOT_acq/v0/48047/ccob_nm960_117.675_-306.455_543/MC_C_20191027_001958_R30_S10.fits'\n",
      " '/gpfs/slac/lsst/fs3/g/data/jobHarness/jh_stage-test/LCA-10134_Cryostat/LCA-10134_Cryostat-0001/6843D/BOT_acq/v0/48047/ccob_nm960_117.675_-306.455_544/MC_C_20191027_001959_R30_S10.fits']\n"
     ]
    },
    {
     "name": "stderr",
     "output_type": "stream",
     "text": [
      "../ccob_qe_data.py:84: ResourceWarning: unclosed file <_io.FileIO name='/home/combet/tmp_9rafts/tmp.fits' mode='rb' closefd=True>\n",
      "  mosaic, amp_coord = u.make_ccd_2d_array(tmp_file, gains=self.gains, biasfile=self.biasfile)\n"
     ]
    },
    {
     "name": "stdout",
     "output_type": "stream",
     "text": [
      "23.62969899665548 34.97983277591973 17.33030100334452 5.060167224080269\n",
      "40.96 40.04\n",
      "(4004, 4096)\n",
      "40.04\n",
      "40.96\n",
      "Averaging the following files:\n",
      "\n",
      "['/gpfs/slac/lsst/fs3/g/data/jobHarness/jh_stage-test/LCA-10134_Cryostat/LCA-10134_Cryostat-0001/6843D/BOT_acq/v0/48047/ccob_nm960_127.685_-296.215_510/MC_C_20191027_001925_R30_S10.fits'\n",
      " '/gpfs/slac/lsst/fs3/g/data/jobHarness/jh_stage-test/LCA-10134_Cryostat/LCA-10134_Cryostat-0001/6843D/BOT_acq/v0/48047/ccob_nm960_127.685_-296.215_511/MC_C_20191027_001926_R30_S10.fits'\n",
      " '/gpfs/slac/lsst/fs3/g/data/jobHarness/jh_stage-test/LCA-10134_Cryostat/LCA-10134_Cryostat-0001/6843D/BOT_acq/v0/48047/ccob_nm960_127.685_-296.215_512/MC_C_20191027_001927_R30_S10.fits'\n",
      " '/gpfs/slac/lsst/fs3/g/data/jobHarness/jh_stage-test/LCA-10134_Cryostat/LCA-10134_Cryostat-0001/6843D/BOT_acq/v0/48047/ccob_nm960_127.685_-296.215_513/MC_C_20191027_001928_R30_S10.fits'\n",
      " '/gpfs/slac/lsst/fs3/g/data/jobHarness/jh_stage-test/LCA-10134_Cryostat/LCA-10134_Cryostat-0001/6843D/BOT_acq/v0/48047/ccob_nm960_127.685_-296.215_514/MC_C_20191027_001929_R30_S10.fits']\n"
     ]
    },
    {
     "name": "stderr",
     "output_type": "stream",
     "text": [
      "../ccob_qe_data.py:84: ResourceWarning: unclosed file <_io.FileIO name='/home/combet/tmp_9rafts/tmp.fits' mode='rb' closefd=True>\n",
      "  mosaic, amp_coord = u.make_ccd_2d_array(tmp_file, gains=self.gains, biasfile=self.biasfile)\n"
     ]
    },
    {
     "name": "stdout",
     "output_type": "stream",
     "text": [
      "13.389698996655444 24.96983277591973 27.570301003344557 15.070167224080269\n",
      "40.96 40.04\n",
      "(4004, 4096)\n",
      "40.04\n",
      "40.96\n",
      "Averaging the following files:\n",
      "\n",
      "['/gpfs/slac/lsst/fs3/g/data/jobHarness/jh_stage-test/LCA-10134_Cryostat/LCA-10134_Cryostat-0001/6843D/BOT_acq/v0/48047/ccob_nm960_137.695_-285.975_480/MC_C_20191027_001895_R30_S10.fits'\n",
      " '/gpfs/slac/lsst/fs3/g/data/jobHarness/jh_stage-test/LCA-10134_Cryostat/LCA-10134_Cryostat-0001/6843D/BOT_acq/v0/48047/ccob_nm960_137.695_-285.975_481/MC_C_20191027_001896_R30_S10.fits'\n",
      " '/gpfs/slac/lsst/fs3/g/data/jobHarness/jh_stage-test/LCA-10134_Cryostat/LCA-10134_Cryostat-0001/6843D/BOT_acq/v0/48047/ccob_nm960_137.695_-285.975_482/MC_C_20191027_001897_R30_S10.fits'\n",
      " '/gpfs/slac/lsst/fs3/g/data/jobHarness/jh_stage-test/LCA-10134_Cryostat/LCA-10134_Cryostat-0001/6843D/BOT_acq/v0/48047/ccob_nm960_137.695_-285.975_483/MC_C_20191027_001898_R30_S10.fits'\n",
      " '/gpfs/slac/lsst/fs3/g/data/jobHarness/jh_stage-test/LCA-10134_Cryostat/LCA-10134_Cryostat-0001/6843D/BOT_acq/v0/48047/ccob_nm960_137.695_-285.975_484/MC_C_20191027_001899_R30_S10.fits']\n"
     ]
    },
    {
     "name": "stderr",
     "output_type": "stream",
     "text": [
      "../ccob_qe_data.py:84: ResourceWarning: unclosed file <_io.FileIO name='/home/combet/tmp_9rafts/tmp.fits' mode='rb' closefd=True>\n",
      "  mosaic, amp_coord = u.make_ccd_2d_array(tmp_file, gains=self.gains, biasfile=self.biasfile)\n"
     ]
    },
    {
     "name": "stdout",
     "output_type": "stream",
     "text": [
      "3.149698996655516 14.95983277591973 37.810301003344485 25.08016722408027\n",
      "40.96 40.04\n",
      "(4004, 4096)\n",
      "40.04\n",
      "40.96\n",
      "Averaging the following files:\n",
      "\n",
      "['/gpfs/slac/lsst/fs3/g/data/jobHarness/jh_stage-test/LCA-10134_Cryostat/LCA-10134_Cryostat-0001/6843D/BOT_acq/v0/48047/ccob_nm960_137.695_-306.455_450/MC_C_20191027_001865_R30_S10.fits'\n",
      " '/gpfs/slac/lsst/fs3/g/data/jobHarness/jh_stage-test/LCA-10134_Cryostat/LCA-10134_Cryostat-0001/6843D/BOT_acq/v0/48047/ccob_nm960_137.695_-306.455_451/MC_C_20191027_001866_R30_S10.fits'\n",
      " '/gpfs/slac/lsst/fs3/g/data/jobHarness/jh_stage-test/LCA-10134_Cryostat/LCA-10134_Cryostat-0001/6843D/BOT_acq/v0/48047/ccob_nm960_137.695_-306.455_452/MC_C_20191027_001867_R30_S10.fits'\n",
      " '/gpfs/slac/lsst/fs3/g/data/jobHarness/jh_stage-test/LCA-10134_Cryostat/LCA-10134_Cryostat-0001/6843D/BOT_acq/v0/48047/ccob_nm960_137.695_-306.455_453/MC_C_20191027_001868_R30_S10.fits'\n",
      " '/gpfs/slac/lsst/fs3/g/data/jobHarness/jh_stage-test/LCA-10134_Cryostat/LCA-10134_Cryostat-0001/6843D/BOT_acq/v0/48047/ccob_nm960_137.695_-306.455_454/MC_C_20191027_001869_R30_S10.fits']\n"
     ]
    },
    {
     "name": "stderr",
     "output_type": "stream",
     "text": [
      "../ccob_qe_data.py:84: ResourceWarning: unclosed file <_io.FileIO name='/home/combet/tmp_9rafts/tmp.fits' mode='rb' closefd=True>\n",
      "  mosaic, amp_coord = u.make_ccd_2d_array(tmp_file, gains=self.gains, biasfile=self.biasfile)\n"
     ]
    },
    {
     "name": "stdout",
     "output_type": "stream",
     "text": [
      "23.62969899665548 14.95983277591973 17.33030100334452 25.08016722408027\n",
      "40.96 40.04\n",
      "(4004, 4096)\n",
      "40.04\n",
      "40.96\n",
      "Averaging the following files:\n",
      "\n",
      "['/gpfs/slac/lsst/fs3/g/data/jobHarness/jh_stage-test/LCA-10134_Cryostat/LCA-10134_Cryostat-0001/6843D/BOT_acq/v0/48047/ccob_nm960_117.595_-243.655_720/MC_C_20191027_002135_R30_S11.fits'\n",
      " '/gpfs/slac/lsst/fs3/g/data/jobHarness/jh_stage-test/LCA-10134_Cryostat/LCA-10134_Cryostat-0001/6843D/BOT_acq/v0/48047/ccob_nm960_117.595_-243.655_721/MC_C_20191027_002136_R30_S11.fits'\n",
      " '/gpfs/slac/lsst/fs3/g/data/jobHarness/jh_stage-test/LCA-10134_Cryostat/LCA-10134_Cryostat-0001/6843D/BOT_acq/v0/48047/ccob_nm960_117.595_-243.655_722/MC_C_20191027_002137_R30_S11.fits'\n",
      " '/gpfs/slac/lsst/fs3/g/data/jobHarness/jh_stage-test/LCA-10134_Cryostat/LCA-10134_Cryostat-0001/6843D/BOT_acq/v0/48047/ccob_nm960_117.595_-243.655_723/MC_C_20191027_002138_R30_S11.fits'\n",
      " '/gpfs/slac/lsst/fs3/g/data/jobHarness/jh_stage-test/LCA-10134_Cryostat/LCA-10134_Cryostat-0001/6843D/BOT_acq/v0/48047/ccob_nm960_117.595_-243.655_724/MC_C_20191027_002139_R30_S11.fits']\n"
     ]
    },
    {
     "name": "stderr",
     "output_type": "stream",
     "text": [
      "../ccob_qe_data.py:84: ResourceWarning: unclosed file <_io.FileIO name='/home/combet/tmp_9rafts/tmp.fits' mode='rb' closefd=True>\n",
      "  mosaic, amp_coord = u.make_ccd_2d_array(tmp_file, gains=self.gains, biasfile=self.biasfile)\n"
     ]
    },
    {
     "name": "stdout",
     "output_type": "stream",
     "text": [
      "3.149698996655516 34.97983277591973 37.810301003344485 5.060167224080269\n",
      "40.96 40.04\n",
      "(4004, 4096)\n",
      "40.04\n",
      "40.96\n",
      "Averaging the following files:\n",
      "\n",
      "['/gpfs/slac/lsst/fs3/g/data/jobHarness/jh_stage-test/LCA-10134_Cryostat/LCA-10134_Cryostat-0001/6843D/BOT_acq/v0/48047/ccob_nm960_117.595_-264.135_690/MC_C_20191027_002105_R30_S11.fits'\n",
      " '/gpfs/slac/lsst/fs3/g/data/jobHarness/jh_stage-test/LCA-10134_Cryostat/LCA-10134_Cryostat-0001/6843D/BOT_acq/v0/48047/ccob_nm960_117.595_-264.135_691/MC_C_20191027_002106_R30_S11.fits'\n",
      " '/gpfs/slac/lsst/fs3/g/data/jobHarness/jh_stage-test/LCA-10134_Cryostat/LCA-10134_Cryostat-0001/6843D/BOT_acq/v0/48047/ccob_nm960_117.595_-264.135_692/MC_C_20191027_002107_R30_S11.fits'\n",
      " '/gpfs/slac/lsst/fs3/g/data/jobHarness/jh_stage-test/LCA-10134_Cryostat/LCA-10134_Cryostat-0001/6843D/BOT_acq/v0/48047/ccob_nm960_117.595_-264.135_693/MC_C_20191027_002108_R30_S11.fits'\n",
      " '/gpfs/slac/lsst/fs3/g/data/jobHarness/jh_stage-test/LCA-10134_Cryostat/LCA-10134_Cryostat-0001/6843D/BOT_acq/v0/48047/ccob_nm960_117.595_-264.135_694/MC_C_20191027_002109_R30_S11.fits']\n"
     ]
    },
    {
     "name": "stderr",
     "output_type": "stream",
     "text": [
      "../ccob_qe_data.py:84: ResourceWarning: unclosed file <_io.FileIO name='/home/combet/tmp_9rafts/tmp.fits' mode='rb' closefd=True>\n",
      "  mosaic, amp_coord = u.make_ccd_2d_array(tmp_file, gains=self.gains, biasfile=self.biasfile)\n"
     ]
    },
    {
     "name": "stdout",
     "output_type": "stream",
     "text": [
      "23.629698996655517 34.97983277591973 17.330301003344484 5.060167224080269\n",
      "40.96 40.04\n",
      "(4004, 4096)\n",
      "40.04\n",
      "40.96\n",
      "Averaging the following files:\n",
      "\n",
      "['/gpfs/slac/lsst/fs3/g/data/jobHarness/jh_stage-test/LCA-10134_Cryostat/LCA-10134_Cryostat-0001/6843D/BOT_acq/v0/48047/ccob_nm960_127.605_-253.895_660/MC_C_20191027_002075_R30_S11.fits'\n",
      " '/gpfs/slac/lsst/fs3/g/data/jobHarness/jh_stage-test/LCA-10134_Cryostat/LCA-10134_Cryostat-0001/6843D/BOT_acq/v0/48047/ccob_nm960_127.605_-253.895_661/MC_C_20191027_002076_R30_S11.fits'\n",
      " '/gpfs/slac/lsst/fs3/g/data/jobHarness/jh_stage-test/LCA-10134_Cryostat/LCA-10134_Cryostat-0001/6843D/BOT_acq/v0/48047/ccob_nm960_127.605_-253.895_662/MC_C_20191027_002077_R30_S11.fits'\n",
      " '/gpfs/slac/lsst/fs3/g/data/jobHarness/jh_stage-test/LCA-10134_Cryostat/LCA-10134_Cryostat-0001/6843D/BOT_acq/v0/48047/ccob_nm960_127.605_-253.895_663/MC_C_20191027_002078_R30_S11.fits'\n",
      " '/gpfs/slac/lsst/fs3/g/data/jobHarness/jh_stage-test/LCA-10134_Cryostat/LCA-10134_Cryostat-0001/6843D/BOT_acq/v0/48047/ccob_nm960_127.605_-253.895_664/MC_C_20191027_002079_R30_S11.fits']\n"
     ]
    },
    {
     "name": "stderr",
     "output_type": "stream",
     "text": [
      "../ccob_qe_data.py:84: ResourceWarning: unclosed file <_io.FileIO name='/home/combet/tmp_9rafts/tmp.fits' mode='rb' closefd=True>\n",
      "  mosaic, amp_coord = u.make_ccd_2d_array(tmp_file, gains=self.gains, biasfile=self.biasfile)\n"
     ]
    },
    {
     "name": "stdout",
     "output_type": "stream",
     "text": [
      "13.389698996655516 24.96983277591973 27.570301003344486 15.070167224080269\n",
      "40.96 40.04\n",
      "(4004, 4096)\n",
      "40.04\n",
      "40.96000000000001\n",
      "Averaging the following files:\n",
      "\n",
      "['/gpfs/slac/lsst/fs3/g/data/jobHarness/jh_stage-test/LCA-10134_Cryostat/LCA-10134_Cryostat-0001/6843D/BOT_acq/v0/48047/ccob_nm960_137.615_-243.655_630/MC_C_20191027_002045_R30_S11.fits'\n",
      " '/gpfs/slac/lsst/fs3/g/data/jobHarness/jh_stage-test/LCA-10134_Cryostat/LCA-10134_Cryostat-0001/6843D/BOT_acq/v0/48047/ccob_nm960_137.615_-243.655_631/MC_C_20191027_002046_R30_S11.fits'\n",
      " '/gpfs/slac/lsst/fs3/g/data/jobHarness/jh_stage-test/LCA-10134_Cryostat/LCA-10134_Cryostat-0001/6843D/BOT_acq/v0/48047/ccob_nm960_137.615_-243.655_632/MC_C_20191027_002047_R30_S11.fits'\n",
      " '/gpfs/slac/lsst/fs3/g/data/jobHarness/jh_stage-test/LCA-10134_Cryostat/LCA-10134_Cryostat-0001/6843D/BOT_acq/v0/48047/ccob_nm960_137.615_-243.655_633/MC_C_20191027_002048_R30_S11.fits'\n",
      " '/gpfs/slac/lsst/fs3/g/data/jobHarness/jh_stage-test/LCA-10134_Cryostat/LCA-10134_Cryostat-0001/6843D/BOT_acq/v0/48047/ccob_nm960_137.615_-243.655_634/MC_C_20191027_002049_R30_S11.fits']\n"
     ]
    },
    {
     "name": "stderr",
     "output_type": "stream",
     "text": [
      "../ccob_qe_data.py:84: ResourceWarning: unclosed file <_io.FileIO name='/home/combet/tmp_9rafts/tmp.fits' mode='rb' closefd=True>\n",
      "  mosaic, amp_coord = u.make_ccd_2d_array(tmp_file, gains=self.gains, biasfile=self.biasfile)\n"
     ]
    },
    {
     "name": "stdout",
     "output_type": "stream",
     "text": [
      "3.149698996655516 14.95983277591973 37.810301003344485 25.08016722408027\n",
      "40.96 40.04\n",
      "(4004, 4096)\n",
      "40.04\n",
      "40.96\n",
      "Averaging the following files:\n",
      "\n",
      "['/gpfs/slac/lsst/fs3/g/data/jobHarness/jh_stage-test/LCA-10134_Cryostat/LCA-10134_Cryostat-0001/6843D/BOT_acq/v0/48047/ccob_nm960_137.615_-264.135_600/MC_C_20191027_002015_R30_S11.fits'\n",
      " '/gpfs/slac/lsst/fs3/g/data/jobHarness/jh_stage-test/LCA-10134_Cryostat/LCA-10134_Cryostat-0001/6843D/BOT_acq/v0/48047/ccob_nm960_137.615_-264.135_601/MC_C_20191027_002016_R30_S11.fits'\n",
      " '/gpfs/slac/lsst/fs3/g/data/jobHarness/jh_stage-test/LCA-10134_Cryostat/LCA-10134_Cryostat-0001/6843D/BOT_acq/v0/48047/ccob_nm960_137.615_-264.135_602/MC_C_20191027_002017_R30_S11.fits'\n",
      " '/gpfs/slac/lsst/fs3/g/data/jobHarness/jh_stage-test/LCA-10134_Cryostat/LCA-10134_Cryostat-0001/6843D/BOT_acq/v0/48047/ccob_nm960_137.615_-264.135_603/MC_C_20191027_002018_R30_S11.fits'\n",
      " '/gpfs/slac/lsst/fs3/g/data/jobHarness/jh_stage-test/LCA-10134_Cryostat/LCA-10134_Cryostat-0001/6843D/BOT_acq/v0/48047/ccob_nm960_137.615_-264.135_604/MC_C_20191027_002019_R30_S11.fits']\n"
     ]
    },
    {
     "name": "stderr",
     "output_type": "stream",
     "text": [
      "../ccob_qe_data.py:84: ResourceWarning: unclosed file <_io.FileIO name='/home/combet/tmp_9rafts/tmp.fits' mode='rb' closefd=True>\n",
      "  mosaic, amp_coord = u.make_ccd_2d_array(tmp_file, gains=self.gains, biasfile=self.biasfile)\n"
     ]
    },
    {
     "name": "stdout",
     "output_type": "stream",
     "text": [
      "23.629698996655517 14.95983277591973 17.330301003344484 25.08016722408027\n",
      "40.96 40.04\n",
      "(4004, 4096)\n",
      "40.04\n",
      "40.96\n",
      "Averaging the following files:\n",
      "\n",
      "['/gpfs/slac/lsst/fs3/g/data/jobHarness/jh_stage-test/LCA-10134_Cryostat/LCA-10134_Cryostat-0001/6843D/BOT_acq/v0/48047/ccob_nm960_117.495_-201.375_870/MC_C_20191027_002285_R30_S12.fits'\n",
      " '/gpfs/slac/lsst/fs3/g/data/jobHarness/jh_stage-test/LCA-10134_Cryostat/LCA-10134_Cryostat-0001/6843D/BOT_acq/v0/48047/ccob_nm960_117.495_-201.375_871/MC_C_20191027_002286_R30_S12.fits'\n",
      " '/gpfs/slac/lsst/fs3/g/data/jobHarness/jh_stage-test/LCA-10134_Cryostat/LCA-10134_Cryostat-0001/6843D/BOT_acq/v0/48047/ccob_nm960_117.495_-201.375_872/MC_C_20191027_002287_R30_S12.fits'\n",
      " '/gpfs/slac/lsst/fs3/g/data/jobHarness/jh_stage-test/LCA-10134_Cryostat/LCA-10134_Cryostat-0001/6843D/BOT_acq/v0/48047/ccob_nm960_117.495_-201.375_873/MC_C_20191027_002288_R30_S12.fits'\n",
      " '/gpfs/slac/lsst/fs3/g/data/jobHarness/jh_stage-test/LCA-10134_Cryostat/LCA-10134_Cryostat-0001/6843D/BOT_acq/v0/48047/ccob_nm960_117.495_-201.375_874/MC_C_20191027_002289_R30_S12.fits']\n"
     ]
    },
    {
     "name": "stderr",
     "output_type": "stream",
     "text": [
      "../ccob_qe_data.py:84: ResourceWarning: unclosed file <_io.FileIO name='/home/combet/tmp_9rafts/tmp.fits' mode='rb' closefd=True>\n",
      "  mosaic, amp_coord = u.make_ccd_2d_array(tmp_file, gains=self.gains, biasfile=self.biasfile)\n"
     ]
    },
    {
     "name": "stdout",
     "output_type": "stream",
     "text": [
      "3.149698996655516 34.97983277591973 37.810301003344485 5.060167224080269\n",
      "40.96 40.04\n",
      "(4004, 4096)\n",
      "40.04\n",
      "40.96\n",
      "Averaging the following files:\n",
      "\n",
      "['/gpfs/slac/lsst/fs3/g/data/jobHarness/jh_stage-test/LCA-10134_Cryostat/LCA-10134_Cryostat-0001/6843D/BOT_acq/v0/48047/ccob_nm960_117.495_-221.855_840/MC_C_20191027_002255_R30_S12.fits'\n",
      " '/gpfs/slac/lsst/fs3/g/data/jobHarness/jh_stage-test/LCA-10134_Cryostat/LCA-10134_Cryostat-0001/6843D/BOT_acq/v0/48047/ccob_nm960_117.495_-221.855_841/MC_C_20191027_002256_R30_S12.fits'\n",
      " '/gpfs/slac/lsst/fs3/g/data/jobHarness/jh_stage-test/LCA-10134_Cryostat/LCA-10134_Cryostat-0001/6843D/BOT_acq/v0/48047/ccob_nm960_117.495_-221.855_842/MC_C_20191027_002257_R30_S12.fits'\n",
      " '/gpfs/slac/lsst/fs3/g/data/jobHarness/jh_stage-test/LCA-10134_Cryostat/LCA-10134_Cryostat-0001/6843D/BOT_acq/v0/48047/ccob_nm960_117.495_-221.855_843/MC_C_20191027_002258_R30_S12.fits'\n",
      " '/gpfs/slac/lsst/fs3/g/data/jobHarness/jh_stage-test/LCA-10134_Cryostat/LCA-10134_Cryostat-0001/6843D/BOT_acq/v0/48047/ccob_nm960_117.495_-221.855_844/MC_C_20191027_002259_R30_S12.fits']\n"
     ]
    },
    {
     "name": "stderr",
     "output_type": "stream",
     "text": [
      "../ccob_qe_data.py:84: ResourceWarning: unclosed file <_io.FileIO name='/home/combet/tmp_9rafts/tmp.fits' mode='rb' closefd=True>\n",
      "  mosaic, amp_coord = u.make_ccd_2d_array(tmp_file, gains=self.gains, biasfile=self.biasfile)\n"
     ]
    },
    {
     "name": "stdout",
     "output_type": "stream",
     "text": [
      "23.629698996655517 34.97983277591973 17.330301003344484 5.060167224080269\n",
      "40.96 40.04\n",
      "(4004, 4096)\n",
      "40.04\n",
      "40.96\n",
      "Averaging the following files:\n",
      "\n",
      "['/gpfs/slac/lsst/fs3/g/data/jobHarness/jh_stage-test/LCA-10134_Cryostat/LCA-10134_Cryostat-0001/6843D/BOT_acq/v0/48047/ccob_nm960_127.505_-211.615_810/MC_C_20191027_002225_R30_S12.fits'\n",
      " '/gpfs/slac/lsst/fs3/g/data/jobHarness/jh_stage-test/LCA-10134_Cryostat/LCA-10134_Cryostat-0001/6843D/BOT_acq/v0/48047/ccob_nm960_127.505_-211.615_811/MC_C_20191027_002226_R30_S12.fits'\n",
      " '/gpfs/slac/lsst/fs3/g/data/jobHarness/jh_stage-test/LCA-10134_Cryostat/LCA-10134_Cryostat-0001/6843D/BOT_acq/v0/48047/ccob_nm960_127.505_-211.615_812/MC_C_20191027_002227_R30_S12.fits'\n",
      " '/gpfs/slac/lsst/fs3/g/data/jobHarness/jh_stage-test/LCA-10134_Cryostat/LCA-10134_Cryostat-0001/6843D/BOT_acq/v0/48047/ccob_nm960_127.505_-211.615_813/MC_C_20191027_002228_R30_S12.fits'\n",
      " '/gpfs/slac/lsst/fs3/g/data/jobHarness/jh_stage-test/LCA-10134_Cryostat/LCA-10134_Cryostat-0001/6843D/BOT_acq/v0/48047/ccob_nm960_127.505_-211.615_814/MC_C_20191027_002229_R30_S12.fits']\n"
     ]
    },
    {
     "name": "stderr",
     "output_type": "stream",
     "text": [
      "../ccob_qe_data.py:84: ResourceWarning: unclosed file <_io.FileIO name='/home/combet/tmp_9rafts/tmp.fits' mode='rb' closefd=True>\n",
      "  mosaic, amp_coord = u.make_ccd_2d_array(tmp_file, gains=self.gains, biasfile=self.biasfile)\n"
     ]
    },
    {
     "name": "stdout",
     "output_type": "stream",
     "text": [
      "13.389698996655516 24.96983277591973 27.570301003344486 15.070167224080269\n",
      "40.96 40.04\n",
      "(4004, 4096)\n",
      "40.04\n",
      "40.96000000000001\n",
      "Averaging the following files:\n",
      "\n",
      "['/gpfs/slac/lsst/fs3/g/data/jobHarness/jh_stage-test/LCA-10134_Cryostat/LCA-10134_Cryostat-0001/6843D/BOT_acq/v0/48047/ccob_nm960_137.515_-201.375_780/MC_C_20191027_002195_R30_S12.fits'\n",
      " '/gpfs/slac/lsst/fs3/g/data/jobHarness/jh_stage-test/LCA-10134_Cryostat/LCA-10134_Cryostat-0001/6843D/BOT_acq/v0/48047/ccob_nm960_137.515_-201.375_781/MC_C_20191027_002196_R30_S12.fits'\n",
      " '/gpfs/slac/lsst/fs3/g/data/jobHarness/jh_stage-test/LCA-10134_Cryostat/LCA-10134_Cryostat-0001/6843D/BOT_acq/v0/48047/ccob_nm960_137.515_-201.375_782/MC_C_20191027_002197_R30_S12.fits'\n",
      " '/gpfs/slac/lsst/fs3/g/data/jobHarness/jh_stage-test/LCA-10134_Cryostat/LCA-10134_Cryostat-0001/6843D/BOT_acq/v0/48047/ccob_nm960_137.515_-201.375_783/MC_C_20191027_002198_R30_S12.fits'\n",
      " '/gpfs/slac/lsst/fs3/g/data/jobHarness/jh_stage-test/LCA-10134_Cryostat/LCA-10134_Cryostat-0001/6843D/BOT_acq/v0/48047/ccob_nm960_137.515_-201.375_784/MC_C_20191027_002199_R30_S12.fits']\n"
     ]
    },
    {
     "name": "stderr",
     "output_type": "stream",
     "text": [
      "../ccob_qe_data.py:84: ResourceWarning: unclosed file <_io.FileIO name='/home/combet/tmp_9rafts/tmp.fits' mode='rb' closefd=True>\n",
      "  mosaic, amp_coord = u.make_ccd_2d_array(tmp_file, gains=self.gains, biasfile=self.biasfile)\n"
     ]
    },
    {
     "name": "stdout",
     "output_type": "stream",
     "text": [
      "3.149698996655516 14.95983277591975 37.810301003344485 25.080167224080252\n",
      "40.96 40.040000000000006\n",
      "(4004, 4096)\n",
      "40.040000000000006\n",
      "40.96\n",
      "Averaging the following files:\n",
      "\n",
      "['/gpfs/slac/lsst/fs3/g/data/jobHarness/jh_stage-test/LCA-10134_Cryostat/LCA-10134_Cryostat-0001/6843D/BOT_acq/v0/48047/ccob_nm960_137.515_-221.855_750/MC_C_20191027_002165_R30_S12.fits'\n",
      " '/gpfs/slac/lsst/fs3/g/data/jobHarness/jh_stage-test/LCA-10134_Cryostat/LCA-10134_Cryostat-0001/6843D/BOT_acq/v0/48047/ccob_nm960_137.515_-221.855_751/MC_C_20191027_002166_R30_S12.fits'\n",
      " '/gpfs/slac/lsst/fs3/g/data/jobHarness/jh_stage-test/LCA-10134_Cryostat/LCA-10134_Cryostat-0001/6843D/BOT_acq/v0/48047/ccob_nm960_137.515_-221.855_752/MC_C_20191027_002167_R30_S12.fits'\n",
      " '/gpfs/slac/lsst/fs3/g/data/jobHarness/jh_stage-test/LCA-10134_Cryostat/LCA-10134_Cryostat-0001/6843D/BOT_acq/v0/48047/ccob_nm960_137.515_-221.855_753/MC_C_20191027_002168_R30_S12.fits'\n",
      " '/gpfs/slac/lsst/fs3/g/data/jobHarness/jh_stage-test/LCA-10134_Cryostat/LCA-10134_Cryostat-0001/6843D/BOT_acq/v0/48047/ccob_nm960_137.515_-221.855_754/MC_C_20191027_002169_R30_S12.fits']\n"
     ]
    },
    {
     "name": "stderr",
     "output_type": "stream",
     "text": [
      "../ccob_qe_data.py:84: ResourceWarning: unclosed file <_io.FileIO name='/home/combet/tmp_9rafts/tmp.fits' mode='rb' closefd=True>\n",
      "  mosaic, amp_coord = u.make_ccd_2d_array(tmp_file, gains=self.gains, biasfile=self.biasfile)\n"
     ]
    },
    {
     "name": "stdout",
     "output_type": "stream",
     "text": [
      "23.629698996655517 14.95983277591975 17.330301003344484 25.080167224080252\n",
      "40.96 40.040000000000006\n",
      "(4004, 4096)\n",
      "40.040000000000006\n",
      "40.96\n",
      "Averaging the following files:\n",
      "\n",
      "['/gpfs/slac/lsst/fs3/g/data/jobHarness/jh_stage-test/LCA-10134_Cryostat/LCA-10134_Cryostat-0001/6843D/BOT_acq/v0/48047/ccob_nm960_159.955_-285.845_1020/MC_C_20191027_002435_R30_S20.fits'\n",
      " '/gpfs/slac/lsst/fs3/g/data/jobHarness/jh_stage-test/LCA-10134_Cryostat/LCA-10134_Cryostat-0001/6843D/BOT_acq/v0/48047/ccob_nm960_159.955_-285.845_1021/MC_C_20191027_002436_R30_S20.fits'\n",
      " '/gpfs/slac/lsst/fs3/g/data/jobHarness/jh_stage-test/LCA-10134_Cryostat/LCA-10134_Cryostat-0001/6843D/BOT_acq/v0/48047/ccob_nm960_159.955_-285.845_1022/MC_C_20191027_002437_R30_S20.fits'\n",
      " '/gpfs/slac/lsst/fs3/g/data/jobHarness/jh_stage-test/LCA-10134_Cryostat/LCA-10134_Cryostat-0001/6843D/BOT_acq/v0/48047/ccob_nm960_159.955_-285.845_1023/MC_C_20191027_002438_R30_S20.fits'\n",
      " '/gpfs/slac/lsst/fs3/g/data/jobHarness/jh_stage-test/LCA-10134_Cryostat/LCA-10134_Cryostat-0001/6843D/BOT_acq/v0/48047/ccob_nm960_159.955_-285.845_1024/MC_C_20191027_002439_R30_S20.fits']\n"
     ]
    },
    {
     "name": "stderr",
     "output_type": "stream",
     "text": [
      "../ccob_qe_data.py:84: ResourceWarning: unclosed file <_io.FileIO name='/home/combet/tmp_9rafts/tmp.fits' mode='rb' closefd=True>\n",
      "  mosaic, amp_coord = u.make_ccd_2d_array(tmp_file, gains=self.gains, biasfile=self.biasfile)\n"
     ]
    },
    {
     "name": "stdout",
     "output_type": "stream",
     "text": [
      "3.149698996655552 34.97983277591971 37.81030100334445 5.0601672240802875\n",
      "40.96 40.04\n",
      "(4004, 4096)\n",
      "40.04\n",
      "40.96\n",
      "Averaging the following files:\n",
      "\n",
      "['/gpfs/slac/lsst/fs3/g/data/jobHarness/jh_stage-test/LCA-10134_Cryostat/LCA-10134_Cryostat-0001/6843D/BOT_acq/v0/48047/ccob_nm960_159.955_-306.325_990/MC_C_20191027_002405_R30_S20.fits'\n",
      " '/gpfs/slac/lsst/fs3/g/data/jobHarness/jh_stage-test/LCA-10134_Cryostat/LCA-10134_Cryostat-0001/6843D/BOT_acq/v0/48047/ccob_nm960_159.955_-306.325_991/MC_C_20191027_002406_R30_S20.fits'\n",
      " '/gpfs/slac/lsst/fs3/g/data/jobHarness/jh_stage-test/LCA-10134_Cryostat/LCA-10134_Cryostat-0001/6843D/BOT_acq/v0/48047/ccob_nm960_159.955_-306.325_992/MC_C_20191027_002407_R30_S20.fits'\n",
      " '/gpfs/slac/lsst/fs3/g/data/jobHarness/jh_stage-test/LCA-10134_Cryostat/LCA-10134_Cryostat-0001/6843D/BOT_acq/v0/48047/ccob_nm960_159.955_-306.325_993/MC_C_20191027_002408_R30_S20.fits'\n",
      " '/gpfs/slac/lsst/fs3/g/data/jobHarness/jh_stage-test/LCA-10134_Cryostat/LCA-10134_Cryostat-0001/6843D/BOT_acq/v0/48047/ccob_nm960_159.955_-306.325_994/MC_C_20191027_002409_R30_S20.fits']\n"
     ]
    },
    {
     "name": "stderr",
     "output_type": "stream",
     "text": [
      "../ccob_qe_data.py:84: ResourceWarning: unclosed file <_io.FileIO name='/home/combet/tmp_9rafts/tmp.fits' mode='rb' closefd=True>\n",
      "  mosaic, amp_coord = u.make_ccd_2d_array(tmp_file, gains=self.gains, biasfile=self.biasfile)\n"
     ]
    },
    {
     "name": "stdout",
     "output_type": "stream",
     "text": [
      "23.629698996655517 34.97983277591971 17.330301003344484 5.0601672240802875\n",
      "40.96 40.04\n",
      "(4004, 4096)\n",
      "40.04\n",
      "40.96\n",
      "Averaging the following files:\n",
      "\n",
      "['/gpfs/slac/lsst/fs3/g/data/jobHarness/jh_stage-test/LCA-10134_Cryostat/LCA-10134_Cryostat-0001/6843D/BOT_acq/v0/48047/ccob_nm960_169.965_-296.085_960/MC_C_20191027_002375_R30_S20.fits'\n",
      " '/gpfs/slac/lsst/fs3/g/data/jobHarness/jh_stage-test/LCA-10134_Cryostat/LCA-10134_Cryostat-0001/6843D/BOT_acq/v0/48047/ccob_nm960_169.965_-296.085_961/MC_C_20191027_002376_R30_S20.fits'\n",
      " '/gpfs/slac/lsst/fs3/g/data/jobHarness/jh_stage-test/LCA-10134_Cryostat/LCA-10134_Cryostat-0001/6843D/BOT_acq/v0/48047/ccob_nm960_169.965_-296.085_962/MC_C_20191027_002377_R30_S20.fits'\n",
      " '/gpfs/slac/lsst/fs3/g/data/jobHarness/jh_stage-test/LCA-10134_Cryostat/LCA-10134_Cryostat-0001/6843D/BOT_acq/v0/48047/ccob_nm960_169.965_-296.085_963/MC_C_20191027_002378_R30_S20.fits'\n",
      " '/gpfs/slac/lsst/fs3/g/data/jobHarness/jh_stage-test/LCA-10134_Cryostat/LCA-10134_Cryostat-0001/6843D/BOT_acq/v0/48047/ccob_nm960_169.965_-296.085_964/MC_C_20191027_002379_R30_S20.fits']\n"
     ]
    },
    {
     "name": "stderr",
     "output_type": "stream",
     "text": [
      "../ccob_qe_data.py:84: ResourceWarning: unclosed file <_io.FileIO name='/home/combet/tmp_9rafts/tmp.fits' mode='rb' closefd=True>\n",
      "  mosaic, amp_coord = u.make_ccd_2d_array(tmp_file, gains=self.gains, biasfile=self.biasfile)\n"
     ]
    },
    {
     "name": "stdout",
     "output_type": "stream",
     "text": [
      "13.38969899665548 24.96983277591973 27.57030100334452 15.070167224080269\n",
      "40.96 40.04\n",
      "(4004, 4096)\n",
      "40.04\n",
      "40.96\n",
      "Averaging the following files:\n",
      "\n",
      "['/gpfs/slac/lsst/fs3/g/data/jobHarness/jh_stage-test/LCA-10134_Cryostat/LCA-10134_Cryostat-0001/6843D/BOT_acq/v0/48047/ccob_nm960_179.975_-285.845_930/MC_C_20191027_002345_R30_S20.fits'\n",
      " '/gpfs/slac/lsst/fs3/g/data/jobHarness/jh_stage-test/LCA-10134_Cryostat/LCA-10134_Cryostat-0001/6843D/BOT_acq/v0/48047/ccob_nm960_179.975_-285.845_931/MC_C_20191027_002346_R30_S20.fits'\n",
      " '/gpfs/slac/lsst/fs3/g/data/jobHarness/jh_stage-test/LCA-10134_Cryostat/LCA-10134_Cryostat-0001/6843D/BOT_acq/v0/48047/ccob_nm960_179.975_-285.845_932/MC_C_20191027_002347_R30_S20.fits'\n",
      " '/gpfs/slac/lsst/fs3/g/data/jobHarness/jh_stage-test/LCA-10134_Cryostat/LCA-10134_Cryostat-0001/6843D/BOT_acq/v0/48047/ccob_nm960_179.975_-285.845_933/MC_C_20191027_002348_R30_S20.fits'\n",
      " '/gpfs/slac/lsst/fs3/g/data/jobHarness/jh_stage-test/LCA-10134_Cryostat/LCA-10134_Cryostat-0001/6843D/BOT_acq/v0/48047/ccob_nm960_179.975_-285.845_934/MC_C_20191027_002349_R30_S20.fits']\n"
     ]
    },
    {
     "name": "stderr",
     "output_type": "stream",
     "text": [
      "../ccob_qe_data.py:84: ResourceWarning: unclosed file <_io.FileIO name='/home/combet/tmp_9rafts/tmp.fits' mode='rb' closefd=True>\n",
      "  mosaic, amp_coord = u.make_ccd_2d_array(tmp_file, gains=self.gains, biasfile=self.biasfile)\n"
     ]
    },
    {
     "name": "stdout",
     "output_type": "stream",
     "text": [
      "3.149698996655552 14.95983277591973 37.81030100334445 25.08016722408027\n",
      "40.96 40.04\n",
      "(4004, 4096)\n",
      "40.04\n",
      "40.96\n",
      "Averaging the following files:\n",
      "\n",
      "['/gpfs/slac/lsst/fs3/g/data/jobHarness/jh_stage-test/LCA-10134_Cryostat/LCA-10134_Cryostat-0001/6843D/BOT_acq/v0/48047/ccob_nm960_179.975_-306.325_900/MC_C_20191027_002315_R30_S20.fits'\n",
      " '/gpfs/slac/lsst/fs3/g/data/jobHarness/jh_stage-test/LCA-10134_Cryostat/LCA-10134_Cryostat-0001/6843D/BOT_acq/v0/48047/ccob_nm960_179.975_-306.325_901/MC_C_20191027_002316_R30_S20.fits'\n",
      " '/gpfs/slac/lsst/fs3/g/data/jobHarness/jh_stage-test/LCA-10134_Cryostat/LCA-10134_Cryostat-0001/6843D/BOT_acq/v0/48047/ccob_nm960_179.975_-306.325_902/MC_C_20191027_002317_R30_S20.fits'\n",
      " '/gpfs/slac/lsst/fs3/g/data/jobHarness/jh_stage-test/LCA-10134_Cryostat/LCA-10134_Cryostat-0001/6843D/BOT_acq/v0/48047/ccob_nm960_179.975_-306.325_903/MC_C_20191027_002318_R30_S20.fits'\n",
      " '/gpfs/slac/lsst/fs3/g/data/jobHarness/jh_stage-test/LCA-10134_Cryostat/LCA-10134_Cryostat-0001/6843D/BOT_acq/v0/48047/ccob_nm960_179.975_-306.325_904/MC_C_20191027_002319_R30_S20.fits']\n"
     ]
    },
    {
     "name": "stderr",
     "output_type": "stream",
     "text": [
      "../ccob_qe_data.py:84: ResourceWarning: unclosed file <_io.FileIO name='/home/combet/tmp_9rafts/tmp.fits' mode='rb' closefd=True>\n",
      "  mosaic, amp_coord = u.make_ccd_2d_array(tmp_file, gains=self.gains, biasfile=self.biasfile)\n"
     ]
    },
    {
     "name": "stdout",
     "output_type": "stream",
     "text": [
      "23.629698996655517 14.95983277591973 17.330301003344484 25.08016722408027\n",
      "40.96 40.04\n",
      "(4004, 4096)\n",
      "40.04\n",
      "40.96\n",
      "Averaging the following files:\n",
      "\n",
      "['/gpfs/slac/lsst/fs3/g/data/jobHarness/jh_stage-test/LCA-10134_Cryostat/LCA-10134_Cryostat-0001/6843D/BOT_acq/v0/48047/ccob_nm960_159.875_-243.555_1170/MC_C_20191027_002585_R30_S21.fits'\n",
      " '/gpfs/slac/lsst/fs3/g/data/jobHarness/jh_stage-test/LCA-10134_Cryostat/LCA-10134_Cryostat-0001/6843D/BOT_acq/v0/48047/ccob_nm960_159.875_-243.555_1171/MC_C_20191027_002586_R30_S21.fits'\n",
      " '/gpfs/slac/lsst/fs3/g/data/jobHarness/jh_stage-test/LCA-10134_Cryostat/LCA-10134_Cryostat-0001/6843D/BOT_acq/v0/48047/ccob_nm960_159.875_-243.555_1172/MC_C_20191027_002587_R30_S21.fits']\n"
     ]
    },
    {
     "name": "stderr",
     "output_type": "stream",
     "text": [
      "../ccob_qe_data.py:84: ResourceWarning: unclosed file <_io.FileIO name='/home/combet/tmp_9rafts/tmp.fits' mode='rb' closefd=True>\n",
      "  mosaic, amp_coord = u.make_ccd_2d_array(tmp_file, gains=self.gains, biasfile=self.biasfile)\n"
     ]
    },
    {
     "name": "stdout",
     "output_type": "stream",
     "text": [
      "3.1496989966554794 34.97983277591973 37.81030100334452 5.060167224080269\n",
      "40.96 40.04\n",
      "(4004, 4096)\n",
      "40.04\n",
      "40.96\n",
      "Averaging the following files:\n",
      "\n",
      "['/gpfs/slac/lsst/fs3/g/data/jobHarness/jh_stage-test/LCA-10134_Cryostat/LCA-10134_Cryostat-0001/6843D/BOT_acq/v0/48047/ccob_nm960_159.875_-264.035_1140/MC_C_20191027_002555_R30_S21.fits'\n",
      " '/gpfs/slac/lsst/fs3/g/data/jobHarness/jh_stage-test/LCA-10134_Cryostat/LCA-10134_Cryostat-0001/6843D/BOT_acq/v0/48047/ccob_nm960_159.875_-264.035_1141/MC_C_20191027_002556_R30_S21.fits'\n",
      " '/gpfs/slac/lsst/fs3/g/data/jobHarness/jh_stage-test/LCA-10134_Cryostat/LCA-10134_Cryostat-0001/6843D/BOT_acq/v0/48047/ccob_nm960_159.875_-264.035_1142/MC_C_20191027_002557_R30_S21.fits'\n",
      " '/gpfs/slac/lsst/fs3/g/data/jobHarness/jh_stage-test/LCA-10134_Cryostat/LCA-10134_Cryostat-0001/6843D/BOT_acq/v0/48047/ccob_nm960_159.875_-264.035_1143/MC_C_20191027_002558_R30_S21.fits'\n",
      " '/gpfs/slac/lsst/fs3/g/data/jobHarness/jh_stage-test/LCA-10134_Cryostat/LCA-10134_Cryostat-0001/6843D/BOT_acq/v0/48047/ccob_nm960_159.875_-264.035_1144/MC_C_20191027_002559_R30_S21.fits']\n"
     ]
    },
    {
     "name": "stderr",
     "output_type": "stream",
     "text": [
      "../ccob_qe_data.py:84: ResourceWarning: unclosed file <_io.FileIO name='/home/combet/tmp_9rafts/tmp.fits' mode='rb' closefd=True>\n",
      "  mosaic, amp_coord = u.make_ccd_2d_array(tmp_file, gains=self.gains, biasfile=self.biasfile)\n"
     ]
    },
    {
     "name": "stdout",
     "output_type": "stream",
     "text": [
      "23.629698996655517 34.97983277591973 17.330301003344484 5.060167224080269\n",
      "40.96 40.04\n",
      "(4004, 4096)\n",
      "40.04\n",
      "40.96\n",
      "Averaging the following files:\n",
      "\n",
      "['/gpfs/slac/lsst/fs3/g/data/jobHarness/jh_stage-test/LCA-10134_Cryostat/LCA-10134_Cryostat-0001/6843D/BOT_acq/v0/48047/ccob_nm960_169.885_-253.795_1110/MC_C_20191027_002525_R30_S21.fits'\n",
      " '/gpfs/slac/lsst/fs3/g/data/jobHarness/jh_stage-test/LCA-10134_Cryostat/LCA-10134_Cryostat-0001/6843D/BOT_acq/v0/48047/ccob_nm960_169.885_-253.795_1111/MC_C_20191027_002526_R30_S21.fits'\n",
      " '/gpfs/slac/lsst/fs3/g/data/jobHarness/jh_stage-test/LCA-10134_Cryostat/LCA-10134_Cryostat-0001/6843D/BOT_acq/v0/48047/ccob_nm960_169.885_-253.795_1112/MC_C_20191027_002527_R30_S21.fits'\n",
      " '/gpfs/slac/lsst/fs3/g/data/jobHarness/jh_stage-test/LCA-10134_Cryostat/LCA-10134_Cryostat-0001/6843D/BOT_acq/v0/48047/ccob_nm960_169.885_-253.795_1113/MC_C_20191027_002528_R30_S21.fits'\n",
      " '/gpfs/slac/lsst/fs3/g/data/jobHarness/jh_stage-test/LCA-10134_Cryostat/LCA-10134_Cryostat-0001/6843D/BOT_acq/v0/48047/ccob_nm960_169.885_-253.795_1114/MC_C_20191027_002529_R30_S21.fits']\n"
     ]
    },
    {
     "name": "stderr",
     "output_type": "stream",
     "text": [
      "../ccob_qe_data.py:84: ResourceWarning: unclosed file <_io.FileIO name='/home/combet/tmp_9rafts/tmp.fits' mode='rb' closefd=True>\n",
      "  mosaic, amp_coord = u.make_ccd_2d_array(tmp_file, gains=self.gains, biasfile=self.biasfile)\n"
     ]
    },
    {
     "name": "stdout",
     "output_type": "stream",
     "text": [
      "13.38969899665548 24.96983277591973 27.57030100334452 15.070167224080269\n",
      "40.96 40.04\n",
      "(4004, 4096)\n",
      "40.04\n",
      "40.96\n",
      "Averaging the following files:\n",
      "\n",
      "['/gpfs/slac/lsst/fs3/g/data/jobHarness/jh_stage-test/LCA-10134_Cryostat/LCA-10134_Cryostat-0001/6843D/BOT_acq/v0/48047/ccob_nm960_179.895_-243.555_1080/MC_C_20191027_002495_R30_S21.fits'\n",
      " '/gpfs/slac/lsst/fs3/g/data/jobHarness/jh_stage-test/LCA-10134_Cryostat/LCA-10134_Cryostat-0001/6843D/BOT_acq/v0/48047/ccob_nm960_179.895_-243.555_1081/MC_C_20191027_002496_R30_S21.fits'\n",
      " '/gpfs/slac/lsst/fs3/g/data/jobHarness/jh_stage-test/LCA-10134_Cryostat/LCA-10134_Cryostat-0001/6843D/BOT_acq/v0/48047/ccob_nm960_179.895_-243.555_1082/MC_C_20191027_002497_R30_S21.fits'\n",
      " '/gpfs/slac/lsst/fs3/g/data/jobHarness/jh_stage-test/LCA-10134_Cryostat/LCA-10134_Cryostat-0001/6843D/BOT_acq/v0/48047/ccob_nm960_179.895_-243.555_1083/MC_C_20191027_002498_R30_S21.fits'\n",
      " '/gpfs/slac/lsst/fs3/g/data/jobHarness/jh_stage-test/LCA-10134_Cryostat/LCA-10134_Cryostat-0001/6843D/BOT_acq/v0/48047/ccob_nm960_179.895_-243.555_1084/MC_C_20191027_002499_R30_S21.fits']\n"
     ]
    },
    {
     "name": "stderr",
     "output_type": "stream",
     "text": [
      "../ccob_qe_data.py:84: ResourceWarning: unclosed file <_io.FileIO name='/home/combet/tmp_9rafts/tmp.fits' mode='rb' closefd=True>\n",
      "  mosaic, amp_coord = u.make_ccd_2d_array(tmp_file, gains=self.gains, biasfile=self.biasfile)\n"
     ]
    },
    {
     "name": "stdout",
     "output_type": "stream",
     "text": [
      "3.1496989966554794 14.95983277591973 37.81030100334452 25.08016722408027\n",
      "40.96 40.04\n",
      "(4004, 4096)\n",
      "40.04\n",
      "40.96\n"
     ]
    }
   ],
   "source": [
    "camera = camMapper._makeCamera()\n",
    "lct = LsstCameraTransforms(camera)\n",
    "basedir1 = '/gpfs/slac/lsst/fs3/g/data/jobHarness/jh_stage-test/LCA-10134_Cryostat/LCA-10134_Cryostat-0001/'\n",
    "basedir2 = '/gpfs/slac/lsst/fs3/g/data/jobHarness/jh_stage/LCA-10134_Cryostat/LCA-10134_Cryostat-0001/'\n",
    "\n",
    "path_to_data = {'R01': basedir1 + '6848D/BOT_acq/v0/48087/',\n",
    "                'R02': basedir1 + '6849D/BOT_acq/v0/48093/',\n",
    "                'R10': None,\n",
    "                'R11': basedir1 + '6851D/BOT_acq/v0/48108/',\n",
    "                'R12': basedir1 + '6852D/BOT_acq/v0/48113/',\n",
    "                'R20': basedir1 + '6853D/BOT_acq/v0/48118/',\n",
    "                'R21': None,\n",
    "                'R22': basedir2 + '11974/BOT_acq/v0/93868/',\n",
    "                'R30': basedir1 + '6843D/BOT_acq/v0/48047/'\n",
    "               }\n",
    "path_to_beam = '/home/combet/tmp_9rafts/60x60/'\n",
    "outdir_figs = '/home/combet/tmp_9rafts/QE_results/'\n",
    "outdir_fits = '/gpfs/slac/lsst/fs1/u/combet/DATA/CCOB_QE/'\n",
    "led_beam = 'nm960'\n",
    "led = 'nm960'\n",
    "\n",
    "model_ccdid = 'R22_S11'\n",
    "beam_model = ana.load_beam_model(path_to_beam, led_name=led_beam, ref_amp=5, ccdid=model_ccdid)\n",
    "delta_x, delta_y = ana.compute_offsets(beam_model, lct, ccdid=model_ccdid, ref_pix_x=2304, ref_pix_y=3003)\n",
    "\n",
    "raft_list = ['R12','R20', 'R22','R30']\n",
    "#raft_list = ['R01','R02','R11','R12','R20', 'R22','R30']\n",
    "#raft_list = ['R30']\n",
    "sensor_list = ['S00','S01','S02','S10','S11','S12','S20','S21','S22']\n",
    "#sensor_list = ['S21','S22']\n",
    "\n",
    "ccdid_list = sorted([raft+'_'+sensor for sensor in sensor_list for raft in raft_list])\n",
    "\n",
    "for data_ccdid in ccdid_list:\n",
    "    gainfile = '/gpfs/slac/lsst/fs3/g/data/jobHarness/jh_stage-test/LCA-10134_Cryostat/LCA-10134_Cryostat-0001/6801D/fe55_analysis_BOT/v0/47706/'+data_ccdid+'_6801D_eotest_results.fits'\n",
    "\n",
    "    raft = data_ccdid.split('_')[0]\n",
    "    data = ana.qe_data.CcobQeData(data_ccdid, led, path_to_data[raft], gainfile, biasfile=None)\n",
    "    data.find_dir()\n",
    "\n",
    "    for pos in data.pos_list:\n",
    "        data.make_avg_mosaic_at_pos(pos, '/home/combet/tmp_9rafts/')\n",
    "        mosaic = data.data[pos]['mosaic']\n",
    "        bbox = ana.define_model_bbox(beam_model, mosaic, data.lct, pos, delta_x, delta_y)\n",
    "\n",
    "        xarr = np.linspace(bbox[0],bbox[1],mosaic.shape[0])\n",
    "        yarr = np.linspace(bbox[2],bbox[3],mosaic.shape[1])\n",
    "        tmp = beam_model.beam_image['f_interp'](xarr, yarr) # interp works in cam coordinates\n",
    "        tmp = np.flip(np.flip(tmp,axis=0),axis=1) # invert the model in x and in y \n",
    "        model_eotestDef = np.flip(tmp.T, axis=1) # beam model followinf EOTest convention\n",
    "        model_normalised = model_eotestDef/np.max(model_eotestDef.flatten())\n",
    "        qe = mosaic/model_normalised\n",
    "#        qe = mosaic/model_eotestDef\n",
    "        qe_norm = qe / np.mean(qe.flatten())\n",
    "\n",
    "        outfile = outdir_fits+'fits/QE_'+data_ccdid+'_'+led+'_'+pos+'.fits'\n",
    "        amp_coord = data.data[pos]['amp_coord']\n",
    "        ana.make_fits(qe,amp_coord, outfile, data.template_file)\n",
    "\n",
    "#        figfile = outdir_figs+'figs/QE_'+data_ccdid+'_'+led+'_'+pos+'_from_'+led_beam+'_norm.png'\n",
    "        figfile = outdir_figs+'figs/QE_'+data_ccdid+'_'+led+'_'+pos+'_norm.png'\n",
    "        ana.plot_results(qe_norm, model_normalised, mosaic, data_ccdid, data.lct, pos, delta_x, delta_y,figfile)\n",
    "\n"
   ]
  },
  {
   "cell_type": "code",
   "execution_count": null,
   "metadata": {},
   "outputs": [],
   "source": [
    "pos"
   ]
  },
  {
   "cell_type": "code",
   "execution_count": null,
   "metadata": {},
   "outputs": [],
   "source": [
    "import lsst.eotest.sensor as sensorTest\n",
    "import lsst.eotest.raft as eotest_raft\n",
    "import lsst.eotest.image_utils as imutils\n",
    "from lsst.eotest.sensor.EOTestPlots import cmap_range\n",
    "import numpy as np\n",
    "import glob\n",
    "import matplotlib.pyplot as plt\n",
    "import matplotlib"
   ]
  },
  {
   "cell_type": "code",
   "execution_count": null,
   "metadata": {},
   "outputs": [],
   "source": [
    "def plot(dd, title=None, cmap=plt.cm.hot, nsig=5, figsize=(10, 10),\n",
    "             binsize=10, flipx=True, textcolor='c', annotation='',\n",
    "             rotate180=False):\n",
    "        \"\"\"\n",
    "        Render the raft mosaic.\n",
    "        Parameters\n",
    "        ----------\n",
    "        title : str, optional\n",
    "            The plot title. If None (default), then build the title\n",
    "            from the RAFTNAME and MONOWL primary header keyword values.\n",
    "        cmap : matplotlib.colors.Colormap, optional\n",
    "            The color map to use. Default: matplotlib.pyplot.cm.hot.\n",
    "        nsig : float, optional\n",
    "            The n-sigma value for the sigma clipping used to determine\n",
    "            the pixel value range over which the color map is mapped.\n",
    "        figsize : (float, float), optional\n",
    "            The width x height size of the figure in inches. Default: (10, 10).\n",
    "        binsize : int, optional\n",
    "            Rebin the plotted image data by binsize*binsize,\n",
    "            averging over the coarser bin.  Default: 10\n",
    "        flipx : bool, optional\n",
    "            Flip full raft mosaic in x so that parity of image matches\n",
    "            LCA-13381. Default: True\n",
    "        textcolor : str, optional\n",
    "            Color of the text for the segment and sensor labeling.\n",
    "            Default: 'c' (cyan)\n",
    "        annotation : str, optional\n",
    "            Description of the plot, e.g., pixel units (ADU or e-),\n",
    "            gain-corrected, bias-subtracted.  Default: ''\n",
    "        rotate180 : bool [False]\n",
    "            Flag to rotate the mosaic by 180 degrees to match the\n",
    "            orientation of the focalplane mosiacs created for the\n",
    "            BOT-level plots.\n",
    "        \"\"\"\n",
    "        plt.rcParams['figure.figsize'] = figsize\n",
    "        fig = plt.figure()\n",
    "        ax = fig.add_subplot(1, 1, 1)\n",
    "        output_array = imutils.rebin_array(dd.image_array, binsize,\n",
    "                                           use_mean=True)\n",
    "        if flipx:\n",
    "            output_array = output_array[:, ::-1]\n",
    "        if rotate180:\n",
    "            ny, nx = output_array.shape\n",
    "            rotated_array = np.zeros((nx, ny), dtype=output_array.dtype)\n",
    "            for j in range(ny):\n",
    "                rotated_array[:, ny-1-j] = output_array[::-1, j]\n",
    "            output_array = rotated_array\n",
    "        image = ax.imshow(output_array, interpolation='nearest', cmap=cmap)\n",
    "        # Set range and normalization of color map based on sigma-clip\n",
    "        # of pixel values.\n",
    "        vmin, vmax = cmap_range(output_array, nsig=nsig)\n",
    "        norm = matplotlib.colors.Normalize(vmin=vmin, vmax=vmax)\n",
    "        image.set_norm(norm)\n",
    "        if title is None:\n",
    "            title = \"%s, %i nm\" % (dd.raft_name, dd.wl)\n",
    "        ax.set_title(title)\n",
    "        fig.colorbar(image)\n",
    "        # Turn off ticks and tick labels for x- and y-axes.\n",
    "        plt.tick_params(axis='both', which='both',\n",
    "                        top='off', bottom='off', left='off', right='off',\n",
    "                        labelbottom='off', labelleft='off')\n",
    "        # Label segments by sensor bay and segment number.\n",
    "        for slot in dd.fits_files:\n",
    "            seg_coords = list(dd._amp_coords[slot].values())[-8]\n",
    "            xmin, xmax, ymin, ymax = seg_coords\n",
    "            xx = float(xmax + xmin)/2./float(dd.nx)\n",
    "            if flipx:\n",
    "                xx = 1 - xx\n",
    "            yy = 1. - (float(ymax - ymin)*0.05 + ymin)/float(dd.ny)\n",
    "            if rotate180:\n",
    "                xx = 1 - xx - 7*np.abs(xmax - xmin)/float(dd.nx)\n",
    "                yy = 1 - yy + 1.9*np.abs(ymax - ymin)/float(dd.ny)\n",
    "            plt.annotate('%s' % slot,\n",
    "                         (xx, yy), xycoords='axes fraction',\n",
    "                         size='x-small', horizontalalignment='center',\n",
    "                         verticalalignment='center', color=textcolor)\n",
    "            for amp, seg_coords in list(dd._amp_coords[slot].items()):\n",
    "                xmin, xmax, ymin, ymax = seg_coords\n",
    "                xx = float(xmax + xmin)/2./float(dd.nx)\n",
    "                if flipx:\n",
    "                    xx = 1. - xx\n",
    "                if amp <= 8:\n",
    "                    yy = 1. - (float(ymax - ymin)*0.85 + ymin)/float(dd.ny)\n",
    "                else:\n",
    "                    yy = 1. - (float(ymax - ymin)*0.15 + ymin)/float(dd.ny)\n",
    "                if rotate180:\n",
    "                    xx = 1 - xx\n",
    "                    yy = 1 - yy\n",
    "                plt.annotate('%s' % imutils.channelIds[amp],\n",
    "                             (xx, yy), xycoords='axes fraction',\n",
    "                             size='x-small', horizontalalignment='center',\n",
    "                             verticalalignment='center', color=textcolor)\n",
    "        plt.annotate(annotation, (1, -0.1), xycoords='axes fraction',\n",
    "                     horizontalalignment='right', verticalalignment='bottom')\n",
    "        return fig"
   ]
  },
  {
   "cell_type": "code",
   "execution_count": null,
   "metadata": {},
   "outputs": [],
   "source": [
    "raft = 'R22'\n",
    "slot_names=['S00','S01','S02','S10','S11','S12','S20','S21','S22']\n",
    "led = 'blue'\n",
    "#slot = slot_names[0]\n",
    "#sorted(glob.glob(f'/gpfs/slac/lsst/fs1/u/combet/DATA/CCOB_QE/fits/QE_{raft}_{slot}_{led}*'))[2]\n",
    "#[(glob.glob(f'/gpfs/slac/lsst/fs1/u/combet/DATA/CCOB_QE/fits/QE_{raft}_{slot}_{led}*')[2])[0] for slot in slot_names]\n",
    "fits_files_dict ={slot : sorted(glob.glob(f'/gpfs/slac/lsst/fs1/u/combet/DATA/CCOB_QE/fits/QE_{raft}_{slot}_{led}*'))[2] for slot in slot_names}\n",
    "fits_files_dict"
   ]
  },
  {
   "cell_type": "code",
   "execution_count": null,
   "metadata": {},
   "outputs": [],
   "source": [
    "dd = eotest_raft.RaftMosaic(fits_files_dict)"
   ]
  },
  {
   "cell_type": "code",
   "execution_count": null,
   "metadata": {},
   "outputs": [],
   "source": [
    "raft_name = dd.raft_name.split('_')[1]"
   ]
  },
  {
   "cell_type": "code",
   "execution_count": null,
   "metadata": {},
   "outputs": [],
   "source": [
    "tmp = plot(dd,rotate180=True, nsig=4, title=f'CCOB composite flat - {led} - {raft} ({raft_name})')"
   ]
  },
  {
   "cell_type": "code",
   "execution_count": null,
   "metadata": {},
   "outputs": [],
   "source": [
    "outdir_figs = '/home/combet/tmp_9rafts/QE_results/figs/'\n",
    "tmp.savefig(outdir_figs+f'{raft}_flat_{led}.png')"
   ]
  },
  {
   "cell_type": "code",
   "execution_count": null,
   "metadata": {},
   "outputs": [],
   "source": [
    "from astropy.io import fits as fits"
   ]
  },
  {
   "cell_type": "code",
   "execution_count": null,
   "metadata": {},
   "outputs": [],
   "source": [
    "hdu = fits.open('/gpfs/slac/lsst/fs1/u/combet/DATA/CCOB_QE/fits/QE_R02_S00_blue_-286.285_-32.685.fits')"
   ]
  },
  {
   "cell_type": "code",
   "execution_count": null,
   "metadata": {},
   "outputs": [],
   "source": [
    "hdu[0].header"
   ]
  },
  {
   "cell_type": "code",
   "execution_count": null,
   "metadata": {},
   "outputs": [],
   "source": [
    "import ccob_utils as u\n",
    "f1 = '/gpfs/slac/lsst/fs1/u/combet/DATA/CCOB_QE/fits/QE_R22_S11_red_0.005_0.005.fits'\n",
    "im, dum = u.make_ccd_2d_array(f1)"
   ]
  },
  {
   "cell_type": "code",
   "execution_count": null,
   "metadata": {},
   "outputs": [],
   "source": [
    "f2 = '/gpfs/slac/lsst/fs1/u/combet/DATA/CCOB_QE/fits/QE_R22_S11_red_10.015_-10.235.fits'\n",
    "im2, dum = u.make_ccd_2d_array(f2)"
   ]
  },
  {
   "cell_type": "code",
   "execution_count": null,
   "metadata": {},
   "outputs": [],
   "source": [
    "import scipy\n",
    "#residuals = (im-im2)*100/im\n",
    "residuals = scipy.ndimage.filters.gaussian_filter((im-im2)/im, 1, mode='constant')\n",
    "plt.imshow(residuals, vmin=-0.002, vmax=0.002)\n",
    "plt.colorbar()"
   ]
  },
  {
   "cell_type": "code",
   "execution_count": null,
   "metadata": {},
   "outputs": [],
   "source": []
  }
 ],
 "metadata": {
  "kernelspec": {
   "display_name": "Python 3",
   "language": "python",
   "name": "python3"
  },
  "language_info": {
   "codemirror_mode": {
    "name": "ipython",
    "version": 3
   },
   "file_extension": ".py",
   "mimetype": "text/x-python",
   "name": "python",
   "nbconvert_exporter": "python",
   "pygments_lexer": "ipython3",
   "version": "3.7.2"
  }
 },
 "nbformat": 4,
 "nbformat_minor": 2
}
