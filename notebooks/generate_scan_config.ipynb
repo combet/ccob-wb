{
 "cells": [
  {
   "cell_type": "code",
   "execution_count": 127,
   "metadata": {},
   "outputs": [],
   "source": [
    "import numpy as np\n",
    "from lsst.obs.lsst.cameraTransforms import LsstCameraTransforms\n",
    "from lsst.obs.lsst import LsstCamMapper as camMapper\n",
    "%matplotlib ipympl"
   ]
  },
  {
   "cell_type": "code",
   "execution_count": 138,
   "metadata": {},
   "outputs": [
    {
     "data": {
      "text/plain": [
       "'ITL-3800C-040'"
      ]
     },
     "execution_count": 138,
     "metadata": {},
     "output_type": "execute_result"
    }
   ],
   "source": [
    "raft = 'R10'\n",
    "sensor = 'S01'\n",
    "reb = 'Reb1'\n",
    "ccdid = raft + '_' + sensor\n",
    "camera = camMapper._makeCamera()\n",
    "lct = LsstCameraTransforms(camera)\n",
    "det = lct.getDetector(ccdid)\n",
    "det.getSerial()"
   ]
  },
  {
   "cell_type": "markdown",
   "metadata": {},
   "source": [
    "### Define the center of the scan as the center of Segment 14 of the central CCD\n",
    "Finding where the center of Segment 14 of the CCD is in focal plane coordinates.\n",
    "Note that (xcam, ycam) = (yfp, xfp) because of the different conventions"
   ]
  },
  {
   "cell_type": "code",
   "execution_count": 151,
   "metadata": {},
   "outputs": [],
   "source": [
    "ycenter, xcenter = lct.ccdPixelToFocalMm(2304,3003,ccdid)\n",
    "#ycenter, xcenter = lct.ccdPixelToFocalMm(0,0,ccdid)"
   ]
  },
  {
   "cell_type": "code",
   "execution_count": 152,
   "metadata": {},
   "outputs": [
    {
     "data": {
      "text/plain": [
       "(-158.885, -251.80500000000004)"
      ]
     },
     "execution_count": 152,
     "metadata": {},
     "output_type": "execute_result"
    }
   ],
   "source": [
    "xcenter, ycenter"
   ]
  },
  {
   "cell_type": "markdown",
   "metadata": {},
   "source": [
    "### Define the scan parameters: Delta_x, Delta_y, N_x, N_y\n",
    "From now on, working in camera coordinate system"
   ]
  },
  {
   "cell_type": "code",
   "execution_count": 141,
   "metadata": {},
   "outputs": [],
   "source": [
    "Delta_x = 80 # mm\n",
    "Delta_y = 80 # mm\n",
    "N_x = 12\n",
    "N_y = 12"
   ]
  },
  {
   "cell_type": "code",
   "execution_count": 142,
   "metadata": {},
   "outputs": [
    {
     "name": "stdout",
     "output_type": "stream",
     "text": [
      "-198.885 -118.88499999999999 -291.80500000000006 -211.80500000000004\n"
     ]
    }
   ],
   "source": [
    "xmin = xcenter - Delta_x / 2.\n",
    "xmax = xcenter + Delta_x / 2.\n",
    "ymin = ycenter - Delta_y / 2.\n",
    "ymax = ycenter + Delta_y / 2.\n",
    "print(xmin, xmax, ymin, ymax)"
   ]
  },
  {
   "cell_type": "code",
   "execution_count": 143,
   "metadata": {},
   "outputs": [],
   "source": [
    "xarr = np.linspace(xmin, xmax, N_x)\n",
    "yarr = np.linspace(ymin, ymax, N_y)\n",
    "#print(xarr, yarr)"
   ]
  },
  {
   "cell_type": "code",
   "execution_count": 144,
   "metadata": {},
   "outputs": [],
   "source": [
    "xall = np.repeat(xarr, N_y)\n",
    "yall = np.broadcast_to(yarr, (N_y, N_x)).flatten()"
   ]
  },
  {
   "cell_type": "code",
   "execution_count": 145,
   "metadata": {},
   "outputs": [
    {
     "data": {
      "text/plain": [
       "[('uv', 0.1, 0.1),\n",
       " ('blue', 0.006, 0.25),\n",
       " ('red', 0.009, 0.25),\n",
       " ('nm750', 0.01, 0.45),\n",
       " ('nm850', 0.01, 0.3),\n",
       " ('nm960', 0.01, 0.6)]"
      ]
     },
     "execution_count": 145,
     "metadata": {},
     "output_type": "execute_result"
    }
   ],
   "source": [
    "led = ['uv', 'blue', 'red', 'nm750', 'nm850', 'nm960']\n",
    "current = [0.1, 0.006, 0.009, 0.01, 0.01, 0.01]\n",
    "exp_time = [0.1, 0.25, 0.25, 0.45, 0.3, 0.6]\n",
    "led_config = list(zip(led, current, exp_time))\n",
    "led_config"
   ]
  },
  {
   "cell_type": "code",
   "execution_count": 146,
   "metadata": {},
   "outputs": [
    {
     "data": {
      "text/plain": [
       "'ccob_12x12_R10_S01_nm960.cfg'"
      ]
     },
     "execution_count": 146,
     "metadata": {},
     "output_type": "execute_result"
    }
   ],
   "source": [
    "led_number = 5\n",
    "np.savetxt('tmp.txt', list(zip(xall, yall)),fmt='%.3f', delimiter=('  '))\n",
    "config_filename = 'ccob_'+str(N_x)+'x'+str(N_y)+'_'+raft+'_'+sensor+'_'+led[led_number]+'.cfg'\n",
    "config_filename"
   ]
  },
  {
   "cell_type": "code",
   "execution_count": 147,
   "metadata": {},
   "outputs": [],
   "source": [
    "with open('tmp.txt', 'r') as istr:\n",
    "    with open(config_filename, 'w') as ostr:\n",
    "        print('[ACQUIRE]', file=ostr)\n",
    "        print('bias', file=ostr)\n",
    "        print('ccob', file=ostr)\n",
    "        print('bias\\n', file=ostr)\n",
    "        print('[BIAS]', file=ostr)\n",
    "        print('COUNT=10\\n', file=ostr)\n",
    "        print('[CCOB]', file=ostr)\n",
    "        print('BCOUNT = 0', file=ostr)\n",
    "        print('IMCOUNT = 1', file=ostr)\n",
    "        print('XOFFSET = 0', file=ostr)\n",
    "        print('YOFFSET = 0\\n', file=ostr)\n",
    "        print('LOCATIONS = '+raft+'/'+reb+'\\n', file=ostr)\n",
    "        print('expose = '+ str(led_config[led_number][0])+' '\n",
    "              + str(led_config[led_number][1])+' '+str(led_config[led_number][2])+'\\n', file=ostr)\n",
    "        for i,line in enumerate(istr):\n",
    "            if i==0: \n",
    "                line = 'point =  ' + line.rstrip('\\n') + ','\n",
    "            elif i!=len(xall)-1:\n",
    "                line = '         ' + line.rstrip('\\n') + ','\n",
    "            else:\n",
    "                line = '         ' + line.rstrip('\\n')\n",
    "            print(line, file=ostr)"
   ]
  },
  {
   "cell_type": "code",
   "execution_count": null,
   "metadata": {},
   "outputs": [],
   "source": []
  }
 ],
 "metadata": {
  "kernelspec": {
   "display_name": "Python 3",
   "language": "python",
   "name": "python3"
  },
  "language_info": {
   "codemirror_mode": {
    "name": "ipython",
    "version": 3
   },
   "file_extension": ".py",
   "mimetype": "text/x-python",
   "name": "python",
   "nbconvert_exporter": "python",
   "pygments_lexer": "ipython3",
   "version": "3.7.2"
  }
 },
 "nbformat": 4,
 "nbformat_minor": 2
}
